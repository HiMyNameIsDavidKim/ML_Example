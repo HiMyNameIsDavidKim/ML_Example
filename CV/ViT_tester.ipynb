{
 "cells": [
  {
   "cell_type": "markdown",
   "metadata": {},
   "source": [
    "# Tester"
   ]
  },
  {
   "cell_type": "code",
   "execution_count": 1,
   "metadata": {
    "ExecuteTime": {
     "end_time": "2023-06-13T02:18:23.609687Z",
     "start_time": "2023-06-13T02:18:22.704336Z"
    }
   },
   "outputs": [
    {
     "name": "stdout",
     "output_type": "stream",
     "text": [
      "[0, 1, 2, 3]\n",
      "['NVIDIA GeForce RTX 3090', 'NVIDIA GeForce RTX 3090', 'NVIDIA GeForce RTX 3090', 'NVIDIA GeForce RTX 3090']\n"
     ]
    }
   ],
   "source": [
    "import timm\n",
    "import torch\n",
    "import torch.nn as nn\n",
    "import torchvision.transforms as transforms\n",
    "from torch.optim import Adam\n",
    "from torch.optim.lr_scheduler import CosineAnnealingLR\n",
    "import torch.utils.data as data\n",
    "import torchvision\n",
    "from tqdm import tqdm\n",
    "import torch.nn.functional as F\n",
    "import math\n",
    "\n",
    "from vit_pooling import ViTPooling\n",
    "\n",
    "\n",
    "gpu_ids = []\n",
    "device_names = []\n",
    "if torch.cuda.is_available():\n",
    "    for gpu_id in range(torch.cuda.device_count()):\n",
    "        gpu_ids += [gpu_id]\n",
    "        device_names += [torch.cuda.get_device_name(gpu_id)]\n",
    "print(gpu_ids)\n",
    "print(device_names)\n",
    "\n",
    "if len(gpu_ids) > 1:\n",
    "    gpu = 'cuda:' + str(gpu_ids[2])  # GPU Number\n",
    "else:\n",
    "    gpu = \"cuda\" if torch.cuda.is_available() else \"cpu\""
   ]
  },
  {
   "cell_type": "code",
   "execution_count": 2,
   "metadata": {
    "ExecuteTime": {
     "end_time": "2023-06-13T02:18:23.617408Z",
     "start_time": "2023-06-13T02:18:23.612670Z"
    }
   },
   "outputs": [],
   "source": [
    "device = gpu\n",
    "model_path = './save/ViT_timm_vit_base_patch16_224_in21k_augNegative_i2012_ep8_lr0.0003.pt'\n",
    "TIMM_MODEL = 'vit_base_patch16_224_in21k'\n",
    "BATCH_SIZE = 512\n",
    "NUM_EPOCHS = 300\n",
    "NUM_WORKERS = 2\n",
    "LEARNING_RATE = 0.003\n",
    "\n",
    "IMAGE_SIZE = 224\n",
    "PATCH_SIZE = 16\n",
    "IN_CHANNELS = 3\n",
    "NUM_CLASSES = 1000\n",
    "EMBED_DIM = 768\n",
    "DEPTH = 12\n",
    "NUM_HEADS = 12"
   ]
  },
  {
   "cell_type": "code",
   "execution_count": 3,
   "metadata": {
    "ExecuteTime": {
     "end_time": "2023-06-13T02:18:28.692544Z",
     "start_time": "2023-06-13T02:18:23.619646Z"
    }
   },
   "outputs": [],
   "source": [
    "transform_train = transforms.Compose([\n",
    "    transforms.RandomResizedCrop(224),\n",
    "    transforms.ToTensor(),\n",
    "    transforms.Normalize(mean=[0.5, 0.5, 0.5], std=[0.5, 0.5, 0.5])\n",
    "])\n",
    "transform_test = transforms.Compose([\n",
    "    transforms.RandomResizedCrop(224),\n",
    "    transforms.ToTensor(),\n",
    "    transforms.Normalize(mean=[0.5, 0.5, 0.5], std=[0.5, 0.5, 0.5])\n",
    "])\n",
    "# pre_train_set = torchvision.datasets.ImageFolder('./data/ImageNet-21k', transform=transform_train)\n",
    "# pre_train_loader = data.DataLoader(pre_train_set, batch_size=BATCH_SIZE, shuffle=True, num_workers=NUM_WORKERS)\n",
    "train_set = torchvision.datasets.ImageFolder('../../YJ/ILSVRC2012/train', transform=transform_train)\n",
    "train_loader = data.DataLoader(train_set, batch_size=BATCH_SIZE, shuffle=True, num_workers=NUM_WORKERS)\n",
    "test_set = torchvision.datasets.ImageFolder('../../YJ/ILSVRC2012/val', transform=transform_test)\n",
    "test_loader = data.DataLoader(test_set, batch_size=BATCH_SIZE, shuffle=True, num_workers=NUM_WORKERS)"
   ]
  },
  {
   "cell_type": "code",
   "execution_count": 4,
   "metadata": {
    "ExecuteTime": {
     "end_time": "2023-06-13T02:18:28.708497Z",
     "start_time": "2023-06-13T02:18:28.695805Z"
    },
    "code_folding": [
     0
    ]
   },
   "outputs": [],
   "source": [
    "class TesterTimm(object):\n",
    "    def __init__(self):\n",
    "        self.model = None\n",
    "        self.optimizer = None\n",
    "        self.scheduler = None\n",
    "        self.epochs = []\n",
    "        self.losses = []\n",
    "\n",
    "    def process(self):\n",
    "        self.build_model()\n",
    "        self.eval_model()\n",
    "\n",
    "    def loss_checker(self):\n",
    "        self.build_model()\n",
    "        print(f'Steps: {len(self.epochs)}k steps')\n",
    "        [print(f'Sampling Loss: {i:.3f}') for i in self.losses]\n",
    "        \n",
    "    def build_model(self):\n",
    "        self.model = timm.create_model(TIMM_MODEL, pretrained=True).to(device)\n",
    "        self.model.num_classes = NUM_CLASSES\n",
    "        checkpoint = torch.load(model_path)\n",
    "        self.epochs = checkpoint['epochs']\n",
    "        self.model.load_state_dict(checkpoint['model'])\n",
    "        self.losses = checkpoint['losses']\n",
    "        print(f'Parameter: {sum(p.numel() for p in self.model.parameters() if p.requires_grad)}')\n",
    "        print(f'Classes: {self.model.num_classes}')\n",
    "        print(f'Epochs: {self.epochs[-1]}')\n",
    "        \n",
    "    def eval_model(self):\n",
    "        self.model.eval()\n",
    "\n",
    "        correct = 0\n",
    "        total = 0\n",
    "        with torch.no_grad():\n",
    "            for i, data in tqdm(enumerate(test_loader, 0), total=len(test_loader)):\n",
    "                images, labels = data\n",
    "                images, labels = images.to(device), labels.to(device)\n",
    "                outputs = self.model(images)\n",
    "                _, predicted = torch.max(outputs.data, 1)\n",
    "                total += labels.size(0)\n",
    "                correct += (predicted == labels).sum().item()\n",
    "        print(f'Accuracy of {len(test_set)} test images: {100 * correct / total:.2f} %')"
   ]
  },
  {
   "cell_type": "code",
   "execution_count": 5,
   "metadata": {
    "ExecuteTime": {
     "end_time": "2023-06-13T02:18:28.721735Z",
     "start_time": "2023-06-13T02:18:28.711817Z"
    }
   },
   "outputs": [],
   "source": [
    "class TesterPaper(object):\n",
    "    def __init__(self):\n",
    "        self.model = None\n",
    "        self.optimizer = None\n",
    "        self.epochs = []\n",
    "        self.losses = []\n",
    "        self.cls_token = None\n",
    "\n",
    "    def process(self):\n",
    "        self.build_model()\n",
    "        self.eval_model()\n",
    "        \n",
    "    def loss_checker(self):\n",
    "        self.build_model()\n",
    "        print(f'Steps: {len(self.epochs)}k steps')\n",
    "        [print(f'Sampling Loss: {i:.3f}') for i in self.losses]\n",
    "\n",
    "    def build_model(self):\n",
    "        self.model = ViTPooling(image_size=IMAGE_SIZE,\n",
    "                         patch_size=PATCH_SIZE,\n",
    "                         in_channels=IN_CHANNELS,\n",
    "                         num_classes=NUM_CLASSES,\n",
    "                         embed_dim=EMBED_DIM,\n",
    "                         depth=DEPTH,\n",
    "                         num_heads=NUM_HEADS,\n",
    "                         ).to(device)\n",
    "        checkpoint = torch.load(model_path)\n",
    "        self.epochs = checkpoint['epochs']\n",
    "        self.model.load_state_dict(checkpoint['model'])\n",
    "        self.losses = checkpoint['losses']\n",
    "        print(f'Parameter: {sum(p.numel() for p in self.model.parameters() if p.requires_grad)}')\n",
    "        print(f'Classes: {self.model.mlp_head.num_classes}')\n",
    "        print(f'Epochs: {self.epochs[-1]}')\n",
    "\n",
    "    def eval_model(self):\n",
    "        self.model.eval()\n",
    "\n",
    "        correct = 0\n",
    "        total = 0\n",
    "        with torch.no_grad():\n",
    "            for i, data in tqdm(enumerate(test_loader, 0), total=len(test_loader)):\n",
    "                images, labels = data\n",
    "                images, labels = images.to(device), labels.to(device)\n",
    "                outputs = self.model(images)\n",
    "                _, predicted = torch.max(outputs.data, 1)\n",
    "                total += labels.size(0)\n",
    "                correct += (predicted == labels).sum().item()\n",
    "        print(f'Accuracy of {len(test_set)} test images: {100 * correct / total:.2f} %')"
   ]
  },
  {
   "cell_type": "code",
   "execution_count": 6,
   "metadata": {},
   "outputs": [
    {
     "name": "stdout",
     "output_type": "stream",
     "text": [
      "Parameter: 102595923\n",
      "Classes: 1000\n",
      "Epochs: 8\n",
      "Steps: 160k steps\n",
      "Sampling Loss: 2.613\n",
      "Sampling Loss: 1.651\n",
      "Sampling Loss: 1.380\n",
      "Sampling Loss: 1.317\n",
      "Sampling Loss: 1.484\n",
      "Sampling Loss: 1.449\n",
      "Sampling Loss: 1.230\n",
      "Sampling Loss: 1.124\n",
      "Sampling Loss: 0.851\n",
      "Sampling Loss: 0.963\n",
      "Sampling Loss: 1.351\n",
      "Sampling Loss: 1.463\n",
      "Sampling Loss: 1.462\n",
      "Sampling Loss: 1.623\n",
      "Sampling Loss: 1.057\n",
      "Sampling Loss: 0.879\n",
      "Sampling Loss: 1.083\n",
      "Sampling Loss: 0.868\n",
      "Sampling Loss: 0.924\n",
      "Sampling Loss: 1.283\n",
      "Sampling Loss: 0.779\n",
      "Sampling Loss: 0.848\n",
      "Sampling Loss: 1.110\n",
      "Sampling Loss: 0.620\n",
      "Sampling Loss: 1.022\n",
      "Sampling Loss: 1.047\n",
      "Sampling Loss: 0.864\n",
      "Sampling Loss: 1.426\n",
      "Sampling Loss: 0.997\n",
      "Sampling Loss: 0.946\n",
      "Sampling Loss: 1.143\n",
      "Sampling Loss: 1.027\n",
      "Sampling Loss: 0.718\n",
      "Sampling Loss: 1.075\n",
      "Sampling Loss: 1.150\n",
      "Sampling Loss: 0.656\n",
      "Sampling Loss: 0.805\n",
      "Sampling Loss: 1.292\n",
      "Sampling Loss: 0.642\n",
      "Sampling Loss: 0.795\n",
      "Sampling Loss: 1.037\n",
      "Sampling Loss: 1.116\n",
      "Sampling Loss: 0.771\n",
      "Sampling Loss: 0.981\n",
      "Sampling Loss: 1.029\n",
      "Sampling Loss: 1.233\n",
      "Sampling Loss: 0.835\n",
      "Sampling Loss: 0.733\n",
      "Sampling Loss: 0.645\n",
      "Sampling Loss: 1.114\n",
      "Sampling Loss: 0.876\n",
      "Sampling Loss: 1.031\n",
      "Sampling Loss: 1.177\n",
      "Sampling Loss: 1.029\n",
      "Sampling Loss: 0.728\n",
      "Sampling Loss: 0.909\n",
      "Sampling Loss: 1.033\n",
      "Sampling Loss: 0.793\n",
      "Sampling Loss: 0.911\n",
      "Sampling Loss: 0.832\n",
      "Sampling Loss: 0.725\n",
      "Sampling Loss: 0.540\n",
      "Sampling Loss: 0.849\n",
      "Sampling Loss: 0.872\n",
      "Sampling Loss: 1.041\n",
      "Sampling Loss: 0.860\n",
      "Sampling Loss: 0.814\n",
      "Sampling Loss: 0.655\n",
      "Sampling Loss: 0.809\n",
      "Sampling Loss: 0.758\n",
      "Sampling Loss: 0.719\n",
      "Sampling Loss: 0.850\n",
      "Sampling Loss: 0.822\n",
      "Sampling Loss: 0.953\n",
      "Sampling Loss: 1.097\n",
      "Sampling Loss: 1.196\n",
      "Sampling Loss: 0.697\n",
      "Sampling Loss: 1.217\n",
      "Sampling Loss: 0.712\n",
      "Sampling Loss: 0.518\n",
      "Sampling Loss: 0.446\n",
      "Sampling Loss: 0.929\n",
      "Sampling Loss: 0.829\n",
      "Sampling Loss: 1.045\n",
      "Sampling Loss: 0.951\n",
      "Sampling Loss: 0.751\n",
      "Sampling Loss: 0.733\n",
      "Sampling Loss: 0.973\n",
      "Sampling Loss: 0.758\n",
      "Sampling Loss: 0.832\n",
      "Sampling Loss: 0.699\n",
      "Sampling Loss: 0.782\n",
      "Sampling Loss: 0.743\n",
      "Sampling Loss: 0.907\n",
      "Sampling Loss: 0.604\n",
      "Sampling Loss: 0.928\n",
      "Sampling Loss: 0.684\n",
      "Sampling Loss: 0.730\n",
      "Sampling Loss: 0.507\n",
      "Sampling Loss: 0.531\n",
      "Sampling Loss: 0.687\n",
      "Sampling Loss: 0.652\n",
      "Sampling Loss: 0.692\n",
      "Sampling Loss: 0.755\n",
      "Sampling Loss: 0.638\n",
      "Sampling Loss: 0.446\n",
      "Sampling Loss: 1.084\n",
      "Sampling Loss: 0.881\n",
      "Sampling Loss: 0.581\n",
      "Sampling Loss: 0.779\n",
      "Sampling Loss: 0.685\n",
      "Sampling Loss: 0.494\n",
      "Sampling Loss: 0.753\n",
      "Sampling Loss: 1.271\n",
      "Sampling Loss: 0.662\n",
      "Sampling Loss: 1.083\n",
      "Sampling Loss: 1.037\n",
      "Sampling Loss: 0.394\n",
      "Sampling Loss: 0.971\n",
      "Sampling Loss: 0.341\n",
      "Sampling Loss: 0.659\n",
      "Sampling Loss: 0.512\n",
      "Sampling Loss: 0.456\n",
      "Sampling Loss: 0.754\n",
      "Sampling Loss: 0.447\n",
      "Sampling Loss: 0.592\n",
      "Sampling Loss: 0.591\n",
      "Sampling Loss: 0.621\n",
      "Sampling Loss: 0.588\n",
      "Sampling Loss: 0.388\n",
      "Sampling Loss: 0.872\n",
      "Sampling Loss: 0.521\n",
      "Sampling Loss: 0.804\n",
      "Sampling Loss: 0.944\n",
      "Sampling Loss: 0.843\n",
      "Sampling Loss: 0.500\n",
      "Sampling Loss: 0.938\n",
      "Sampling Loss: 0.401\n",
      "Sampling Loss: 0.582\n",
      "Sampling Loss: 0.913\n",
      "Sampling Loss: 0.560\n",
      "Sampling Loss: 1.222\n",
      "Sampling Loss: 0.716\n",
      "Sampling Loss: 0.775\n",
      "Sampling Loss: 0.800\n",
      "Sampling Loss: 0.758\n",
      "Sampling Loss: 0.579\n",
      "Sampling Loss: 0.510\n",
      "Sampling Loss: 0.924\n",
      "Sampling Loss: 1.079\n",
      "Sampling Loss: 0.777\n",
      "Sampling Loss: 0.667\n",
      "Sampling Loss: 0.899\n",
      "Sampling Loss: 0.986\n",
      "Sampling Loss: 0.877\n",
      "Sampling Loss: 0.724\n",
      "Sampling Loss: 0.679\n",
      "Sampling Loss: 0.855\n",
      "Sampling Loss: 0.466\n",
      "Sampling Loss: 0.684\n"
     ]
    }
   ],
   "source": [
    "if __name__ == '__main__':\n",
    "    t = TesterTimm()\n",
    "    t.loss_checker()"
   ]
  },
  {
   "cell_type": "code",
   "execution_count": 7,
   "metadata": {
    "scrolled": false
   },
   "outputs": [
    {
     "name": "stdout",
     "output_type": "stream",
     "text": [
      "Parameter: 102595923\n",
      "Classes: 1000\n",
      "Epochs: 1\n"
     ]
    },
    {
     "name": "stderr",
     "output_type": "stream",
     "text": [
      "100%|██████████| 98/98 [03:19<00:00,  1.67s/it]\n"
     ]
    },
    {
     "name": "stdout",
     "output_type": "stream",
     "text": [
      "Accuracy of 50000 test images: 73.38 %\n",
      "Parameter: 102595923\n",
      "Classes: 1000\n",
      "Epochs: 2\n"
     ]
    },
    {
     "name": "stderr",
     "output_type": "stream",
     "text": [
      "100%|██████████| 98/98 [03:18<00:00,  1.72s/it]\n"
     ]
    },
    {
     "name": "stdout",
     "output_type": "stream",
     "text": [
      "Accuracy of 50000 test images: 74.65 %\n",
      "Parameter: 102595923\n",
      "Classes: 1000\n",
      "Epochs: 3\n"
     ]
    },
    {
     "name": "stderr",
     "output_type": "stream",
     "text": [
      "100%|██████████| 98/98 [03:18<00:00,  1.56s/it]\n"
     ]
    },
    {
     "name": "stdout",
     "output_type": "stream",
     "text": [
      "Accuracy of 50000 test images: 75.85 %\n",
      "Parameter: 102595923\n",
      "Classes: 1000\n",
      "Epochs: 4\n"
     ]
    },
    {
     "name": "stderr",
     "output_type": "stream",
     "text": [
      "100%|██████████| 98/98 [03:19<00:00,  1.76s/it]\n"
     ]
    },
    {
     "name": "stdout",
     "output_type": "stream",
     "text": [
      "Accuracy of 50000 test images: 76.29 %\n",
      "Parameter: 102595923\n",
      "Classes: 1000\n",
      "Epochs: 5\n"
     ]
    },
    {
     "name": "stderr",
     "output_type": "stream",
     "text": [
      "  5%|▌         | 5/98 [00:13<04:24,  2.85s/it]"
     ]
    },
    {
     "ename": "KeyboardInterrupt",
     "evalue": "",
     "output_type": "error",
     "traceback": [
      "\u001b[0;31m---------------------------------------------------------------------------\u001b[0m",
      "\u001b[0;31mKeyboardInterrupt\u001b[0m                         Traceback (most recent call last)",
      "\u001b[0;32m<ipython-input-7-2c585f98ede7>\u001b[0m in \u001b[0;36m<module>\u001b[0;34m\u001b[0m\n\u001b[1;32m      7\u001b[0m         \u001b[0;32mglobal\u001b[0m \u001b[0mmodel_path\u001b[0m\u001b[0;34m\u001b[0m\u001b[0;34m\u001b[0m\u001b[0m\n\u001b[1;32m      8\u001b[0m         \u001b[0mmodel_path\u001b[0m \u001b[0;34m=\u001b[0m \u001b[0;34mf'./save/ViT_timm_vit_base_patch16_224_in21k_augPositive_i2012_ep{i+1}_lr0.0003.pt'\u001b[0m\u001b[0;34m\u001b[0m\u001b[0;34m\u001b[0m\u001b[0m\n\u001b[0;32m----> 9\u001b[0;31m         \u001b[0mt\u001b[0m\u001b[0;34m.\u001b[0m\u001b[0mprocess\u001b[0m\u001b[0;34m(\u001b[0m\u001b[0;34m)\u001b[0m\u001b[0;34m\u001b[0m\u001b[0;34m\u001b[0m\u001b[0m\n\u001b[0m",
      "\u001b[0;32m<ipython-input-4-1372149a559c>\u001b[0m in \u001b[0;36mprocess\u001b[0;34m(self)\u001b[0m\n\u001b[1;32m      9\u001b[0m     \u001b[0;32mdef\u001b[0m \u001b[0mprocess\u001b[0m\u001b[0;34m(\u001b[0m\u001b[0mself\u001b[0m\u001b[0;34m)\u001b[0m\u001b[0;34m:\u001b[0m\u001b[0;34m\u001b[0m\u001b[0;34m\u001b[0m\u001b[0m\n\u001b[1;32m     10\u001b[0m         \u001b[0mself\u001b[0m\u001b[0;34m.\u001b[0m\u001b[0mbuild_model\u001b[0m\u001b[0;34m(\u001b[0m\u001b[0;34m)\u001b[0m\u001b[0;34m\u001b[0m\u001b[0;34m\u001b[0m\u001b[0m\n\u001b[0;32m---> 11\u001b[0;31m         \u001b[0mself\u001b[0m\u001b[0;34m.\u001b[0m\u001b[0meval_model\u001b[0m\u001b[0;34m(\u001b[0m\u001b[0;34m)\u001b[0m\u001b[0;34m\u001b[0m\u001b[0;34m\u001b[0m\u001b[0m\n\u001b[0m\u001b[1;32m     12\u001b[0m \u001b[0;34m\u001b[0m\u001b[0m\n\u001b[1;32m     13\u001b[0m     \u001b[0;32mdef\u001b[0m \u001b[0mloss_checker\u001b[0m\u001b[0;34m(\u001b[0m\u001b[0mself\u001b[0m\u001b[0;34m)\u001b[0m\u001b[0;34m:\u001b[0m\u001b[0;34m\u001b[0m\u001b[0;34m\u001b[0m\u001b[0m\n",
      "\u001b[0;32m<ipython-input-4-1372149a559c>\u001b[0m in \u001b[0;36meval_model\u001b[0;34m(self)\u001b[0m\n\u001b[1;32m     39\u001b[0m                 \u001b[0m_\u001b[0m\u001b[0;34m,\u001b[0m \u001b[0mpredicted\u001b[0m \u001b[0;34m=\u001b[0m \u001b[0mtorch\u001b[0m\u001b[0;34m.\u001b[0m\u001b[0mmax\u001b[0m\u001b[0;34m(\u001b[0m\u001b[0moutputs\u001b[0m\u001b[0;34m.\u001b[0m\u001b[0mdata\u001b[0m\u001b[0;34m,\u001b[0m \u001b[0;36m1\u001b[0m\u001b[0;34m)\u001b[0m\u001b[0;34m\u001b[0m\u001b[0;34m\u001b[0m\u001b[0m\n\u001b[1;32m     40\u001b[0m                 \u001b[0mtotal\u001b[0m \u001b[0;34m+=\u001b[0m \u001b[0mlabels\u001b[0m\u001b[0;34m.\u001b[0m\u001b[0msize\u001b[0m\u001b[0;34m(\u001b[0m\u001b[0;36m0\u001b[0m\u001b[0;34m)\u001b[0m\u001b[0;34m\u001b[0m\u001b[0;34m\u001b[0m\u001b[0m\n\u001b[0;32m---> 41\u001b[0;31m                 \u001b[0mcorrect\u001b[0m \u001b[0;34m+=\u001b[0m \u001b[0;34m(\u001b[0m\u001b[0mpredicted\u001b[0m \u001b[0;34m==\u001b[0m \u001b[0mlabels\u001b[0m\u001b[0;34m)\u001b[0m\u001b[0;34m.\u001b[0m\u001b[0msum\u001b[0m\u001b[0;34m(\u001b[0m\u001b[0;34m)\u001b[0m\u001b[0;34m.\u001b[0m\u001b[0mitem\u001b[0m\u001b[0;34m(\u001b[0m\u001b[0;34m)\u001b[0m\u001b[0;34m\u001b[0m\u001b[0;34m\u001b[0m\u001b[0m\n\u001b[0m\u001b[1;32m     42\u001b[0m         \u001b[0mprint\u001b[0m\u001b[0;34m(\u001b[0m\u001b[0;34mf'Accuracy of {len(test_set)} test images: {100 * correct / total:.2f} %'\u001b[0m\u001b[0;34m)\u001b[0m\u001b[0;34m\u001b[0m\u001b[0;34m\u001b[0m\u001b[0m\n",
      "\u001b[0;31mKeyboardInterrupt\u001b[0m: "
     ]
    }
   ],
   "source": [
    "if __name__ == '__main__':\n",
    "#     t = TesterTimm()\n",
    "#     t.process()\n",
    "\n",
    "    t = TesterTimm()\n",
    "    for i in range(12):\n",
    "        global model_path\n",
    "        model_path = f'./save/ViT_timm_vit_base_patch16_224_in21k_augNegative_i2012_ep{i+1}_lr0.0003.pt'\n",
    "        t.process()"
   ]
  },
  {
   "cell_type": "code",
   "execution_count": null,
   "metadata": {},
   "outputs": [],
   "source": [
    "# 프리 트레이닝\n",
    "# 1스텝 = 9분\n",
    "# 1에포크 = 3시간\n",
    "\n",
    "# 파인 튜닝\n",
    "# 1스텝 = 6분\n",
    "# 1에포크 = 2시간\n",
    "\n",
    "# baseline 이름 안적은거 수정해야함."
   ]
  }
 ],
 "metadata": {
  "kernelspec": {
   "display_name": "Python 3",
   "language": "python",
   "name": "python3"
  },
  "language_info": {
   "codemirror_mode": {
    "name": "ipython",
    "version": 3
   },
   "file_extension": ".py",
   "mimetype": "text/x-python",
   "name": "python",
   "nbconvert_exporter": "python",
   "pygments_lexer": "ipython3",
   "version": "3.6.9"
  }
 },
 "nbformat": 4,
 "nbformat_minor": 2
}
