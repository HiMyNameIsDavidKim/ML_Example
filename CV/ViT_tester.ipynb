{
 "cells": [
  {
   "cell_type": "markdown",
   "metadata": {},
   "source": [
    "# Tester"
   ]
  },
  {
   "cell_type": "code",
   "execution_count": 1,
   "metadata": {
    "ExecuteTime": {
     "end_time": "2023-06-13T02:18:23.609687Z",
     "start_time": "2023-06-13T02:18:22.704336Z"
    }
   },
   "outputs": [
    {
     "name": "stdout",
     "output_type": "stream",
     "text": [
      "[0, 1, 2, 3]\n",
      "['NVIDIA GeForce RTX 3090', 'NVIDIA GeForce RTX 3090', 'NVIDIA GeForce RTX 3090', 'NVIDIA GeForce RTX 3090']\n"
     ]
    }
   ],
   "source": [
    "import timm\n",
    "import torch\n",
    "import torch.nn as nn\n",
    "import torchvision.transforms as transforms\n",
    "from torch.optim import Adam, SGD\n",
    "from torch.optim.lr_scheduler import CosineAnnealingLR\n",
    "import torch.utils.data as data\n",
    "import torchvision\n",
    "from tqdm import tqdm, tqdm_notebook\n",
    "import torch.nn.functional as F\n",
    "import math\n",
    "\n",
    "from vit_pooling import ViTPooling\n",
    "from positional_enhancement import PositionalEnhanceViT, PositionalEnhanceViTv2\n",
    "\n",
    "\n",
    "gpu_ids = []\n",
    "device_names = []\n",
    "if torch.cuda.is_available():\n",
    "    for gpu_id in range(torch.cuda.device_count()):\n",
    "        gpu_ids += [gpu_id]\n",
    "        device_names += [torch.cuda.get_device_name(gpu_id)]\n",
    "print(gpu_ids)\n",
    "print(device_names)\n",
    "\n",
    "if len(gpu_ids) > 1:\n",
    "    gpu = 'cuda:' + str(gpu_ids[2])  # GPU Number\n",
    "else:\n",
    "    gpu = \"cuda\" if torch.cuda.is_available() else \"cpu\""
   ]
  },
  {
   "cell_type": "code",
   "execution_count": 2,
   "metadata": {
    "ExecuteTime": {
     "end_time": "2023-06-13T02:18:23.617408Z",
     "start_time": "2023-06-13T02:18:23.612670Z"
    }
   },
   "outputs": [],
   "source": [
    "device = gpu\n",
    "model_path = './save/ViT_timm_vit_base_patch16_224_in21k_augPositive_i2012_ep8_lr0.00125.pt'\n",
    "TIMM_MODEL = 'vit_base_patch16_224_in21k'\n",
    "BATCH_SIZE = 512\n",
    "NUM_EPOCHS = 8\n",
    "NUM_WORKERS = 2\n",
    "LEARNING_RATE = 1.25e-03\n",
    "\n",
    "IMAGE_SIZE = 224\n",
    "PATCH_SIZE = 16\n",
    "IN_CHANNELS = 3\n",
    "NUM_CLASSES = 1000\n",
    "EMBED_DIM = 768\n",
    "DEPTH = 12\n",
    "NUM_HEADS = 12"
   ]
  },
  {
   "cell_type": "code",
   "execution_count": 3,
   "metadata": {
    "ExecuteTime": {
     "end_time": "2023-06-13T02:18:28.692544Z",
     "start_time": "2023-06-13T02:18:23.619646Z"
    }
   },
   "outputs": [],
   "source": [
    "transform_train = transforms.Compose([\n",
    "    transforms.RandomResizedCrop(224),\n",
    "    transforms.ToTensor(),\n",
    "    transforms.Normalize(mean=[0.5, 0.5, 0.5], std=[0.5, 0.5, 0.5])\n",
    "])\n",
    "transform_test = transforms.Compose([\n",
    "    transforms.RandomResizedCrop(224),\n",
    "    transforms.ToTensor(),\n",
    "    transforms.Normalize(mean=[0.5, 0.5, 0.5], std=[0.5, 0.5, 0.5])\n",
    "])\n",
    "# pre_train_set = torchvision.datasets.ImageFolder('./data/ImageNet-21k', transform=transform_train)\n",
    "# pre_train_loader = data.DataLoader(pre_train_set, batch_size=BATCH_SIZE, shuffle=True, num_workers=NUM_WORKERS)\n",
    "train_set = torchvision.datasets.ImageFolder('../../YJ/ILSVRC2012/train', transform=transform_train)\n",
    "train_loader = data.DataLoader(train_set, batch_size=BATCH_SIZE, shuffle=True, num_workers=NUM_WORKERS)\n",
    "test_set = torchvision.datasets.ImageFolder('../../YJ/ILSVRC2012/val', transform=transform_test)\n",
    "test_loader = data.DataLoader(test_set, batch_size=BATCH_SIZE, shuffle=True, num_workers=NUM_WORKERS)"
   ]
  },
  {
   "cell_type": "code",
   "execution_count": 4,
   "metadata": {
    "ExecuteTime": {
     "end_time": "2023-06-13T02:18:28.708497Z",
     "start_time": "2023-06-13T02:18:28.695805Z"
    },
    "code_folding": [
     0
    ]
   },
   "outputs": [],
   "source": [
    "class TesterTimm(object):\n",
    "    def __init__(self):\n",
    "        self.model = None\n",
    "        self.optimizer = None\n",
    "        self.scheduler = None\n",
    "        self.epochs = []\n",
    "        self.losses = []\n",
    "\n",
    "    def process(self):\n",
    "        self.build_model()\n",
    "        self.eval_model()\n",
    "\n",
    "    def loss_checker(self):\n",
    "        self.build_model()\n",
    "        print(f'Steps: {len(self.epochs)}k steps')\n",
    "        [print(f'Average Loss: {i:.3f}') for i in self.losses]\n",
    "        \n",
    "    def build_model(self):\n",
    "        self.model = timm.create_model(TIMM_MODEL, pretrained=True).to(device)\n",
    "        self.model.num_classes = NUM_CLASSES\n",
    "        checkpoint = torch.load(model_path)\n",
    "        self.epochs = checkpoint['epochs']\n",
    "        self.model.load_state_dict(checkpoint['model'])\n",
    "        self.losses = checkpoint['losses']\n",
    "        print(f'Parameter: {sum(p.numel() for p in self.model.parameters() if p.requires_grad)}')\n",
    "        print(f'Classes: {self.model.num_classes}')\n",
    "        print(f'Epochs: {self.epochs[-1]}')\n",
    "        \n",
    "    def eval_model(self):\n",
    "        self.model.eval()\n",
    "\n",
    "        correct = 0\n",
    "        total = 0\n",
    "        with torch.no_grad():\n",
    "            for i, data in tqdm_notebook(enumerate(test_loader, 0), total=len(test_loader)):\n",
    "                images, labels = data\n",
    "                images, labels = images.to(device), labels.to(device)\n",
    "                outputs = self.model(images)\n",
    "                _, predicted = torch.max(outputs.data, 1)\n",
    "                total += labels.size(0)\n",
    "                correct += (predicted == labels).sum().item()\n",
    "        print(f'Accuracy of {len(test_set)} test images: {100 * correct / total:.2f} %')\n",
    "        \n",
    "    def lr_checker(self):\n",
    "        self.build_model()\n",
    "        model = self.model\n",
    "        criterion = nn.CrossEntropyLoss()\n",
    "        optimizer = SGD(model.parameters(), lr=LEARNING_RATE, momentum=0.9)\n",
    "        scheduler = CosineAnnealingLR(optimizer, T_max=NUM_EPOCHS)\n",
    "        \n",
    "        for epoch in range(NUM_EPOCHS):\n",
    "            running_loss = 0.0\n",
    "            saving_loss = 0.0\n",
    "            print(optimizer.param_groups[0]['lr'])\n",
    "            scheduler.step()"
   ]
  },
  {
   "cell_type": "code",
   "execution_count": 5,
   "metadata": {
    "ExecuteTime": {
     "end_time": "2023-06-13T02:18:28.721735Z",
     "start_time": "2023-06-13T02:18:28.711817Z"
    }
   },
   "outputs": [],
   "source": [
    "class TesterPaper(object):\n",
    "    def __init__(self):\n",
    "        self.model = None\n",
    "        self.optimizer = None\n",
    "        self.epochs = []\n",
    "        self.losses = []\n",
    "        self.cls_token = None\n",
    "\n",
    "    def process(self):\n",
    "        self.build_model()\n",
    "        self.eval_model()\n",
    "        \n",
    "    def loss_checker(self):\n",
    "        self.build_model()\n",
    "        print(f'Steps: {len(self.epochs)}k steps')\n",
    "        [print(f'Average Loss: {i:.3f}') for i in self.losses]\n",
    "\n",
    "    def build_model(self):\n",
    "        self.model = ViTPooling(image_size=IMAGE_SIZE,\n",
    "                         patch_size=PATCH_SIZE,\n",
    "                         in_channels=IN_CHANNELS,\n",
    "                         num_classes=NUM_CLASSES,\n",
    "                         embed_dim=EMBED_DIM,\n",
    "                         depth=DEPTH,\n",
    "                         num_heads=NUM_HEADS,\n",
    "                         ).to(device)\n",
    "        checkpoint = torch.load(model_path)\n",
    "        self.epochs = checkpoint['epochs']\n",
    "        self.model.load_state_dict(checkpoint['model'])\n",
    "        self.losses = checkpoint['losses']\n",
    "        print(f'Parameter: {sum(p.numel() for p in self.model.parameters() if p.requires_grad)}')\n",
    "        print(f'Classes: {self.model.mlp_head.num_classes}')\n",
    "        print(f'Epochs: {self.epochs[-1]}')\n",
    "\n",
    "    def eval_model(self):\n",
    "        self.model.eval()\n",
    "\n",
    "        correct = 0\n",
    "        total = 0\n",
    "        with torch.no_grad():\n",
    "            for i, data in tqdm_notebook(enumerate(test_loader, 0), total=len(test_loader)):\n",
    "                images, labels = data\n",
    "                images, labels = images.to(device), labels.to(device)\n",
    "                outputs = self.model(images)\n",
    "                _, predicted = torch.max(outputs.data, 1)\n",
    "                total += labels.size(0)\n",
    "                correct += (predicted == labels).sum().item()\n",
    "        print(f'Accuracy of {len(test_set)} test images: {100 * correct / total:.2f} %')"
   ]
  },
  {
   "cell_type": "code",
   "execution_count": 6,
   "metadata": {},
   "outputs": [],
   "source": [
    "class TesterPosition(object):\n",
    "    def __init__(self):\n",
    "        self.model = None\n",
    "        self.optimizer = None\n",
    "        self.scheduler = None\n",
    "        self.epochs = []\n",
    "        self.losses = []\n",
    "\n",
    "    def process(self):\n",
    "        self.build_model()\n",
    "        self.eval_model()\n",
    "\n",
    "    def loss_checker(self):\n",
    "        self.build_model()\n",
    "        print(f'Steps: {len(self.epochs)}k steps')\n",
    "        [print(f'Average Loss: {i:.3f}') for i in self.losses]\n",
    "        \n",
    "    def build_model(self):\n",
    "        self.model = PositionalEnhanceViT(NUM_CLASSES).to(device)\n",
    "        self.model.num_classes = NUM_CLASSES\n",
    "        checkpoint = torch.load(model_path)\n",
    "        self.epochs = checkpoint['epochs']\n",
    "        self.model.load_state_dict(checkpoint['model'])\n",
    "        self.losses = checkpoint['losses']\n",
    "        print(f'Parameter: {sum(p.numel() for p in self.model.parameters() if p.requires_grad)}')\n",
    "        print(f'Classes: {self.model.num_classes}')\n",
    "        print(f'Epochs: {self.epochs[-1]}')\n",
    "        \n",
    "    def eval_model(self):\n",
    "        self.model.eval()\n",
    "\n",
    "        correct = 0\n",
    "        total = 0\n",
    "        with torch.no_grad():\n",
    "            for i, data in tqdm_notebook(enumerate(test_loader, 0), total=len(test_loader)):\n",
    "                images, labels = data\n",
    "                images, labels = images.to(device), labels.to(device)\n",
    "                outputs = self.model(images)\n",
    "                _, predicted = torch.max(outputs.data, 1)\n",
    "                total += labels.size(0)\n",
    "                correct += (predicted == labels).sum().item()\n",
    "        print(f'Accuracy of {len(test_set)} test images: {100 * correct / total:.2f} %')\n",
    "        \n",
    "    def lr_checker(self):\n",
    "        self.build_model()\n",
    "        model = self.model\n",
    "        criterion = nn.CrossEntropyLoss()\n",
    "        optimizer = SGD(model.parameters(), lr=LEARNING_RATE, momentum=0.9)\n",
    "        scheduler = CosineAnnealingLR(optimizer, T_max=NUM_EPOCHS)\n",
    "        \n",
    "        for epoch in range(NUM_EPOCHS):\n",
    "            running_loss = 0.0\n",
    "            saving_loss = 0.0\n",
    "            print(optimizer.param_groups[0]['lr'])\n",
    "            scheduler.step()"
   ]
  },
  {
   "cell_type": "code",
   "execution_count": 7,
   "metadata": {},
   "outputs": [
    {
     "name": "stdout",
     "output_type": "stream",
     "text": [
      "Parameter: 102595923\n",
      "Classes: 1000\n",
      "Epochs: 8\n",
      "Steps: 160k steps\n",
      "Average Loss: 5.492\n",
      "Average Loss: 2.038\n",
      "Average Loss: 1.786\n",
      "Average Loss: 1.694\n",
      "Average Loss: 1.616\n",
      "Average Loss: 1.549\n",
      "Average Loss: 1.514\n",
      "Average Loss: 1.461\n",
      "Average Loss: 1.441\n",
      "Average Loss: 1.408\n",
      "Average Loss: 1.403\n",
      "Average Loss: 1.368\n",
      "Average Loss: 1.367\n",
      "Average Loss: 1.341\n",
      "Average Loss: 1.333\n",
      "Average Loss: 1.321\n",
      "Average Loss: 1.319\n",
      "Average Loss: 1.292\n",
      "Average Loss: 1.293\n",
      "Average Loss: 1.271\n",
      "Average Loss: 1.192\n",
      "Average Loss: 1.171\n",
      "Average Loss: 1.178\n",
      "Average Loss: 1.167\n",
      "Average Loss: 1.166\n",
      "Average Loss: 1.159\n",
      "Average Loss: 1.162\n",
      "Average Loss: 1.144\n",
      "Average Loss: 1.152\n",
      "Average Loss: 1.133\n",
      "Average Loss: 1.144\n",
      "Average Loss: 1.148\n",
      "Average Loss: 1.131\n",
      "Average Loss: 1.131\n",
      "Average Loss: 1.132\n",
      "Average Loss: 1.126\n",
      "Average Loss: 1.097\n",
      "Average Loss: 1.114\n",
      "Average Loss: 1.116\n",
      "Average Loss: 1.104\n",
      "Average Loss: 1.009\n",
      "Average Loss: 0.997\n",
      "Average Loss: 1.000\n",
      "Average Loss: 1.004\n",
      "Average Loss: 0.984\n",
      "Average Loss: 0.998\n",
      "Average Loss: 1.004\n",
      "Average Loss: 0.996\n",
      "Average Loss: 1.007\n",
      "Average Loss: 0.995\n",
      "Average Loss: 0.992\n",
      "Average Loss: 0.986\n",
      "Average Loss: 0.984\n",
      "Average Loss: 0.992\n",
      "Average Loss: 0.974\n",
      "Average Loss: 0.992\n",
      "Average Loss: 1.003\n",
      "Average Loss: 0.982\n",
      "Average Loss: 0.988\n",
      "Average Loss: 0.990\n",
      "Average Loss: 0.880\n",
      "Average Loss: 0.868\n",
      "Average Loss: 0.868\n",
      "Average Loss: 0.880\n",
      "Average Loss: 0.893\n",
      "Average Loss: 0.881\n",
      "Average Loss: 0.874\n",
      "Average Loss: 0.872\n",
      "Average Loss: 0.880\n",
      "Average Loss: 0.882\n",
      "Average Loss: 0.882\n",
      "Average Loss: 0.869\n",
      "Average Loss: 0.876\n",
      "Average Loss: 0.874\n",
      "Average Loss: 0.886\n",
      "Average Loss: 0.876\n",
      "Average Loss: 0.871\n",
      "Average Loss: 0.884\n",
      "Average Loss: 0.870\n",
      "Average Loss: 0.866\n",
      "Average Loss: 0.777\n",
      "Average Loss: 0.765\n",
      "Average Loss: 0.778\n",
      "Average Loss: 0.773\n",
      "Average Loss: 0.761\n",
      "Average Loss: 0.774\n",
      "Average Loss: 0.762\n",
      "Average Loss: 0.775\n",
      "Average Loss: 0.766\n",
      "Average Loss: 0.753\n",
      "Average Loss: 0.769\n",
      "Average Loss: 0.764\n",
      "Average Loss: 0.766\n",
      "Average Loss: 0.758\n",
      "Average Loss: 0.770\n",
      "Average Loss: 0.776\n",
      "Average Loss: 0.773\n",
      "Average Loss: 0.774\n",
      "Average Loss: 0.771\n",
      "Average Loss: 0.772\n",
      "Average Loss: 0.694\n",
      "Average Loss: 0.680\n",
      "Average Loss: 0.666\n",
      "Average Loss: 0.674\n",
      "Average Loss: 0.679\n",
      "Average Loss: 0.673\n",
      "Average Loss: 0.670\n",
      "Average Loss: 0.670\n",
      "Average Loss: 0.681\n",
      "Average Loss: 0.672\n",
      "Average Loss: 0.667\n",
      "Average Loss: 0.673\n",
      "Average Loss: 0.669\n",
      "Average Loss: 0.676\n",
      "Average Loss: 0.679\n",
      "Average Loss: 0.671\n",
      "Average Loss: 0.683\n",
      "Average Loss: 0.680\n",
      "Average Loss: 0.658\n",
      "Average Loss: 0.675\n",
      "Average Loss: 0.622\n",
      "Average Loss: 0.618\n",
      "Average Loss: 0.596\n",
      "Average Loss: 0.599\n",
      "Average Loss: 0.600\n",
      "Average Loss: 0.598\n",
      "Average Loss: 0.600\n",
      "Average Loss: 0.592\n",
      "Average Loss: 0.608\n",
      "Average Loss: 0.597\n",
      "Average Loss: 0.607\n",
      "Average Loss: 0.596\n",
      "Average Loss: 0.594\n",
      "Average Loss: 0.609\n",
      "Average Loss: 0.600\n",
      "Average Loss: 0.597\n",
      "Average Loss: 0.604\n",
      "Average Loss: 0.589\n",
      "Average Loss: 0.603\n",
      "Average Loss: 0.590\n",
      "Average Loss: 0.569\n",
      "Average Loss: 0.568\n",
      "Average Loss: 0.565\n",
      "Average Loss: 0.556\n",
      "Average Loss: 0.559\n",
      "Average Loss: 0.564\n",
      "Average Loss: 0.556\n",
      "Average Loss: 0.565\n",
      "Average Loss: 0.553\n",
      "Average Loss: 0.569\n",
      "Average Loss: 0.555\n",
      "Average Loss: 0.551\n",
      "Average Loss: 0.566\n",
      "Average Loss: 0.556\n",
      "Average Loss: 0.554\n",
      "Average Loss: 0.565\n",
      "Average Loss: 0.558\n",
      "Average Loss: 0.549\n",
      "Average Loss: 0.565\n",
      "Average Loss: 0.563\n"
     ]
    }
   ],
   "source": [
    "if __name__ == '__main__':\n",
    "    t = TesterTimm()\n",
    "    t.loss_checker()\n",
    "#     t.lr_checker()"
   ]
  },
  {
   "cell_type": "code",
   "execution_count": 8,
   "metadata": {
    "scrolled": false
   },
   "outputs": [
    {
     "name": "stdout",
     "output_type": "stream",
     "text": [
      "Parameter: 102595923\n",
      "Classes: 1000\n",
      "Epochs: 1\n"
     ]
    },
    {
     "name": "stderr",
     "output_type": "stream",
     "text": [
      "/usr/local/lib/python3.6/dist-packages/ipykernel_launcher.py:35: TqdmDeprecationWarning: This function will be removed in tqdm==5.0.0\n",
      "Please use `tqdm.notebook.tqdm` instead of `tqdm.tqdm_notebook`\n"
     ]
    },
    {
     "data": {
      "application/vnd.jupyter.widget-view+json": {
       "model_id": "28aaeea16d8944278fbdf077a847186a",
       "version_major": 2,
       "version_minor": 0
      },
      "text/plain": [
       "  0%|          | 0/98 [00:00<?, ?it/s]"
      ]
     },
     "metadata": {},
     "output_type": "display_data"
    },
    {
     "name": "stdout",
     "output_type": "stream",
     "text": [
      "Accuracy of 50000 test images: 69.73 %\n",
      "Parameter: 102595923\n",
      "Classes: 1000\n",
      "Epochs: 2\n"
     ]
    },
    {
     "data": {
      "application/vnd.jupyter.widget-view+json": {
       "model_id": "3f69c5a0be9444929aa445187352fef0",
       "version_major": 2,
       "version_minor": 0
      },
      "text/plain": [
       "  0%|          | 0/98 [00:00<?, ?it/s]"
      ]
     },
     "metadata": {},
     "output_type": "display_data"
    },
    {
     "name": "stdout",
     "output_type": "stream",
     "text": [
      "Accuracy of 50000 test images: 71.33 %\n",
      "Parameter: 102595923\n",
      "Classes: 1000\n",
      "Epochs: 3\n"
     ]
    },
    {
     "data": {
      "application/vnd.jupyter.widget-view+json": {
       "model_id": "0c0357960ea94a419860b613bdf89e7d",
       "version_major": 2,
       "version_minor": 0
      },
      "text/plain": [
       "  0%|          | 0/98 [00:00<?, ?it/s]"
      ]
     },
     "metadata": {},
     "output_type": "display_data"
    },
    {
     "name": "stdout",
     "output_type": "stream",
     "text": [
      "Accuracy of 50000 test images: 73.18 %\n",
      "Parameter: 102595923\n",
      "Classes: 1000\n",
      "Epochs: 4\n"
     ]
    },
    {
     "data": {
      "application/vnd.jupyter.widget-view+json": {
       "model_id": "fcec3b4c8c9a426cb1de42d30b26aa92",
       "version_major": 2,
       "version_minor": 0
      },
      "text/plain": [
       "  0%|          | 0/98 [00:00<?, ?it/s]"
      ]
     },
     "metadata": {},
     "output_type": "display_data"
    },
    {
     "name": "stdout",
     "output_type": "stream",
     "text": [
      "Accuracy of 50000 test images: 74.53 %\n",
      "Parameter: 102595923\n",
      "Classes: 1000\n",
      "Epochs: 5\n"
     ]
    },
    {
     "data": {
      "application/vnd.jupyter.widget-view+json": {
       "model_id": "c6187540c8ed4588942cbc5c9dce8779",
       "version_major": 2,
       "version_minor": 0
      },
      "text/plain": [
       "  0%|          | 0/98 [00:00<?, ?it/s]"
      ]
     },
     "metadata": {},
     "output_type": "display_data"
    },
    {
     "name": "stdout",
     "output_type": "stream",
     "text": [
      "Accuracy of 50000 test images: 75.55 %\n",
      "Parameter: 102595923\n",
      "Classes: 1000\n",
      "Epochs: 6\n"
     ]
    },
    {
     "data": {
      "application/vnd.jupyter.widget-view+json": {
       "model_id": "b3faed604dd8435b826c10ee6bf0a725",
       "version_major": 2,
       "version_minor": 0
      },
      "text/plain": [
       "  0%|          | 0/98 [00:00<?, ?it/s]"
      ]
     },
     "metadata": {},
     "output_type": "display_data"
    },
    {
     "name": "stdout",
     "output_type": "stream",
     "text": [
      "Accuracy of 50000 test images: 76.34 %\n",
      "Parameter: 102595923\n",
      "Classes: 1000\n",
      "Epochs: 7\n"
     ]
    },
    {
     "data": {
      "application/vnd.jupyter.widget-view+json": {
       "model_id": "fa75436b1c334aedbe72a3a2fde2ad4e",
       "version_major": 2,
       "version_minor": 0
      },
      "text/plain": [
       "  0%|          | 0/98 [00:00<?, ?it/s]"
      ]
     },
     "metadata": {},
     "output_type": "display_data"
    },
    {
     "name": "stdout",
     "output_type": "stream",
     "text": [
      "Accuracy of 50000 test images: 76.90 %\n",
      "Parameter: 102595923\n",
      "Classes: 1000\n",
      "Epochs: 8\n"
     ]
    },
    {
     "data": {
      "application/vnd.jupyter.widget-view+json": {
       "model_id": "cbc25889380e4749aab78384401413c3",
       "version_major": 2,
       "version_minor": 0
      },
      "text/plain": [
       "  0%|          | 0/98 [00:00<?, ?it/s]"
      ]
     },
     "metadata": {},
     "output_type": "display_data"
    },
    {
     "name": "stdout",
     "output_type": "stream",
     "text": [
      "Accuracy of 50000 test images: 77.38 %\n"
     ]
    }
   ],
   "source": [
    "if __name__ == '__main__':\n",
    "#     [t.process() for i in range(1)]\n",
    "\n",
    "    for i in range(8):\n",
    "        global model_path\n",
    "        model_path = f'./save/ViT_timm_vit_base_patch16_224_in21k_augPositive_i2012_ep{i+1}_lr0.00125.pt'\n",
    "        t.process()"
   ]
  },
  {
   "cell_type": "code",
   "execution_count": 9,
   "metadata": {},
   "outputs": [],
   "source": [
    "# 프리 트레이닝\n",
    "# 1스텝 = 9분\n",
    "# 1에포크 = 3시간\n",
    "\n",
    "# 파인 튜닝\n",
    "# 1스텝 = 6분\n",
    "# 1에포크 = 2시간"
   ]
  }
 ],
 "metadata": {
  "kernelspec": {
   "display_name": "Python 3",
   "language": "python",
   "name": "python3"
  },
  "language_info": {
   "codemirror_mode": {
    "name": "ipython",
    "version": 3
   },
   "file_extension": ".py",
   "mimetype": "text/x-python",
   "name": "python",
   "nbconvert_exporter": "python",
   "pygments_lexer": "ipython3",
   "version": "3.6.9"
  }
 },
 "nbformat": 4,
 "nbformat_minor": 2
}
