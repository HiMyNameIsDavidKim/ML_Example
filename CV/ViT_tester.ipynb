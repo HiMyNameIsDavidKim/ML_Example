{
 "cells": [
  {
   "cell_type": "markdown",
   "metadata": {},
   "source": [
    "# Tester"
   ]
  },
  {
   "cell_type": "code",
   "execution_count": 1,
   "metadata": {
    "ExecuteTime": {
     "end_time": "2023-06-13T02:18:23.609687Z",
     "start_time": "2023-06-13T02:18:22.704336Z"
    }
   },
   "outputs": [
    {
     "name": "stdout",
     "output_type": "stream",
     "text": [
      "[0, 1, 2, 3]\n",
      "['NVIDIA GeForce RTX 3090', 'NVIDIA GeForce RTX 3090', 'NVIDIA GeForce RTX 3090', 'NVIDIA GeForce RTX 3090']\n"
     ]
    }
   ],
   "source": [
    "import timm\n",
    "import torch\n",
    "import torch.nn as nn\n",
    "import torchvision.transforms as transforms\n",
    "from torch.optim import Adam\n",
    "from torch.optim.lr_scheduler import CosineAnnealingLR\n",
    "import torch.utils.data as data\n",
    "import torchvision\n",
    "from tqdm import tqdm\n",
    "import torch.nn.functional as F\n",
    "import math\n",
    "\n",
    "from vit_pooling import ViTPooling\n",
    "\n",
    "\n",
    "gpu_ids = []\n",
    "device_names = []\n",
    "if torch.cuda.is_available():\n",
    "    for gpu_id in range(torch.cuda.device_count()):\n",
    "        gpu_ids += [gpu_id]\n",
    "        device_names += [torch.cuda.get_device_name(gpu_id)]\n",
    "print(gpu_ids)\n",
    "print(device_names)\n",
    "\n",
    "if len(gpu_ids) > 1:\n",
    "    gpu = 'cuda:' + str(gpu_ids[1])  # GPU Number\n",
    "else:\n",
    "    gpu = \"cuda\" if torch.cuda.is_available() else \"cpu\""
   ]
  },
  {
   "cell_type": "code",
   "execution_count": 2,
   "metadata": {
    "ExecuteTime": {
     "end_time": "2023-06-13T02:18:23.617408Z",
     "start_time": "2023-06-13T02:18:23.612670Z"
    }
   },
   "outputs": [],
   "source": [
    "device = gpu\n",
    "model_path = './save/ViT_timm_vit_base_patch16_224_in21k_augVanilla_i2012_ep8_lr0.003.pt'\n",
    "TIMM_MODEL = 'vit_base_patch16_224_in21k'\n",
    "BATCH_SIZE = 512\n",
    "NUM_EPOCHS = 300\n",
    "NUM_WORKERS = 2\n",
    "LEARNING_RATE = 0.003\n",
    "\n",
    "IMAGE_SIZE = 224\n",
    "PATCH_SIZE = 16\n",
    "IN_CHANNELS = 3\n",
    "NUM_CLASSES = 1000\n",
    "EMBED_DIM = 768\n",
    "DEPTH = 12\n",
    "NUM_HEADS = 12"
   ]
  },
  {
   "cell_type": "code",
   "execution_count": 3,
   "metadata": {
    "ExecuteTime": {
     "end_time": "2023-06-13T02:18:28.692544Z",
     "start_time": "2023-06-13T02:18:23.619646Z"
    }
   },
   "outputs": [],
   "source": [
    "transform_train = transforms.Compose([\n",
    "    transforms.RandomResizedCrop(224),\n",
    "    transforms.ToTensor(),\n",
    "    transforms.Normalize(mean=[0.5, 0.5, 0.5], std=[0.5, 0.5, 0.5])\n",
    "])\n",
    "transform_test = transforms.Compose([\n",
    "    transforms.RandomResizedCrop(224),\n",
    "    transforms.ToTensor(),\n",
    "    transforms.Normalize(mean=[0.5, 0.5, 0.5], std=[0.5, 0.5, 0.5])\n",
    "])\n",
    "# pre_train_set = torchvision.datasets.ImageFolder('./data/ImageNet-21k', transform=transform_train)\n",
    "# pre_train_loader = data.DataLoader(pre_train_set, batch_size=BATCH_SIZE, shuffle=True, num_workers=NUM_WORKERS)\n",
    "train_set = torchvision.datasets.ImageFolder('../../YJ/ILSVRC2012/train', transform=transform_train)\n",
    "train_loader = data.DataLoader(train_set, batch_size=BATCH_SIZE, shuffle=True, num_workers=NUM_WORKERS)\n",
    "test_set = torchvision.datasets.ImageFolder('../../YJ/ILSVRC2012/val', transform=transform_test)\n",
    "test_loader = data.DataLoader(test_set, batch_size=BATCH_SIZE, shuffle=True, num_workers=NUM_WORKERS)"
   ]
  },
  {
   "cell_type": "code",
   "execution_count": 4,
   "metadata": {
    "ExecuteTime": {
     "end_time": "2023-06-13T02:18:28.708497Z",
     "start_time": "2023-06-13T02:18:28.695805Z"
    },
    "code_folding": [
     0
    ]
   },
   "outputs": [],
   "source": [
    "class TesterTimm(object):\n",
    "    def __init__(self):\n",
    "        self.model = None\n",
    "        self.optimizer = None\n",
    "        self.scheduler = None\n",
    "        self.epochs = []\n",
    "        self.losses = []\n",
    "\n",
    "    def process(self):\n",
    "        self.build_model()\n",
    "        self.eval_model()\n",
    "\n",
    "    def loss_checker(self):\n",
    "        self.build_model()\n",
    "        print(f'Steps: {len(self.epochs)}k steps')\n",
    "        [print(f'Sampling Loss: {i:.3f}') for i in self.losses]\n",
    "        \n",
    "    def build_model(self):\n",
    "        self.model = timm.create_model(TIMM_MODEL, pretrained=True).to(device)\n",
    "        checkpoint = torch.load(model_path)\n",
    "        self.epochs = checkpoint['epochs']\n",
    "        self.model.load_state_dict(checkpoint['model'])\n",
    "        self.losses = checkpoint['losses']\n",
    "        print(f'Parameter: {sum(p.numel() for p in self.model.parameters() if p.requires_grad)}')\n",
    "        print(f'Classes: {NUM_CLASSES}')\n",
    "        print(f'Epochs: {self.epochs[-1]}')\n",
    "        \n",
    "    def eval_model(self):\n",
    "        self.model.eval()\n",
    "\n",
    "        correct = 0\n",
    "        total = 0\n",
    "        with torch.no_grad():\n",
    "            for i, data in tqdm(enumerate(test_loader, 0), total=len(test_loader)):\n",
    "                images, labels = data\n",
    "                images, labels = images.to(device), labels.to(device)\n",
    "                outputs = self.model(images)\n",
    "                _, predicted = torch.max(outputs.data, 1)\n",
    "                total += labels.size(0)\n",
    "                correct += (predicted == labels).sum().item()\n",
    "        print(f'Accuracy {len(test_set)} test images: {100 * correct / total:.2f} %')"
   ]
  },
  {
   "cell_type": "code",
   "execution_count": 5,
   "metadata": {
    "ExecuteTime": {
     "end_time": "2023-06-13T02:18:28.721735Z",
     "start_time": "2023-06-13T02:18:28.711817Z"
    }
   },
   "outputs": [],
   "source": [
    "class TesterPaper(object):\n",
    "    def __init__(self):\n",
    "        self.model = None\n",
    "        self.optimizer = None\n",
    "        self.epochs = []\n",
    "        self.losses = []\n",
    "        self.cls_token = None\n",
    "\n",
    "    def process(self):\n",
    "        self.build_model()\n",
    "        self.eval_model()\n",
    "        \n",
    "    def loss_checker(self):\n",
    "        self.build_model()\n",
    "        print(f'Steps: {len(self.epochs)}k steps')\n",
    "        [print(f'Sampling Loss: {i:.3f}') for i in self.losses]\n",
    "\n",
    "    def build_model(self):\n",
    "        self.model = ViTPooling(image_size=IMAGE_SIZE,\n",
    "                         patch_size=PATCH_SIZE,\n",
    "                         in_channels=IN_CHANNELS,\n",
    "                         num_classes=NUM_CLASSES,\n",
    "                         embed_dim=EMBED_DIM,\n",
    "                         depth=DEPTH,\n",
    "                         num_heads=NUM_HEADS,\n",
    "                         ).to(device)\n",
    "        checkpoint = torch.load(model_path)\n",
    "        self.epochs = checkpoint['epochs']\n",
    "        self.model.load_state_dict(checkpoint['model'])\n",
    "        self.losses = checkpoint['losses']\n",
    "        print(f'Parameter: {sum(p.numel() for p in self.model.parameters() if p.requires_grad)}')\n",
    "        print(f'Classes: {NUM_CLASSES}')\n",
    "        print(f'Epochs: {self.epochs[-1]}')\n",
    "\n",
    "    def eval_model(self):\n",
    "        self.model.eval()\n",
    "\n",
    "        correct = 0\n",
    "        total = 0\n",
    "        with torch.no_grad():\n",
    "            for i, data in tqdm(enumerate(test_loader, 0), total=len(test_loader)):\n",
    "                images, labels = data\n",
    "                images, labels = images.to(device), labels.to(device)\n",
    "                outputs = self.model(images)\n",
    "                _, predicted = torch.max(outputs.data, 1)\n",
    "                total += labels.size(0)\n",
    "                correct += (predicted == labels).sum().item()\n",
    "        print(f'Accuracy {len(test_set)} test images: {100 * correct / total:.2f} %')"
   ]
  },
  {
   "cell_type": "code",
   "execution_count": 6,
   "metadata": {},
   "outputs": [
    {
     "name": "stdout",
     "output_type": "stream",
     "text": [
      "Parameter: 102595923\n",
      "Classes: 1000\n",
      "Epochs: 8\n",
      "Steps: 160k steps\n",
      "Sampling Loss: 3.714\n",
      "Sampling Loss: 1.707\n",
      "Sampling Loss: 1.633\n",
      "Sampling Loss: 1.687\n",
      "Sampling Loss: 1.544\n",
      "Sampling Loss: 1.326\n",
      "Sampling Loss: 1.538\n",
      "Sampling Loss: 1.403\n",
      "Sampling Loss: 1.976\n",
      "Sampling Loss: 1.650\n",
      "Sampling Loss: 1.772\n",
      "Sampling Loss: 1.266\n",
      "Sampling Loss: 1.301\n",
      "Sampling Loss: 1.006\n",
      "Sampling Loss: 1.187\n",
      "Sampling Loss: 1.188\n",
      "Sampling Loss: 0.982\n",
      "Sampling Loss: 1.232\n",
      "Sampling Loss: 1.322\n",
      "Sampling Loss: 1.152\n",
      "Sampling Loss: 1.092\n",
      "Sampling Loss: 1.109\n",
      "Sampling Loss: 1.194\n",
      "Sampling Loss: 1.261\n",
      "Sampling Loss: 1.225\n",
      "Sampling Loss: 1.250\n",
      "Sampling Loss: 0.863\n",
      "Sampling Loss: 1.293\n",
      "Sampling Loss: 1.018\n",
      "Sampling Loss: 1.571\n",
      "Sampling Loss: 1.168\n",
      "Sampling Loss: 1.112\n",
      "Sampling Loss: 1.197\n",
      "Sampling Loss: 1.332\n",
      "Sampling Loss: 1.224\n",
      "Sampling Loss: 1.231\n",
      "Sampling Loss: 1.369\n",
      "Sampling Loss: 1.031\n",
      "Sampling Loss: 1.075\n",
      "Sampling Loss: 1.004\n",
      "Sampling Loss: 0.928\n",
      "Sampling Loss: 1.045\n",
      "Sampling Loss: 1.183\n",
      "Sampling Loss: 0.885\n",
      "Sampling Loss: 0.986\n",
      "Sampling Loss: 1.067\n",
      "Sampling Loss: 1.305\n",
      "Sampling Loss: 1.296\n",
      "Sampling Loss: 1.180\n",
      "Sampling Loss: 1.015\n",
      "Sampling Loss: 0.975\n",
      "Sampling Loss: 1.005\n",
      "Sampling Loss: 0.983\n",
      "Sampling Loss: 1.299\n",
      "Sampling Loss: 1.037\n",
      "Sampling Loss: 1.210\n",
      "Sampling Loss: 0.671\n",
      "Sampling Loss: 1.079\n",
      "Sampling Loss: 0.648\n",
      "Sampling Loss: 1.176\n",
      "Sampling Loss: 0.597\n",
      "Sampling Loss: 0.979\n",
      "Sampling Loss: 0.775\n",
      "Sampling Loss: 0.684\n",
      "Sampling Loss: 1.130\n",
      "Sampling Loss: 1.162\n",
      "Sampling Loss: 0.916\n",
      "Sampling Loss: 0.775\n",
      "Sampling Loss: 0.424\n",
      "Sampling Loss: 1.047\n",
      "Sampling Loss: 0.621\n",
      "Sampling Loss: 0.847\n",
      "Sampling Loss: 0.937\n",
      "Sampling Loss: 1.461\n",
      "Sampling Loss: 0.884\n",
      "Sampling Loss: 0.899\n",
      "Sampling Loss: 0.994\n",
      "Sampling Loss: 0.848\n",
      "Sampling Loss: 1.135\n",
      "Sampling Loss: 1.135\n",
      "Sampling Loss: 0.710\n",
      "Sampling Loss: 0.683\n",
      "Sampling Loss: 0.651\n",
      "Sampling Loss: 0.932\n",
      "Sampling Loss: 0.855\n",
      "Sampling Loss: 0.901\n",
      "Sampling Loss: 0.602\n",
      "Sampling Loss: 1.306\n",
      "Sampling Loss: 1.001\n",
      "Sampling Loss: 0.793\n",
      "Sampling Loss: 0.938\n",
      "Sampling Loss: 0.643\n",
      "Sampling Loss: 1.117\n",
      "Sampling Loss: 0.965\n",
      "Sampling Loss: 0.576\n",
      "Sampling Loss: 0.945\n",
      "Sampling Loss: 0.839\n",
      "Sampling Loss: 0.609\n",
      "Sampling Loss: 0.858\n",
      "Sampling Loss: 1.136\n",
      "Sampling Loss: 0.695\n",
      "Sampling Loss: 0.754\n",
      "Sampling Loss: 1.112\n",
      "Sampling Loss: 0.461\n",
      "Sampling Loss: 0.795\n",
      "Sampling Loss: 0.436\n",
      "Sampling Loss: 0.962\n",
      "Sampling Loss: 0.813\n",
      "Sampling Loss: 1.350\n",
      "Sampling Loss: 0.968\n",
      "Sampling Loss: 0.993\n",
      "Sampling Loss: 1.119\n",
      "Sampling Loss: 0.885\n",
      "Sampling Loss: 1.280\n",
      "Sampling Loss: 0.645\n",
      "Sampling Loss: 0.975\n",
      "Sampling Loss: 0.767\n",
      "Sampling Loss: 0.819\n",
      "Sampling Loss: 0.645\n",
      "Sampling Loss: 1.308\n",
      "Sampling Loss: 0.745\n",
      "Sampling Loss: 0.715\n",
      "Sampling Loss: 0.596\n",
      "Sampling Loss: 0.514\n",
      "Sampling Loss: 0.782\n",
      "Sampling Loss: 0.704\n",
      "Sampling Loss: 0.892\n",
      "Sampling Loss: 1.198\n",
      "Sampling Loss: 1.042\n",
      "Sampling Loss: 0.585\n",
      "Sampling Loss: 0.529\n",
      "Sampling Loss: 0.488\n",
      "Sampling Loss: 1.602\n",
      "Sampling Loss: 0.818\n",
      "Sampling Loss: 0.614\n",
      "Sampling Loss: 0.841\n",
      "Sampling Loss: 0.596\n",
      "Sampling Loss: 0.785\n",
      "Sampling Loss: 0.828\n",
      "Sampling Loss: 0.615\n",
      "Sampling Loss: 0.514\n",
      "Sampling Loss: 0.604\n",
      "Sampling Loss: 0.547\n",
      "Sampling Loss: 0.742\n",
      "Sampling Loss: 0.827\n",
      "Sampling Loss: 0.873\n",
      "Sampling Loss: 0.963\n",
      "Sampling Loss: 0.656\n",
      "Sampling Loss: 0.752\n",
      "Sampling Loss: 0.848\n",
      "Sampling Loss: 0.616\n",
      "Sampling Loss: 0.513\n",
      "Sampling Loss: 0.843\n",
      "Sampling Loss: 0.662\n",
      "Sampling Loss: 1.142\n",
      "Sampling Loss: 0.652\n",
      "Sampling Loss: 1.018\n",
      "Sampling Loss: 0.971\n",
      "Sampling Loss: 1.047\n",
      "Sampling Loss: 0.841\n"
     ]
    }
   ],
   "source": [
    "if __name__ == '__main__':\n",
    "    t = TesterTimm()\n",
    "    t.loss_checker()"
   ]
  },
  {
   "cell_type": "code",
   "execution_count": 7,
   "metadata": {
    "scrolled": false
   },
   "outputs": [
    {
     "name": "stdout",
     "output_type": "stream",
     "text": [
      "Parameter: 102595923\n",
      "Classes: 1000\n",
      "Epochs: 8\n"
     ]
    },
    {
     "name": "stderr",
     "output_type": "stream",
     "text": [
      "100%|██████████| 98/98 [07:48<00:00,  3.96s/it]"
     ]
    },
    {
     "name": "stdout",
     "output_type": "stream",
     "text": [
      "Accuracy 50000 test images: 71.18 %\n"
     ]
    },
    {
     "name": "stderr",
     "output_type": "stream",
     "text": [
      "\n"
     ]
    }
   ],
   "source": [
    "if __name__ == '__main__':\n",
    "    t = TesterTimm()\n",
    "    t.process()"
   ]
  },
  {
   "cell_type": "code",
   "execution_count": 8,
   "metadata": {},
   "outputs": [],
   "source": [
    "# 프리 트레이닝\n",
    "# 1스텝 = 9분\n",
    "# 1에포크 = 3시간\n",
    "\n",
    "# 파인 튜닝\n",
    "# 1스텝 = 35초\n",
    "# 1에포크 = 12분"
   ]
  }
 ],
 "metadata": {
  "kernelspec": {
   "display_name": "Python 3",
   "language": "python",
   "name": "python3"
  },
  "language_info": {
   "codemirror_mode": {
    "name": "ipython",
    "version": 3
   },
   "file_extension": ".py",
   "mimetype": "text/x-python",
   "name": "python",
   "nbconvert_exporter": "python",
   "pygments_lexer": "ipython3",
   "version": "3.6.9"
  }
 },
 "nbformat": 4,
 "nbformat_minor": 2
}
