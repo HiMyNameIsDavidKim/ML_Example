{
 "cells": [
  {
   "cell_type": "markdown",
   "metadata": {},
   "source": [
    "# Tester"
   ]
  },
  {
   "cell_type": "code",
   "execution_count": 1,
   "metadata": {
    "ExecuteTime": {
     "end_time": "2023-06-13T02:18:23.609687Z",
     "start_time": "2023-06-13T02:18:22.704336Z"
    }
   },
   "outputs": [
    {
     "name": "stdout",
     "output_type": "stream",
     "text": [
      "[0, 1, 2, 3]\n",
      "['NVIDIA GeForce RTX 3090', 'NVIDIA GeForce RTX 3090', 'NVIDIA GeForce RTX 3090', 'NVIDIA GeForce RTX 3090']\n"
     ]
    }
   ],
   "source": [
    "import timm\n",
    "import torch\n",
    "import torch.nn as nn\n",
    "import torchvision.transforms as transforms\n",
    "from torch.optim import Adam\n",
    "from torch.optim.lr_scheduler import CosineAnnealingLR\n",
    "import torch.utils.data as data\n",
    "import torchvision\n",
    "from tqdm import tqdm\n",
    "import torch.nn.functional as F\n",
    "import math\n",
    "\n",
    "from vit_pooling import ViTPooling\n",
    "\n",
    "\n",
    "gpu_ids = []\n",
    "device_names = []\n",
    "if torch.cuda.is_available():\n",
    "    for gpu_id in range(torch.cuda.device_count()):\n",
    "        gpu_ids += [gpu_id]\n",
    "        device_names += [torch.cuda.get_device_name(gpu_id)]\n",
    "print(gpu_ids)\n",
    "print(device_names)\n",
    "\n",
    "if len(gpu_ids) > 1:\n",
    "    gpu = 'cuda:' + str(gpu_ids[1])  # GPU Number\n",
    "else:\n",
    "    gpu = \"cuda\" if torch.cuda.is_available() else \"cpu\""
   ]
  },
  {
   "cell_type": "code",
   "execution_count": 2,
   "metadata": {
    "ExecuteTime": {
     "end_time": "2023-06-13T02:18:23.617408Z",
     "start_time": "2023-06-13T02:18:23.612670Z"
    }
   },
   "outputs": [],
   "source": [
    "device = gpu\n",
    "model_path = './save/ViT_timm_vit_base_patch16_224_in21k_Negative_i2012_ep8_lr0.003.pt'\n",
    "TIMM_MODEL = 'vit_base_patch16_224_in21k'\n",
    "BATCH_SIZE = 512\n",
    "NUM_EPOCHS = 300\n",
    "NUM_WORKERS = 2\n",
    "LEARNING_RATE = 0.003\n",
    "\n",
    "IMAGE_SIZE = 224\n",
    "PATCH_SIZE = 16\n",
    "IN_CHANNELS = 3\n",
    "NUM_CLASSES = 1000\n",
    "EMBED_DIM = 768\n",
    "DEPTH = 12\n",
    "NUM_HEADS = 12"
   ]
  },
  {
   "cell_type": "code",
   "execution_count": 3,
   "metadata": {
    "ExecuteTime": {
     "end_time": "2023-06-13T02:18:28.692544Z",
     "start_time": "2023-06-13T02:18:23.619646Z"
    }
   },
   "outputs": [],
   "source": [
    "transform_train = transforms.Compose([\n",
    "    transforms.RandomResizedCrop(224),\n",
    "    transforms.ToTensor(),\n",
    "    transforms.Normalize(mean=[0.5, 0.5, 0.5], std=[0.5, 0.5, 0.5])\n",
    "])\n",
    "transform_test = transforms.Compose([\n",
    "    transforms.RandomResizedCrop(224),\n",
    "    transforms.ToTensor(),\n",
    "    transforms.Normalize(mean=[0.5, 0.5, 0.5], std=[0.5, 0.5, 0.5])\n",
    "])\n",
    "# pre_train_set = torchvision.datasets.ImageFolder('./data/ImageNet-21k', transform=transform_train)\n",
    "# pre_train_loader = data.DataLoader(pre_train_set, batch_size=BATCH_SIZE, shuffle=True, num_workers=NUM_WORKERS)\n",
    "train_set = torchvision.datasets.ImageFolder('../../YJ/ILSVRC2012/train', transform=transform_train)\n",
    "train_loader = data.DataLoader(train_set, batch_size=BATCH_SIZE, shuffle=True, num_workers=NUM_WORKERS)\n",
    "test_set = torchvision.datasets.ImageFolder('../../YJ/ILSVRC2012/val', transform=transform_test)\n",
    "test_loader = data.DataLoader(test_set, batch_size=BATCH_SIZE, shuffle=True, num_workers=NUM_WORKERS)"
   ]
  },
  {
   "cell_type": "code",
   "execution_count": 4,
   "metadata": {
    "ExecuteTime": {
     "end_time": "2023-06-13T02:18:28.708497Z",
     "start_time": "2023-06-13T02:18:28.695805Z"
    },
    "code_folding": [
     0
    ]
   },
   "outputs": [],
   "source": [
    "class TesterTimm(object):\n",
    "    def __init__(self):\n",
    "        self.model = None\n",
    "        self.optimizer = None\n",
    "        self.scheduler = None\n",
    "        self.epochs = []\n",
    "        self.losses = []\n",
    "\n",
    "    def process(self):\n",
    "        self.build_model()\n",
    "        self.eval_model()\n",
    "\n",
    "    def loss_checker(self):\n",
    "        self.build_model()\n",
    "        print(f'Steps: {len(self.epochs)}k steps')\n",
    "        [print(f'Sampling Loss: {i:.3f}') for i in self.losses]\n",
    "        \n",
    "    def build_model(self):\n",
    "        self.model = timm.create_model(TIMM_MODEL, pretrained=True).to(device)\n",
    "        checkpoint = torch.load(model_path)\n",
    "        self.epochs = checkpoint['epochs']\n",
    "        self.model.load_state_dict(checkpoint['model'])\n",
    "        self.losses = checkpoint['losses']\n",
    "        print(f'Parameter: {sum(p.numel() for p in self.model.parameters() if p.requires_grad)}')\n",
    "        print(f'Classes: {self.model.num_classes}')\n",
    "        print(f'Epochs: {self.epochs[-1]}')\n",
    "        \n",
    "    def eval_model(self):\n",
    "        self.model.eval()\n",
    "\n",
    "        correct = 0\n",
    "        total = 0\n",
    "        with torch.no_grad():\n",
    "            for i, data in tqdm(enumerate(test_loader, 0), total=len(test_loader)):\n",
    "                images, labels = data\n",
    "                images, labels = images.to(device), labels.to(device)\n",
    "                outputs = self.model(images)\n",
    "                _, predicted = torch.max(outputs.data, 1)\n",
    "                total += labels.size(0)\n",
    "                correct += (predicted == labels).sum().item()\n",
    "        print(f'Accuracy {len(test_set)} test images: {100 * correct / total:.2f} %')"
   ]
  },
  {
   "cell_type": "code",
   "execution_count": 5,
   "metadata": {
    "ExecuteTime": {
     "end_time": "2023-06-13T02:18:28.721735Z",
     "start_time": "2023-06-13T02:18:28.711817Z"
    }
   },
   "outputs": [],
   "source": [
    "class TesterPaper(object):\n",
    "    def __init__(self):\n",
    "        self.model = None\n",
    "        self.optimizer = None\n",
    "        self.epochs = []\n",
    "        self.losses = []\n",
    "        self.cls_token = None\n",
    "\n",
    "    def process(self):\n",
    "        self.build_model()\n",
    "        self.eval_model()\n",
    "        \n",
    "    def loss_checker(self):\n",
    "        self.build_model()\n",
    "        print(f'Steps: {len(self.epochs)}k steps')\n",
    "        [print(f'Sampling Loss: {i:.3f}') for i in self.losses]\n",
    "\n",
    "    def build_model(self):\n",
    "        self.model = ViTPooling(image_size=IMAGE_SIZE,\n",
    "                         patch_size=PATCH_SIZE,\n",
    "                         in_channels=IN_CHANNELS,\n",
    "                         num_classes=NUM_CLASSES,\n",
    "                         embed_dim=EMBED_DIM,\n",
    "                         depth=DEPTH,\n",
    "                         num_heads=NUM_HEADS,\n",
    "                         ).to(device)\n",
    "        checkpoint = torch.load(model_path)\n",
    "        self.epochs = checkpoint['epochs']\n",
    "        self.model.load_state_dict(checkpoint['model'])\n",
    "        self.losses = checkpoint['losses']\n",
    "        print(f'Parameter: {sum(p.numel() for p in self.model.parameters() if p.requires_grad)}')\n",
    "        print(f'Classes: {NUM_CLASSES}')\n",
    "        print(f'Epochs: {self.epochs[-1]}')\n",
    "\n",
    "    def eval_model(self):\n",
    "        self.model.eval()\n",
    "\n",
    "        correct = 0\n",
    "        total = 0\n",
    "        with torch.no_grad():\n",
    "            for i, data in tqdm(enumerate(test_loader, 0), total=len(test_loader)):\n",
    "                images, labels = data\n",
    "                images, labels = images.to(device), labels.to(device)\n",
    "                outputs = self.model(images)\n",
    "                _, predicted = torch.max(outputs.data, 1)\n",
    "                total += labels.size(0)\n",
    "                correct += (predicted == labels).sum().item()\n",
    "        print(f'Accuracy {len(test_set)} test images: {100 * correct / total:.2f} %')"
   ]
  },
  {
   "cell_type": "code",
   "execution_count": 6,
   "metadata": {},
   "outputs": [
    {
     "name": "stdout",
     "output_type": "stream",
     "text": [
      "Parameter: 102595923\n",
      "Classes: 1000\n",
      "Epochs: 2\n",
      "Steps: 40k steps\n",
      "Sampling Loss: 0.842\n",
      "Sampling Loss: 0.591\n",
      "Sampling Loss: 0.475\n",
      "Sampling Loss: 0.835\n",
      "Sampling Loss: 0.599\n",
      "Sampling Loss: 0.397\n",
      "Sampling Loss: 0.713\n",
      "Sampling Loss: 0.374\n",
      "Sampling Loss: 0.864\n",
      "Sampling Loss: 0.903\n",
      "Sampling Loss: 0.713\n",
      "Sampling Loss: 0.761\n",
      "Sampling Loss: 0.824\n",
      "Sampling Loss: 0.908\n",
      "Sampling Loss: 0.917\n",
      "Sampling Loss: 0.398\n",
      "Sampling Loss: 0.670\n",
      "Sampling Loss: 0.591\n",
      "Sampling Loss: 1.020\n",
      "Sampling Loss: 0.796\n",
      "Sampling Loss: 0.823\n",
      "Sampling Loss: 0.615\n",
      "Sampling Loss: 0.734\n",
      "Sampling Loss: 0.691\n",
      "Sampling Loss: 0.513\n",
      "Sampling Loss: 0.703\n",
      "Sampling Loss: 1.250\n",
      "Sampling Loss: 0.759\n",
      "Sampling Loss: 0.725\n",
      "Sampling Loss: 0.460\n",
      "Sampling Loss: 0.622\n",
      "Sampling Loss: 0.637\n",
      "Sampling Loss: 0.478\n",
      "Sampling Loss: 0.742\n",
      "Sampling Loss: 0.692\n",
      "Sampling Loss: 0.625\n",
      "Sampling Loss: 0.568\n",
      "Sampling Loss: 0.723\n",
      "Sampling Loss: 0.985\n",
      "Sampling Loss: 0.934\n"
     ]
    }
   ],
   "source": [
    "if __name__ == '__main__':\n",
    "    t = TesterTimm()\n",
    "    t.loss_checker()"
   ]
  },
  {
   "cell_type": "code",
   "execution_count": 7,
   "metadata": {
    "scrolled": false
   },
   "outputs": [
    {
     "name": "stdout",
     "output_type": "stream",
     "text": [
      "Parameter: 102595923\n",
      "Classes: 1000\n",
      "Epochs: 2\n"
     ]
    },
    {
     "name": "stderr",
     "output_type": "stream",
     "text": [
      "100%|██████████| 98/98 [07:42<00:00,  3.91s/it]"
     ]
    },
    {
     "name": "stdout",
     "output_type": "stream",
     "text": [
      "Accuracy 50000 test images: 71.24 %\n"
     ]
    },
    {
     "name": "stderr",
     "output_type": "stream",
     "text": [
      "\n"
     ]
    }
   ],
   "source": [
    "if __name__ == '__main__':\n",
    "    t = TesterTimm()\n",
    "    t.process()"
   ]
  },
  {
   "cell_type": "code",
   "execution_count": 8,
   "metadata": {},
   "outputs": [],
   "source": [
    "# 프리 트레이닝\n",
    "# 1스텝 = 9분\n",
    "# 1에포크 = 3시간\n",
    "\n",
    "# 파인 튜닝\n",
    "# 1스텝 = 6분\n",
    "# 1에포크 = 2시간\n",
    "\n",
    "# 0.003 vs 0.0003 둘중 하나 걍 ㄱ"
   ]
  }
 ],
 "metadata": {
  "kernelspec": {
   "display_name": "Python 3",
   "language": "python",
   "name": "python3"
  },
  "language_info": {
   "codemirror_mode": {
    "name": "ipython",
    "version": 3
   },
   "file_extension": ".py",
   "mimetype": "text/x-python",
   "name": "python",
   "nbconvert_exporter": "python",
   "pygments_lexer": "ipython3",
   "version": "3.6.9"
  }
 },
 "nbformat": 4,
 "nbformat_minor": 2
}
