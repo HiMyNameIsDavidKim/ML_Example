{
 "cells": [
  {
   "cell_type": "markdown",
   "metadata": {},
   "source": [
    "# Tester"
   ]
  },
  {
   "cell_type": "code",
   "execution_count": 1,
   "metadata": {
    "ExecuteTime": {
     "end_time": "2023-06-13T02:18:23.609687Z",
     "start_time": "2023-06-13T02:18:22.704336Z"
    }
   },
   "outputs": [
    {
     "name": "stdout",
     "output_type": "stream",
     "text": [
      "Files already downloaded and verified\n",
      "Files already downloaded and verified\n",
      "[0, 1, 2, 3]\n",
      "['NVIDIA GeForce RTX 3090', 'NVIDIA GeForce RTX 3090', 'NVIDIA GeForce RTX 3090', 'NVIDIA GeForce RTX 3090']\n"
     ]
    }
   ],
   "source": [
    "import PIL\n",
    "import numpy as np\n",
    "import torch\n",
    "import torch.nn as nn\n",
    "import torch.nn.functional as F\n",
    "import torch.optim as optim\n",
    "from matplotlib import pyplot as plt\n",
    "from torch.optim.lr_scheduler import CosineAnnealingLR\n",
    "from torch.utils.data import DataLoader, Subset\n",
    "from torchvision import datasets, transforms\n",
    "from torchvision.models import resnet50\n",
    "import math\n",
    "from tqdm import tqdm_notebook as tqdm\n",
    "\n",
    "from puzzle_vit import PuzzleViT\n",
    "from puzzle_res50 import PuzzleCNNCoord\n",
    "from util.tester import visualDoubleLoss\n",
    "\n",
    "\n",
    "gpu_ids = []\n",
    "device_names = []\n",
    "if torch.cuda.is_available():\n",
    "    for gpu_id in range(torch.cuda.device_count()):\n",
    "        gpu_ids += [gpu_id]\n",
    "        device_names += [torch.cuda.get_device_name(gpu_id)]\n",
    "print(gpu_ids)\n",
    "print(device_names)\n",
    "\n",
    "if len(gpu_ids) > 1:\n",
    "    gpu = 'cuda:' + str(gpu_ids[3])  # GPU Number\n",
    "else:\n",
    "    gpu = \"cuda\" if torch.cuda.is_available() else \"cpu\""
   ]
  },
  {
   "cell_type": "markdown",
   "id": "441ec88d",
   "metadata": {},
   "source": [
    "## Hyper parameter"
   ]
  },
  {
   "cell_type": "code",
   "execution_count": 2,
   "metadata": {
    "ExecuteTime": {
     "end_time": "2023-06-13T02:18:23.617408Z",
     "start_time": "2023-06-13T02:18:23.612670Z"
    }
   },
   "outputs": [],
   "source": [
    "device = gpu\n",
    "LEARNING_RATE = 1e-05\n",
    "BATCH_SIZE = 64\n",
    "NUM_EPOCHS = 100\n",
    "NUM_WORKERS = 2\n",
    "test_model_path = './save/puzzle_imagenet_1000_vit_ep100_lr1e-05_b64_c.pt'"
   ]
  },
  {
   "cell_type": "markdown",
   "id": "10322ed9",
   "metadata": {},
   "source": [
    "## Dataset"
   ]
  },
  {
   "cell_type": "code",
   "execution_count": 3,
   "metadata": {
    "ExecuteTime": {
     "end_time": "2023-06-13T02:18:28.692544Z",
     "start_time": "2023-06-13T02:18:23.619646Z"
    }
   },
   "outputs": [],
   "source": [
    "transform = transforms.Compose([\n",
    "    transforms.Resize(256, interpolation=PIL.Image.BICUBIC),\n",
    "    transforms.CenterCrop(224),\n",
    "    transforms.Pad(padding=(0, 0, 1, 1)),\n",
    "    transforms.ToTensor(),\n",
    "    transforms.Normalize(mean=[0.485, 0.456, 0.406], std=[0.229, 0.224, 0.225])\n",
    "])\n",
    "\n",
    "train_dataset = datasets.ImageFolder('../datasets/ImageNet/train', transform=transform)\n",
    "train_loader = DataLoader(train_dataset, batch_size=BATCH_SIZE, shuffle=True, num_workers=NUM_WORKERS)\n",
    "val_dataset = Subset(train_dataset, list(range(int(0.01*len(train_dataset)))))\n",
    "val_loader = DataLoader(dataset=val_dataset, batch_size=BATCH_SIZE, shuffle=True, num_workers=NUM_WORKERS)\n",
    "test_dataset = datasets.ImageFolder('../datasets/ImageNet/val', transform=transform)\n",
    "test_loader = DataLoader(test_dataset, batch_size=BATCH_SIZE, shuffle=True, num_workers=NUM_WORKERS)"
   ]
  },
  {
   "cell_type": "markdown",
   "id": "10322ed9",
   "metadata": {},
   "source": [
    "## Tester class"
   ]
  },
  {
   "cell_type": "code",
   "execution_count": 4,
   "metadata": {
    "ExecuteTime": {
     "end_time": "2023-06-13T02:18:28.721735Z",
     "start_time": "2023-06-13T02:18:28.711817Z"
    }
   },
   "outputs": [],
   "source": [
    "class Tester(object):\n",
    "    def __init__(self):\n",
    "        self.model = None\n",
    "        self.optimizer = None\n",
    "        self.epochs = [0]\n",
    "        self.losses_c = [0]\n",
    "        self.losses_t = [0]\n",
    "        self.accuracies = [0]\n",
    "\n",
    "    def process(self, load=True):\n",
    "        self.build_model(load)\n",
    "        self.eval_model()\n",
    "    \n",
    "    def build_model(self, load):\n",
    "        self.model = PuzzleViT().to(device)\n",
    "        print(f'Parameter: {sum(p.numel() for p in self.model.parameters() if p.requires_grad)}')\n",
    "        if load:\n",
    "            checkpoint = torch.load(test_model_path)\n",
    "            self.epochs = checkpoint['epochs']\n",
    "            self.model.load_state_dict(checkpoint['model'])\n",
    "            self.losses_c = checkpoint['losses_coord']\n",
    "            self.losses_t = checkpoint['losses_total']\n",
    "#             self.accuracies = checkpoint['accuracies']\n",
    "            print(f'Parameter: {sum(p.numel() for p in self.model.parameters() if p.requires_grad)}')\n",
    "            print(f'Epoch: {self.epochs[-1]}')\n",
    "\n",
    "    def eval_model(self, epoch=-1):\n",
    "        model = self.model\n",
    "\n",
    "        model.eval()\n",
    "\n",
    "        total = 0\n",
    "        diff = 0\n",
    "        correct = 0\n",
    "        with torch.no_grad():\n",
    "            for batch_idx, (inputs, _) in tqdm(enumerate(test_loader, 0), total=len(test_loader)):\n",
    "                inputs = inputs.to(device)\n",
    "\n",
    "                outputs, labels, _ = model(inputs)\n",
    "\n",
    "                pred = outputs\n",
    "                total += labels.size(0)\n",
    "                diff += (torch.dist(pred, labels)).sum().item()\n",
    "                pred_ = model.mapping(pred)\n",
    "                labels_ = model.mapping(labels)\n",
    "                correct += (pred_ == labels_).all(dim=2).sum().item()\n",
    "\n",
    "        print(f'[Epoch {epoch + 1}] Avg diff on the test set: {diff / total:.2f}')\n",
    "        print(f'[Epoch {epoch + 1}] Accuracy on the test set: {100 * correct / (total * labels.size(1)):.2f}%')\n",
    "        torch.set_printoptions(precision=2)\n",
    "        total = labels.size(1)\n",
    "        correct = (pred_[0] == labels_[0]).all(dim=1).sum().item()\n",
    "        print(f'[Sample result]')\n",
    "        print(torch.cat((pred_[0], labels_[0]), dim=1))\n",
    "        print(f'Accuracy: {100 * correct / total:.2f}%')\n",
    "        \n",
    "    def loss_checker(self):\n",
    "        checkpoint = torch.load(test_model_path, map_location='cpu')\n",
    "        self.epochs = checkpoint['epochs']\n",
    "        self.losses_c = checkpoint['losses_coord']\n",
    "        self.losses_t = checkpoint['losses_total']\n",
    "        print(f'Steps: {len(self.epochs)} (x100) steps')\n",
    "        ls_x = []\n",
    "        ls_y = []\n",
    "        for x, y in enumerate(self.losses_t):\n",
    "            ls_x.append(x)\n",
    "            ls_y.append(y)\n",
    "        plt.plot(ls_x, ls_y)\n",
    "        plt.title('Losses_t Plot')\n",
    "        plt.xlabel('Epoch')\n",
    "        plt.ylabel('Loss')\n",
    "        plt.show()\n",
    "        [print(f'Average Loss: {i:.3f}') for i in self.losses_t]\n",
    "    \n",
    "    def lr_checker(self):\n",
    "        self.build_model(load=True)\n",
    "        model = self.model\n",
    "        criterion = nn.CrossEntropyLoss()\n",
    "        optimizer = optim.SGD(model.parameters(), lr=LEARNING_RATE, momentum=0.9)\n",
    "        scheduler = CosineAnnealingLR(optimizer, T_max=NUM_EPOCHS)\n",
    "        \n",
    "        ls_epoch = []\n",
    "        ls_lr = []\n",
    "        for epoch in range(NUM_EPOCHS):\n",
    "            running_loss = 0.0\n",
    "            saving_loss = 0.0\n",
    "            ls_epoch.append(epoch)\n",
    "            ls_lr.append(optimizer.param_groups[0][\"lr\"])\n",
    "            scheduler.step()\n",
    "        plt.plot(ls_epoch, ls_lr)\n",
    "        plt.title('LR Plot')\n",
    "        plt.xlabel('Epoch')\n",
    "        plt.ylabel('LR')\n",
    "        plt.show()\n",
    "        \n",
    "    def lr_compare(self):\n",
    "        LEARNING_RATE = 1e-05\n",
    "        NUM_EPOCHS = 100\n",
    "        self.build_model(load=True)\n",
    "        model = self.model\n",
    "        criterion = nn.CrossEntropyLoss()\n",
    "        optimizer = optim.SGD(model.parameters(), lr=LEARNING_RATE, momentum=0.9)\n",
    "        scheduler = CosineAnnealingLR(optimizer, T_max=NUM_EPOCHS)\n",
    "        ls_epoch = []\n",
    "        ls_lr = []\n",
    "        for epoch in range(NUM_EPOCHS):\n",
    "            running_loss = 0.0\n",
    "            saving_loss = 0.0\n",
    "            ls_epoch.append(epoch)\n",
    "            ls_lr.append(optimizer.param_groups[0][\"lr\"])\n",
    "            scheduler.step()\n",
    "        plt.plot(ls_epoch, ls_lr, label='Curve 1')\n",
    "        \n",
    "        LEARNING_RATE = 2e-05\n",
    "        NUM_EPOCHS = 50\n",
    "        model = self.model\n",
    "        criterion = nn.CrossEntropyLoss()\n",
    "        optimizer = optim.SGD(model.parameters(), lr=LEARNING_RATE, momentum=0.9)\n",
    "        scheduler = CosineAnnealingLR(optimizer, T_max=NUM_EPOCHS)\n",
    "        ls_epoch = []\n",
    "        ls_lr = []\n",
    "        for epoch in range(NUM_EPOCHS):\n",
    "            running_loss = 0.0\n",
    "            saving_loss = 0.0\n",
    "            ls_epoch.append(epoch)\n",
    "            ls_lr.append(optimizer.param_groups[0][\"lr\"])\n",
    "            scheduler.step()\n",
    "        plt.plot(ls_epoch, ls_lr, label='Curve 2')\n",
    "        \n",
    "        plt.title('LR Plot')\n",
    "        plt.xlabel('Epoch')\n",
    "        plt.ylabel('LR')\n",
    "        plt.legend()\n",
    "        plt.show()"
   ]
  },
  {
   "cell_type": "code",
   "execution_count": 5,
   "metadata": {
    "scrolled": false
   },
   "outputs": [
    {
     "name": "stdout",
     "output_type": "stream",
     "text": [
      "Parameter: 87586674\n",
      "Parameter: 87586674\n",
      "Epoch: 100\n"
     ]
    },
    {
     "name": "stderr",
     "output_type": "stream",
     "text": [
      "/usr/local/lib/python3.6/dist-packages/ipykernel_launcher.py:36: TqdmDeprecationWarning: This function will be removed in tqdm==5.0.0\n",
      "Please use `tqdm.notebook.tqdm` instead of `tqdm.tqdm_notebook`\n"
     ]
    },
    {
     "data": {
      "application/vnd.jupyter.widget-view+json": {
       "model_id": "8b6b224822dc44ad807a064022a6fb8f",
       "version_major": 2,
       "version_minor": 0
      },
      "text/plain": [
       "  0%|          | 0/782 [00:00<?, ?it/s]"
      ]
     },
     "metadata": {},
     "output_type": "display_data"
    },
    {
     "name": "stdout",
     "output_type": "stream",
     "text": [
      "[Epoch 0] Avg diff on the test set: 0.09\n",
      "[Epoch 0] Accuracy on the test set: 96.37%\n",
      "[Sample result]\n",
      "tensor([[1., 0., 1., 0.],\n",
      "        [1., 2., 1., 2.],\n",
      "        [0., 0., 0., 0.],\n",
      "        [1., 1., 1., 1.],\n",
      "        [2., 2., 2., 2.],\n",
      "        [0., 1., 0., 1.],\n",
      "        [0., 2., 0., 2.],\n",
      "        [2., 0., 2., 0.],\n",
      "        [2., 1., 2., 1.]], device='cuda:3')\n",
      "Accuracy: 100.00%\n",
      "Parameter: 87586674\n",
      "Parameter: 87586674\n",
      "Epoch: 100\n"
     ]
    },
    {
     "data": {
      "application/vnd.jupyter.widget-view+json": {
       "model_id": "148375cb0ab84eca975877ceb7775d49",
       "version_major": 2,
       "version_minor": 0
      },
      "text/plain": [
       "  0%|          | 0/782 [00:00<?, ?it/s]"
      ]
     },
     "metadata": {},
     "output_type": "display_data"
    },
    {
     "name": "stdout",
     "output_type": "stream",
     "text": [
      "[Epoch 0] Avg diff on the test set: 0.09\n",
      "[Epoch 0] Accuracy on the test set: 96.25%\n",
      "[Sample result]\n",
      "tensor([[0., 1., 0., 1.],\n",
      "        [0., 0., 0., 0.],\n",
      "        [2., 2., 2., 2.],\n",
      "        [2., 0., 2., 0.],\n",
      "        [1., 2., 1., 2.],\n",
      "        [1., 0., 1., 0.],\n",
      "        [2., 1., 2., 1.],\n",
      "        [0., 2., 0., 2.],\n",
      "        [1., 1., 1., 1.]], device='cuda:3')\n",
      "Accuracy: 100.00%\n",
      "Parameter: 87586674\n",
      "Parameter: 87586674\n",
      "Epoch: 100\n"
     ]
    },
    {
     "data": {
      "application/vnd.jupyter.widget-view+json": {
       "model_id": "150b0bde12fb4409995064b1d6e45f84",
       "version_major": 2,
       "version_minor": 0
      },
      "text/plain": [
       "  0%|          | 0/782 [00:00<?, ?it/s]"
      ]
     },
     "metadata": {},
     "output_type": "display_data"
    },
    {
     "name": "stdout",
     "output_type": "stream",
     "text": [
      "[Epoch 0] Avg diff on the test set: 0.09\n",
      "[Epoch 0] Accuracy on the test set: 96.43%\n",
      "[Sample result]\n",
      "tensor([[1., 1., 1., 1.],\n",
      "        [0., 2., 0., 2.],\n",
      "        [2., 0., 2., 0.],\n",
      "        [0., 0., 0., 0.],\n",
      "        [2., 1., 2., 1.],\n",
      "        [2., 2., 2., 2.],\n",
      "        [1., 0., 1., 0.],\n",
      "        [1., 2., 1., 2.],\n",
      "        [0., 1., 0., 1.]], device='cuda:3')\n",
      "Accuracy: 100.00%\n",
      "Parameter: 87586674\n",
      "Parameter: 87586674\n",
      "Epoch: 100\n"
     ]
    },
    {
     "data": {
      "application/vnd.jupyter.widget-view+json": {
       "model_id": "a8fdcdd551094d9fa686892c8fa6d79c",
       "version_major": 2,
       "version_minor": 0
      },
      "text/plain": [
       "  0%|          | 0/782 [00:00<?, ?it/s]"
      ]
     },
     "metadata": {},
     "output_type": "display_data"
    },
    {
     "name": "stdout",
     "output_type": "stream",
     "text": [
      "[Epoch 0] Avg diff on the test set: 0.09\n",
      "[Epoch 0] Accuracy on the test set: 96.35%\n",
      "[Sample result]\n",
      "tensor([[2., 2., 2., 2.],\n",
      "        [1., 2., 1., 2.],\n",
      "        [1., 1., 1., 1.],\n",
      "        [2., 0., 2., 0.],\n",
      "        [2., 1., 2., 1.],\n",
      "        [0., 1., 0., 1.],\n",
      "        [1., 0., 1., 0.],\n",
      "        [0., 2., 0., 2.],\n",
      "        [0., 0., 0., 0.]], device='cuda:3')\n",
      "Accuracy: 100.00%\n",
      "Parameter: 87586674\n",
      "Parameter: 87586674\n",
      "Epoch: 100\n"
     ]
    },
    {
     "data": {
      "application/vnd.jupyter.widget-view+json": {
       "model_id": "62b065d3463a4eee98e30eb5b4eb76bd",
       "version_major": 2,
       "version_minor": 0
      },
      "text/plain": [
       "  0%|          | 0/782 [00:00<?, ?it/s]"
      ]
     },
     "metadata": {},
     "output_type": "display_data"
    },
    {
     "name": "stdout",
     "output_type": "stream",
     "text": [
      "[Epoch 0] Avg diff on the test set: 0.09\n",
      "[Epoch 0] Accuracy on the test set: 96.44%\n",
      "[Sample result]\n",
      "tensor([[1., 1., 1., 1.],\n",
      "        [1., 2., 1., 2.],\n",
      "        [1., 0., 1., 0.],\n",
      "        [0., 1., 0., 1.],\n",
      "        [2., 1., 2., 1.],\n",
      "        [2., 0., 2., 0.],\n",
      "        [0., 0., 0., 0.],\n",
      "        [2., 2., 2., 2.],\n",
      "        [0., 2., 0., 2.]], device='cuda:3')\n",
      "Accuracy: 100.00%\n"
     ]
    }
   ],
   "source": [
    "if __name__ == '__main__':\n",
    "    tester = Tester()\n",
    "    tester.augment_tile = transforms.Compose([])\n",
    "    [tester.process(load=True) for i in range(5)]\n",
    "    \n",
    "#     for i in range(8):\n",
    "#         global model_path\n",
    "#         model_path = f'./save/xxx{i+1}.pt'\n",
    "#         tester.process()"
   ]
  },
  {
   "cell_type": "code",
   "execution_count": 6,
   "metadata": {},
   "outputs": [
    {
     "data": {
      "text/plain": [
       "'\\n31: 71.72%\\n32: 83.23%\\n35: 86.27%\\n36: 87.25%\\n39: 88.82%\\n40: 89.24%\\n53: 92.82%\\n57: 93.35%\\n62: 94.20%\\n71: 95.10%\\n83: 95.99%\\n\\n\\n5 test mean(CNN): 88.1%\\n(88.15 + 87.98 + 88.12 + 88.31 + 88.07)/5\\n\\n5 test mean(ViT): \\n'"
      ]
     },
     "execution_count": 6,
     "metadata": {},
     "output_type": "execute_result"
    }
   ],
   "source": [
    "'''\n",
    "31: 71.72%\n",
    "32: 83.23%\n",
    "35: 86.27%\n",
    "36: 87.25%\n",
    "39: 88.82%\n",
    "40: 89.24%\n",
    "53: 92.82%\n",
    "57: 93.35%\n",
    "62: 94.20%\n",
    "71: 95.10%\n",
    "83: 95.99%\n",
    "\n",
    "\n",
    "5 test mean(CNN): 88.1%\n",
    "(88.15 + 87.98 + 88.12 + 88.31 + 88.07)/5\n",
    "\n",
    "5 test mean(ViT): 96.4%\n",
    "(96.37 + 96.25 + 96.43 + 96.35 + 96.44)/5\n",
    "'''"
   ]
  }
 ],
 "metadata": {
  "kernelspec": {
   "display_name": "Python 3",
   "language": "python",
   "name": "python3"
  },
  "language_info": {
   "codemirror_mode": {
    "name": "ipython",
    "version": 3
   },
   "file_extension": ".py",
   "mimetype": "text/x-python",
   "name": "python",
   "nbconvert_exporter": "python",
   "pygments_lexer": "ipython3",
   "version": "3.6.9"
  }
 },
 "nbformat": 4,
 "nbformat_minor": 2
}
