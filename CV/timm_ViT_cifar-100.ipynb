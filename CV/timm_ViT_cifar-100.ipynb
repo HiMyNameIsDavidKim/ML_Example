{
 "cells": [
  {
   "cell_type": "markdown",
   "metadata": {},
   "source": [
    "# timm ViT 구현 Cifar-100 fine-tuning\n",
    "\n",
    "## timm 설치"
   ]
  },
  {
   "cell_type": "markdown",
   "metadata": {
    "ExecuteTime": {
     "end_time": "2023-04-13T06:20:04.950681Z",
     "start_time": "2023-04-13T06:20:01.780543Z"
    }
   },
   "source": [
    "pip install timm"
   ]
  },
  {
   "cell_type": "markdown",
   "metadata": {},
   "source": [
    "## Library"
   ]
  },
  {
   "cell_type": "code",
   "execution_count": null,
   "metadata": {
    "ExecuteTime": {
     "end_time": "2023-04-19T02:19:25.840598Z",
     "start_time": "2023-04-19T02:19:25.003931Z"
    },
    "pycharm": {
     "is_executing": true
    }
   },
   "outputs": [],
   "source": [
    "import timm\n",
    "import torch\n",
    "import torch.nn as nn\n",
    "import torchvision.transforms as transforms\n",
    "from torch.optim import Adam\n",
    "from torch.optim.lr_scheduler import CosineAnnealingLR\n",
    "from torch.utils.data import DataLoader\n",
    "from torchvision import datasets\n",
    "from tqdm.notebook import tqdm\n",
    "\n",
    "gpu_ids = []\n",
    "device_names = []\n",
    "if torch.cuda.is_available():\n",
    "    for gpu_id in range(torch.cuda.device_count()):\n",
    "        gpu_ids += [gpu_id]\n",
    "        device_names += [torch.cuda.get_device_name(gpu_id)]\n",
    "print(gpu_ids)\n",
    "print(device_names)\n",
    "\n",
    "if len(gpu_ids) > 1:\n",
    "    gpu = 'cuda:' + str(gpu_ids[3])  # GPU Number\n",
    "else:\n",
    "    gpu = \"cuda\" if torch.cuda.is_available() else \"cpu\""
   ]
  },
  {
   "cell_type": "markdown",
   "metadata": {},
   "source": [
    "## Hyper parameter"
   ]
  },
  {
   "cell_type": "code",
   "execution_count": 2,
   "metadata": {
    "ExecuteTime": {
     "end_time": "2023-04-19T02:19:25.847281Z",
     "start_time": "2023-04-19T02:19:25.843140Z"
    }
   },
   "outputs": [],
   "source": [
    "model_path = './save/timm_ViT_Cifar100.pt'\n",
    "device = gpu\n",
    "BATCH_SIZE = 32\n",
    "NUM_EPOCHS = 500\n",
    "NUM_WORKERS = 2\n",
    "LEARNING_RATE = 0.01\n",
    "NUM_CLASSES = 100"
   ]
  },
  {
   "cell_type": "markdown",
   "metadata": {},
   "source": [
    "## Dataset"
   ]
  },
  {
   "cell_type": "code",
   "execution_count": 3,
   "metadata": {
    "ExecuteTime": {
     "end_time": "2023-04-19T02:19:27.757697Z",
     "start_time": "2023-04-19T02:19:25.849144Z"
    }
   },
   "outputs": [
    {
     "name": "stdout",
     "output_type": "stream",
     "text": [
      "Files already downloaded and verified\n",
      "Files already downloaded and verified\n"
     ]
    }
   ],
   "source": [
    "transform_train = transforms.Compose([\n",
    "    transforms.RandomCrop(32),\n",
    "    transforms.RandomHorizontalFlip(p=0.3),\n",
    "    transforms.Resize(224),\n",
    "    transforms.ToTensor(),\n",
    "    transforms.Normalize((0.5, 0.5, 0.5), (0.5, 0.5, 0.5)),\n",
    "])\n",
    "trainset = datasets.CIFAR100(root='./data/', train=True, download=True, transform=transform_train)\n",
    "trainloader = DataLoader(trainset, batch_size=BATCH_SIZE, shuffle=True, num_workers=NUM_WORKERS)\n",
    "transform_test = transforms.Compose([\n",
    "    transforms.Resize(224),\n",
    "    transforms.ToTensor(),\n",
    "    transforms.Normalize((0.5, 0.5, 0.5), (0.5, 0.5, 0.5)),\n",
    "])\n",
    "testset = datasets.CIFAR100(root='./data/', train=False, download=True, transform=transform_test)\n",
    "testloader = DataLoader(testset, batch_size=BATCH_SIZE, shuffle=True, num_workers=NUM_WORKERS)"
   ]
  },
  {
   "cell_type": "markdown",
   "metadata": {},
   "source": [
    "## Class 선언"
   ]
  },
  {
   "cell_type": "code",
   "execution_count": 4,
   "metadata": {
    "ExecuteTime": {
     "end_time": "2023-04-19T02:19:27.785425Z",
     "start_time": "2023-04-19T02:19:27.764041Z"
    },
    "scrolled": true
   },
   "outputs": [],
   "source": [
    "class ViTCifar100Model(object):\n",
    "    def __init__(self):\n",
    "        self.model = None\n",
    "        self.optimizer = None\n",
    "        self.scheduler = None\n",
    "        self.epochs = []\n",
    "        self.losses = []\n",
    "\n",
    "    def process(self):\n",
    "        self.build_model()\n",
    "        self.train_model()\n",
    "        self.eval_model()\n",
    "\n",
    "    def build_model(self):\n",
    "        self.model = timm.models.vit_base_patch16_224(pretrained=True).to(device)\n",
    "        self.model.num_classes = NUM_CLASSES\n",
    "        # self.model = timm.models.vit_large_patch16_224(pretrained=True).to(device)\n",
    "        print(f'Parameter: {sum(p.numel() for p in self.model.parameters() if p.requires_grad)}')\n",
    "        print(f'Classes: {self.model.num_classes}')\n",
    "\n",
    "    def train_model(self):\n",
    "        model = self.model.to(device)\n",
    "        criterion = nn.CrossEntropyLoss()\n",
    "        optimizer = Adam(model.parameters(), lr=LEARNING_RATE)\n",
    "        scheduler = CosineAnnealingLR(optimizer, T_max=NUM_EPOCHS, eta_min=0, last_epoch=-1)\n",
    "\n",
    "        for epoch in range(NUM_EPOCHS):\n",
    "            running_loss = 0.0\n",
    "            for i, data in tqdm(enumerate(trainloader, 0), total=len(trainloader)):\n",
    "                inputs, labels = data\n",
    "                inputs, labels = inputs.to(device), labels.to(device)\n",
    "\n",
    "                optimizer.zero_grad()\n",
    "\n",
    "                outputs = model(inputs)\n",
    "                loss = criterion(outputs, labels)\n",
    "                loss.backward()\n",
    "                optimizer.step()\n",
    "\n",
    "                running_loss += loss.item()\n",
    "#                 if i % 10 == 0:\n",
    "#                     print(f'[Epoch {epoch + 1}, Batch {i + 1:5d}] loss: {loss / 100:.3f}')\n",
    "            if epoch % 1 == 0:\n",
    "                self.epochs.append(epoch + 1)\n",
    "                self.model = model\n",
    "                self.optimizer = optimizer\n",
    "                self.scheduler = scheduler\n",
    "                self.losses.append(running_loss)\n",
    "                self.save_model()\n",
    "            scheduler.step()\n",
    "        print('****** Finished Training ******')\n",
    "\n",
    "    def save_model(self):\n",
    "        checkpoint = {\n",
    "            'epochs': self.epochs,\n",
    "            'model': self.model.state_dict(),\n",
    "            'optimizer': self.optimizer.state_dict(),\n",
    "            'scheduler': self.scheduler.state_dict(),\n",
    "            'losses': self.losses,\n",
    "        }\n",
    "        torch.save(checkpoint, model_path)\n",
    "        print(f\"****** Model checkpoint saved at epoch {self.epochs[-1]} ******\")\n",
    "\n",
    "    def eval_model(self):\n",
    "        checkpoint = torch.load(model_path)\n",
    "        self.model.load_state_dict(checkpoint['model'])\n",
    "        self.optimizer.load_state_dict(checkpoint['optimizer'])\n",
    "        self.model.eval()\n",
    "\n",
    "        correct = 0\n",
    "        total = 0\n",
    "        with torch.no_grad():\n",
    "            for data in testloader:\n",
    "                images, labels = data\n",
    "                images, labels = images.to(device), labels.to(device)\n",
    "                outputs = self.model(images)\n",
    "                _, predicted = torch.max(outputs.data, 1)\n",
    "                total += labels.size(0)\n",
    "                correct += (predicted == labels).sum().item()\n",
    "        print(f'Accuracy {len(testset)} test images: {100 * correct / total:.2f} %')"
   ]
  },
  {
   "cell_type": "markdown",
   "metadata": {},
   "source": [
    "## Method 실행"
   ]
  },
  {
   "cell_type": "code",
   "execution_count": null,
   "metadata": {
    "ExecuteTime": {
     "start_time": "2023-04-19T02:19:24.965Z"
    },
    "scrolled": false
   },
   "outputs": [
    {
     "name": "stdout",
     "output_type": "stream",
     "text": [
      "Parameter: 86567656\n",
      "Classes: 100\n"
     ]
    },
    {
     "data": {
      "application/vnd.jupyter.widget-view+json": {
       "model_id": "0940806d2b21488e980ddb640d99b4a6",
       "version_major": 2,
       "version_minor": 0
      },
      "text/plain": [
       "  0%|          | 0/1563 [00:00<?, ?it/s]"
      ]
     },
     "metadata": {},
     "output_type": "display_data"
    },
    {
     "name": "stdout",
     "output_type": "stream",
     "text": [
      "****** Model checkpoint saved at epoch 1 ******\n"
     ]
    },
    {
     "data": {
      "application/vnd.jupyter.widget-view+json": {
       "model_id": "47d6b0930fd5451f9bf37f65407c37f0",
       "version_major": 2,
       "version_minor": 0
      },
      "text/plain": [
       "  0%|          | 0/1563 [00:00<?, ?it/s]"
      ]
     },
     "metadata": {},
     "output_type": "display_data"
    }
   ],
   "source": [
    "if __name__ == '__main__':\n",
    "    vit = ViTCifar100Model()\n",
    "    vit.process()"
   ]
  },
  {
   "cell_type": "markdown",
   "metadata": {},
   "source": [
    "## Loss check"
   ]
  },
  {
   "cell_type": "code",
   "execution_count": null,
   "metadata": {
    "ExecuteTime": {
     "start_time": "2023-04-19T02:19:24.965Z"
    }
   },
   "outputs": [],
   "source": [
    "print(vit.losses)"
   ]
  }
 ],
 "metadata": {
  "kernelspec": {
   "display_name": "Python 3.9.7",
   "language": "python",
   "name": "python3.9.7"
  },
  "language_info": {
   "codemirror_mode": {
    "name": "ipython",
    "version": 3
   },
   "file_extension": ".py",
   "mimetype": "text/x-python",
   "name": "python",
   "nbconvert_exporter": "python",
   "pygments_lexer": "ipython3",
   "version": "3.9.7"
  }
 },
 "nbformat": 4,
 "nbformat_minor": 5
}
