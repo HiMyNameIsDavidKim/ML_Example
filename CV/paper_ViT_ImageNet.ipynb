{
 "cells": [
  {
   "cell_type": "markdown",
   "id": "d87b04c5",
   "metadata": {},
   "source": [
    "## Library"
   ]
  },
  {
   "cell_type": "code",
   "execution_count": 1,
   "id": "21127e7b",
   "metadata": {
    "ExecuteTime": {
     "end_time": "2023-06-09T04:45:10.446234Z",
     "start_time": "2023-06-09T04:45:09.709513Z"
    }
   },
   "outputs": [
    {
     "name": "stdout",
     "output_type": "stream",
     "text": [
      "[0, 1, 2, 3]\n",
      "['NVIDIA GeForce RTX 3090', 'NVIDIA GeForce RTX 3090', 'NVIDIA GeForce RTX 3090', 'NVIDIA GeForce RTX 3090']\n"
     ]
    }
   ],
   "source": [
    "import torch\n",
    "import torchvision\n",
    "import torch.utils.data as data\n",
    "import torchvision.transforms as transforms\n",
    "from torch.optim import AdamW, SGD\n",
    "from torch import nn\n",
    "from tqdm import tqdm\n",
    "from torch.optim.lr_scheduler import CosineAnnealingLR\n",
    "\n",
    "from vit_pooling import ViTPooling\n",
    "\n",
    "gpu_ids = []\n",
    "device_names = []\n",
    "if torch.cuda.is_available():\n",
    "    for gpu_id in range(torch.cuda.device_count()):\n",
    "        gpu_ids += [gpu_id]\n",
    "        device_names += [torch.cuda.get_device_name(gpu_id)]\n",
    "print(gpu_ids)\n",
    "print(device_names)\n",
    "\n",
    "if len(gpu_ids) > 1:\n",
    "    gpu = 'cuda:' + str(gpu_ids[1])  # GPU Number\n",
    "else:\n",
    "    gpu = \"cuda\" if torch.cuda.is_available() else \"cpu\""
   ]
  },
  {
   "cell_type": "markdown",
   "id": "441ec88d",
   "metadata": {},
   "source": [
    "## Hyper parameter"
   ]
  },
  {
   "cell_type": "code",
   "execution_count": 2,
   "id": "cb3bb432",
   "metadata": {
    "ExecuteTime": {
     "end_time": "2023-06-09T04:45:10.453722Z",
     "start_time": "2023-06-09T04:45:10.449023Z"
    }
   },
   "outputs": [],
   "source": [
    "device = gpu\n",
    "BATCH_SIZE = 64\n",
    "NUM_EPOCHS = 300\n",
    "NUM_WORKERS = 2\n",
    "LEARNING_RATE = 0.00005\n",
    "pre_model_path = './save/ViT_d_i2012_ep300_lr0.00005.pt'\n",
    "fine_model_path = ''\n",
    "load_model_path = ''\n",
    "\n",
    "IMAGE_SIZE = 224\n",
    "PATCH_SIZE = 16\n",
    "IN_CHANNELS = 3\n",
    "NUM_CLASSES = 1000\n",
    "EMBED_DIM = 768\n",
    "DEPTH = 12\n",
    "NUM_HEADS = 12\n",
    "WEIGHT_DECAY = 0.3\n",
    "DROP_RATE = 0.1"
   ]
  },
  {
   "cell_type": "markdown",
   "id": "10322ed9",
   "metadata": {},
   "source": [
    "## Dataset"
   ]
  },
  {
   "cell_type": "code",
   "execution_count": 3,
   "id": "84874840",
   "metadata": {
    "ExecuteTime": {
     "end_time": "2023-06-09T04:45:15.352932Z",
     "start_time": "2023-06-09T04:45:10.455894Z"
    }
   },
   "outputs": [],
   "source": [
    "transform_train = transforms.Compose([\n",
    "    transforms.RandomResizedCrop(224),\n",
    "    transforms.ToTensor(),\n",
    "    transforms.Normalize(mean=[0.485, 0.456, 0.406], std=[0.229, 0.224, 0.225])\n",
    "])\n",
    "transform_test = transforms.Compose([\n",
    "    transforms.RandomResizedCrop(224),\n",
    "    transforms.ToTensor(),\n",
    "    transforms.Normalize(mean=[0.485, 0.456, 0.406], std=[0.229, 0.224, 0.225])\n",
    "])\n",
    "# pre_train_set = torchvision.datasets.ImageFolder('./data/ImageNet-21k', transform=transform_train)\n",
    "# pre_train_loader = data.DataLoader(pre_train_set, batch_size=BATCH_SIZE, shuffle=True, num_workers=NUM_WORKERS)\n",
    "train_set = torchvision.datasets.ImageFolder('../../YJ/ILSVRC2012/train', transform=transform_train)\n",
    "train_loader = data.DataLoader(train_set, batch_size=BATCH_SIZE, shuffle=True, num_workers=NUM_WORKERS)\n",
    "test_set = torchvision.datasets.ImageFolder('../../YJ/ILSVRC2012/val', transform=transform_test)\n",
    "test_loader = data.DataLoader(test_set, batch_size=BATCH_SIZE, shuffle=True, num_workers=NUM_WORKERS)"
   ]
  },
  {
   "cell_type": "markdown",
   "id": "1547071d",
   "metadata": {},
   "source": [
    "## Pre-training Class"
   ]
  },
  {
   "cell_type": "code",
   "execution_count": 4,
   "id": "27769623",
   "metadata": {
    "ExecuteTime": {
     "end_time": "2023-06-09T04:45:15.368584Z",
     "start_time": "2023-06-09T04:45:15.356776Z"
    }
   },
   "outputs": [],
   "source": [
    "class PreTrainer(object):\n",
    "    def __init__(self):\n",
    "        self.model = None\n",
    "        self.optimizer = None\n",
    "        self.epochs = []\n",
    "        self.losses = []\n",
    "\n",
    "    def process(self, load=False):\n",
    "        self.build_model(load)\n",
    "        self.pretrain_model()\n",
    "        self.save_model()\n",
    "\n",
    "    def build_model(self, load):\n",
    "        self.model = ViTPooling(image_size=IMAGE_SIZE,\n",
    "                                patch_size=PATCH_SIZE,\n",
    "                                in_channels=IN_CHANNELS,\n",
    "                                num_classes=NUM_CLASSES,\n",
    "                                embed_dim=EMBED_DIM,\n",
    "                                depth=DEPTH,\n",
    "                                num_heads=NUM_HEADS,\n",
    "                                drop_rate=DROP_RATE,\n",
    "                                ).to(device)\n",
    "        if load:\n",
    "            checkpoint = torch.load(load_model_path)\n",
    "            self.epochs = checkpoint['epochs']\n",
    "            self.model.load_state_dict(checkpoint['model'])\n",
    "            self.losses = checkpoint['losses']\n",
    "            print(f'Parameter: {sum(p.numel() for p in self.model.parameters() if p.requires_grad)}')\n",
    "            print(f'Classes: {NUM_CLASSES}')\n",
    "            print(f'Epoch: {self.epochs[-1]}')\n",
    "            print(f'****** Reset epochs and losses ******')\n",
    "            self.epochs = []\n",
    "            self.losses = []\n",
    "\n",
    "    def pretrain_model(self):\n",
    "        model = self.model\n",
    "        criterion = nn.CrossEntropyLoss()\n",
    "        optimizer = AdamW(model.parameters(), lr=LEARNING_RATE, weight_decay=WEIGHT_DECAY)\n",
    "        scheduler = CosineAnnealingLR(optimizer, T_max=NUM_EPOCHS)\n",
    "\n",
    "        for epoch in range(NUM_EPOCHS):\n",
    "            running_loss = 0.0\n",
    "            saving_loss = 0.0\n",
    "            for i, data in tqdm(enumerate(train_loader, 0), total=len(train_loader)):\n",
    "                inputs, labels = data\n",
    "                inputs, labels = inputs.to(device), labels.to(device)\n",
    "\n",
    "                optimizer.zero_grad()\n",
    "\n",
    "                outputs = model(inputs)\n",
    "                loss = criterion(outputs, labels)\n",
    "                loss.backward()\n",
    "                optimizer.step()\n",
    "                running_loss += loss.item()\n",
    "                saving_loss = loss.item()\n",
    "                if i % 100 == 99:\n",
    "                    print(f'[Epoch {epoch}, Batch {i + 1:5d}] loss: {running_loss / 100:.3f}')\n",
    "                    running_loss = 0.0\n",
    "                if i % 1000 == 999:\n",
    "                    self.epochs.append(epoch + 1)\n",
    "                    self.model = model\n",
    "                    self.optimizer = optimizer\n",
    "                    self.losses.append(saving_loss)\n",
    "                    self.save_model()\n",
    "            scheduler.step()\n",
    "        print('****** Finished Pre-training ******')\n",
    "\n",
    "    def save_model(self):\n",
    "        checkpoint = {\n",
    "            'epochs': self.epochs,\n",
    "            'model': self.model.state_dict(),\n",
    "            'optimizer': self.optimizer.state_dict(),\n",
    "            'losses': self.losses,\n",
    "        }\n",
    "        torch.save(checkpoint, pre_model_path)\n",
    "        print(f\"****** Model checkpoint saved at epochs {self.epochs[-1]} ******\")"
   ]
  },
  {
   "cell_type": "markdown",
   "id": "0ea72c17",
   "metadata": {},
   "source": [
    "## Fine-tuning Class"
   ]
  },
  {
   "cell_type": "code",
   "execution_count": 5,
   "id": "b5d6f922",
   "metadata": {
    "ExecuteTime": {
     "end_time": "2023-06-09T04:45:15.383012Z",
     "start_time": "2023-06-09T04:45:15.370694Z"
    }
   },
   "outputs": [],
   "source": [
    "class FineTunner(object):\n",
    "    def __init__(self):\n",
    "        self.model = None\n",
    "        self.optimizer = None\n",
    "        self.epochs = []\n",
    "        self.losses = []\n",
    "\n",
    "    def process(self):\n",
    "        self.build_model()\n",
    "        self.finetune_model()\n",
    "        self.save_model()\n",
    "\n",
    "    def build_model(self):\n",
    "        self.model = ViTPooling(image_size=IMAGE_SIZE,\n",
    "                                patch_size=PATCH_SIZE,\n",
    "                                in_channels=IN_CHANNELS,\n",
    "                                num_classes=NUM_CLASSES,\n",
    "                                embed_dim=EMBED_DIM,\n",
    "                                depth=DEPTH,\n",
    "                                num_heads=NUM_HEADS,\n",
    "                                ).to(device)\n",
    "        checkpoint = torch.load(pre_model_path)\n",
    "        self.epochs = checkpoint['epochs']\n",
    "        self.model.load_state_dict(checkpoint['model'])\n",
    "        self.losses = checkpoint['losses']\n",
    "        print(f'Parameter: {sum(p.numel() for p in self.model.parameters() if p.requires_grad)}')\n",
    "        print(f'Classes: {NUM_CLASSES}')\n",
    "        print(f'Epoch: {self.epochs[-1]}')\n",
    "        print(f'****** Reset epochs and losses ******')\n",
    "        self.epochs = []\n",
    "        self.losses = []\n",
    "\n",
    "    def finetune_model(self):\n",
    "        model = self.model\n",
    "        criterion = nn.CrossEntropyLoss()\n",
    "        optimizer = SGD(model.parameters(), lr=LEARNING_RATE, momentum=0.9)\n",
    "\n",
    "        for epoch in range(NUM_EPOCHS):\n",
    "            running_loss = 0.0\n",
    "            saving_loss = 0.0\n",
    "            for i, data in tqdm(enumerate(train_loader, 0), total=len(train_loader)):\n",
    "                inputs, labels = data\n",
    "                inputs, labels = inputs.to(device), labels.to(device)\n",
    "\n",
    "                optimizer.zero_grad()\n",
    "\n",
    "                outputs = model(inputs)\n",
    "                loss = criterion(outputs, labels)\n",
    "                loss.backward()\n",
    "                optimizer.step()\n",
    "                running_loss += loss.item()\n",
    "                saving_loss = loss.item()\n",
    "                if i % 100 == 99:\n",
    "                    print(f'[Epoch {epoch}, Batch {i + 1:5d}] loss: {running_loss / 100:.3f}')\n",
    "                    running_loss = 0.0\n",
    "                if i % 1000 == 999:\n",
    "                    self.epochs.append(epoch + 1)\n",
    "                    self.model = model\n",
    "                    self.optimizer = optimizer\n",
    "                    self.losses.append(saving_loss)\n",
    "                    self.save_model()\n",
    "        print('****** Finished Pre-training ******')\n",
    "        self.model = model\n",
    "\n",
    "    def save_model(self):\n",
    "        checkpoint = {\n",
    "            'epochs': self.epochs,\n",
    "            'model': self.model.state_dict(),\n",
    "            'optimizer': self.optimizer.state_dict(),\n",
    "            'losses': self.losses,\n",
    "        }\n",
    "        torch.save(checkpoint, fine_model_path)\n",
    "        print(f\"****** Model checkpoint saved at epochs {self.epochs[-1]} ******\")"
   ]
  },
  {
   "cell_type": "code",
   "execution_count": null,
   "id": "b03b001b",
   "metadata": {
    "ExecuteTime": {
     "start_time": "2023-06-09T04:45:09.688Z"
    },
    "scrolled": true
   },
   "outputs": [
    {
     "name": "stderr",
     "output_type": "stream",
     "text": [
      "  0%|          | 25/20019 [00:10<2:06:37,  2.63it/s]"
     ]
    }
   ],
   "source": [
    "if __name__ == '__main__':\n",
    "    trainer = PreTrainer()\n",
    "    trainer.process()"
   ]
  },
  {
   "cell_type": "code",
   "execution_count": null,
   "id": "c8c14c74",
   "metadata": {},
   "outputs": [],
   "source": []
  }
 ],
 "metadata": {
  "kernelspec": {
   "display_name": "Python 3",
   "language": "python",
   "name": "python3"
  },
  "language_info": {
   "codemirror_mode": {
    "name": "ipython",
    "version": 3
   },
   "file_extension": ".py",
   "mimetype": "text/x-python",
   "name": "python",
   "nbconvert_exporter": "python",
   "pygments_lexer": "ipython3",
   "version": "3.6.9"
  }
 },
 "nbformat": 4,
 "nbformat_minor": 5
}
