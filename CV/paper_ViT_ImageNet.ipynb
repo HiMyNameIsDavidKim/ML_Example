{
 "cells": [
  {
   "cell_type": "markdown",
   "id": "d87b04c5",
   "metadata": {},
   "source": [
    "## Library"
   ]
  },
  {
   "cell_type": "code",
   "execution_count": 1,
   "id": "21127e7b",
   "metadata": {
    "ExecuteTime": {
     "end_time": "2023-06-09T04:45:10.446234Z",
     "start_time": "2023-06-09T04:45:09.709513Z"
    }
   },
   "outputs": [
    {
     "name": "stdout",
     "output_type": "stream",
     "text": [
      "[0, 1, 2, 3]\n",
      "['NVIDIA GeForce RTX 3090', 'NVIDIA GeForce RTX 3090', 'NVIDIA GeForce RTX 3090', 'NVIDIA GeForce RTX 3090']\n"
     ]
    }
   ],
   "source": [
    "import torch\n",
    "import torchvision\n",
    "import torch.utils.data as data\n",
    "import torchvision.transforms as transforms\n",
    "from torch.optim import AdamW, SGD\n",
    "from torch import nn\n",
    "from tqdm import tqdm\n",
    "from torch.optim.lr_scheduler import CosineAnnealingLR\n",
    "\n",
    "from vit_paper import ViT\n",
    "\n",
    "gpu_ids = []\n",
    "device_names = []\n",
    "if torch.cuda.is_available():\n",
    "    for gpu_id in range(torch.cuda.device_count()):\n",
    "        gpu_ids += [gpu_id]\n",
    "        device_names += [torch.cuda.get_device_name(gpu_id)]\n",
    "print(gpu_ids)\n",
    "print(device_names)\n",
    "\n",
    "if len(gpu_ids) > 1:\n",
    "    gpu = 'cuda:' + str(gpu_ids[0])  # GPU Number\n",
    "else:\n",
    "    gpu = \"cuda\" if torch.cuda.is_available() else \"cpu\""
   ]
  },
  {
   "cell_type": "markdown",
   "id": "441ec88d",
   "metadata": {},
   "source": [
    "## Hyper parameter"
   ]
  },
  {
   "cell_type": "code",
   "execution_count": 2,
   "id": "cb3bb432",
   "metadata": {
    "ExecuteTime": {
     "end_time": "2023-06-09T04:45:10.453722Z",
     "start_time": "2023-06-09T04:45:10.449023Z"
    }
   },
   "outputs": [],
   "source": [
    "device = gpu\n",
    "BATCH_SIZE = 64\n",
    "NUM_EPOCHS = 50\n",
    "WARMUP_EPOCHS = 5\n",
    "NUM_WORKERS = 2\n",
    "LEARNING_RATE = 0.0003\n",
    "pre_model_path = './save/ViT_i2012_ep300_lr0.0003.pt'\n",
    "load_model_path = './save/ViT_i2012_ep300_lr0.0003.pt'\n",
    "fine_model_path = './save/ViT_i2012_ep300_lr0.0003_augVanilla_i2012_ep7_lr0.03.pt'\n",
    "\n",
    "IMAGE_SIZE = 224\n",
    "PATCH_SIZE = 16\n",
    "IN_CHANNELS = 3\n",
    "NUM_CLASSES = 1000\n",
    "EMBED_DIM = 768\n",
    "DEPTH = 12\n",
    "NUM_HEADS = 12\n",
    "DROP_RATE = 0.1\n",
    "WEIGHT_DECAY = 0.3"
   ]
  },
  {
   "cell_type": "markdown",
   "id": "10322ed9",
   "metadata": {},
   "source": [
    "## Dataset"
   ]
  },
  {
   "cell_type": "code",
   "execution_count": 3,
   "id": "84874840",
   "metadata": {
    "ExecuteTime": {
     "end_time": "2023-06-09T04:45:15.352932Z",
     "start_time": "2023-06-09T04:45:10.455894Z"
    }
   },
   "outputs": [],
   "source": [
    "transform_train = transforms.Compose([\n",
    "    transforms.RandomResizedCrop(224),\n",
    "    transforms.ToTensor(),\n",
    "    transforms.Normalize(mean=[0.5, 0.5, 0.5], std=[0.5, 0.5, 0.5])\n",
    "])\n",
    "transform_test = transforms.Compose([\n",
    "    transforms.RandomResizedCrop(224),\n",
    "    transforms.ToTensor(),\n",
    "    transforms.Normalize(mean=[0.5, 0.5, 0.5], std=[0.5, 0.5, 0.5])\n",
    "])\n",
    "train_set = torchvision.datasets.ImageFolder('./data/ImageNet/val', transform=transform_train)\n",
    "train_loader = data.DataLoader(train_set, batch_size=BATCH_SIZE, shuffle=True, num_workers=NUM_WORKERS)\n",
    "test_set = torchvision.datasets.ImageFolder('./data/ImageNet/val', transform=transform_test)\n",
    "test_loader = data.DataLoader(test_set, batch_size=BATCH_SIZE, shuffle=True, num_workers=NUM_WORKERS)"
   ]
  },
  {
   "cell_type": "markdown",
   "id": "1547071d",
   "metadata": {},
   "source": [
    "## Pre-training Class"
   ]
  },
  {
   "cell_type": "code",
   "execution_count": 4,
   "id": "27769623",
   "metadata": {
    "ExecuteTime": {
     "end_time": "2023-06-09T04:45:15.368584Z",
     "start_time": "2023-06-09T04:45:15.356776Z"
    }
   },
   "outputs": [],
   "source": [
    "class PreTrainer(object):\n",
    "    def __init__(self):\n",
    "        self.model = None\n",
    "        self.optimizer = None\n",
    "        self.scheduler = None\n",
    "        self.epochs = [0]\n",
    "        self.losses = [0]\n",
    "        self.accuracies = [0]\n",
    "\n",
    "    def process(self, load=False):\n",
    "        self.build_model(load)\n",
    "        self.pretrain_model()\n",
    "        self.save_model()\n",
    "\n",
    "    def build_model(self, load):\n",
    "        self.model = ViT(image_size=IMAGE_SIZE,\n",
    "                         patch_size=PATCH_SIZE,\n",
    "                         in_channels=IN_CHANNELS,\n",
    "                         num_classes=NUM_CLASSES,\n",
    "                         embed_dim=EMBED_DIM,\n",
    "                         depth=DEPTH,\n",
    "                         num_heads=NUM_HEADS,\n",
    "                         drop_rate=DROP_RATE,\n",
    "                         ).to(device)\n",
    "        if load:\n",
    "            checkpoint = torch.load(load_model_path)\n",
    "            self.model.load_state_dict(checkpoint['model'])\n",
    "            self.epochs = checkpoint['epochs']\n",
    "            self.losses = checkpoint['losses']\n",
    "            self.accuracies = checkpoint['accuracies']\n",
    "            print(f'Parameter: {sum(p.numel() for p in self.model.parameters() if p.requires_grad)}')\n",
    "            print(f'Classes: {NUM_CLASSES}')\n",
    "            print(f'Epoch: {self.epochs[-1]}')\n",
    "            print(f'****** Reset epochs and losses ******')\n",
    "            self.epochs = []\n",
    "            self.losses = []\n",
    "            self.accuracies = []\n",
    "\n",
    "    def pretrain_model(self):\n",
    "        model = self.model.train()\n",
    "        criterion = nn.CrossEntropyLoss()\n",
    "        optimizer = AdamW(model.parameters(), lr=LEARNING_RATE, weight_decay=WEIGHT_DECAY)\n",
    "        scheduler = CosineAnnealingLR(optimizer, T_max=NUM_EPOCHS)\n",
    "\n",
    "        for epoch in range(NUM_EPOCHS):\n",
    "            if epoch < WARMUP_EPOCHS:\n",
    "                lr_warmup = ((epoch + 1) / WARMUP_EPOCHS) * LEARNING_RATE\n",
    "                for param_group in optimizer.param_groups:\n",
    "                    param_group['lr'] = lr_warmup\n",
    "                if epoch + 1 == WARMUP_EPOCHS:\n",
    "                    scheduler = CosineAnnealingLR(optimizer, T_max=NUM_EPOCHS)\n",
    "            print(f\"epoch {epoch + 1} learning rate : {optimizer.param_groups[0]['lr']}\")\n",
    "            running_loss = 0.0\n",
    "            saving_loss = 0.0\n",
    "            correct = 0\n",
    "            total = 0\n",
    "            for i, data in tqdm(enumerate(train_loader, 0), total=len(train_loader)):\n",
    "                inputs, labels = data\n",
    "                inputs, labels = inputs.to(device), labels.to(device)\n",
    "\n",
    "                optimizer.zero_grad()\n",
    "\n",
    "                outputs = model(inputs)\n",
    "                loss = criterion(outputs, labels)\n",
    "                loss.backward()\n",
    "                optimizer.step()\n",
    "                \n",
    "                running_loss += loss.item()\n",
    "                saving_loss = loss.item()\n",
    "                _, predicted = torch.max(outputs.data, 1)\n",
    "                total += labels.size(0)\n",
    "                correct += (predicted == labels).sum().item()\n",
    "                \n",
    "                if i % 100 == 99:\n",
    "                    print(f'[Epoch {epoch}, Batch {i + 1:5d}] loss: {running_loss / 100:.3f}, acc: {correct/total*100:.2f} %')\n",
    "                    running_loss = 0.0\n",
    "                if i % 1000 == 999:\n",
    "                    self.epochs.append(epoch + 1)\n",
    "                    self.losses.append(saving_loss/1000)\n",
    "                    self.accuracies.append(correct/total*100)\n",
    "                    saving_loss = 0.0\n",
    "                    correct = 0\n",
    "                    total = 0\n",
    "            self.model = model\n",
    "            self.optimizer = optimizer\n",
    "            self.scheduler = scheduler\n",
    "            self.save_model()\n",
    "            scheduler.step()\n",
    "        print('****** Finished Fine-tuning ******')\n",
    "\n",
    "    def save_model(self):\n",
    "        checkpoint = {\n",
    "            'model': self.model.state_dict(),\n",
    "            'optimizer': self.optimizer.state_dict(),\n",
    "            'scheduler': self.scheduler.state_dict(),\n",
    "            'epochs': self.epochs,\n",
    "            'losses': self.losses,\n",
    "            'accuracies': self.accuracies,\n",
    "        }\n",
    "        torch.save(checkpoint, pre_model_path)\n",
    "#         torch.save(checkpoint, dynamic_model_path+str(self.epochs[-1])+f'_lr{LEARNING_RATE}.pt')\n",
    "        print(f\"****** Model checkpoint saved at epochs {self.epochs[-1]} ******\")"
   ]
  },
  {
   "cell_type": "markdown",
   "id": "0ea72c17",
   "metadata": {},
   "source": [
    "## Fine-tuning Class"
   ]
  },
  {
   "cell_type": "code",
   "execution_count": 5,
   "id": "b5d6f922",
   "metadata": {
    "ExecuteTime": {
     "end_time": "2023-06-09T04:45:15.383012Z",
     "start_time": "2023-06-09T04:45:15.370694Z"
    }
   },
   "outputs": [],
   "source": [
    "class FineTunner(object):\n",
    "    def __init__(self):\n",
    "        self.model = None\n",
    "        self.optimizer = None\n",
    "        self.scheduler = None\n",
    "        self.epochs = [0]\n",
    "        self.losses = [0]\n",
    "        self.accuracies = [0]\n",
    "\n",
    "    def process(self):\n",
    "        self.build_model()\n",
    "        self.finetune_model()\n",
    "        self.save_model()\n",
    "\n",
    "    def build_model(self):\n",
    "        self.model = ViT(image_size=IMAGE_SIZE,\n",
    "                         patch_size=PATCH_SIZE,\n",
    "                         in_channels=IN_CHANNELS,\n",
    "                         num_classes=NUM_CLASSES,\n",
    "                         embed_dim=EMBED_DIM,\n",
    "                         depth=DEPTH,\n",
    "                         num_heads=NUM_HEADS,\n",
    "                         drop_rate=DROP_RATE,\n",
    "                         ).to(device)\n",
    "        checkpoint = torch.load(load_model_path)\n",
    "        self.model.load_state_dict(checkpoint['model'])\n",
    "        self.epochs = checkpoint['epochs']\n",
    "        self.losses = checkpoint['losses']\n",
    "        self.accuracies = checkpoint['accuracies']\n",
    "        print(f'Parameter: {sum(p.numel() for p in self.model.parameters() if p.requires_grad)}')\n",
    "        print(f'Classes: {NUM_CLASSES}')\n",
    "        print(f'Epoch: {self.epochs[-1]}')\n",
    "        print(f'****** Reset epochs and losses ******')\n",
    "        self.epochs = []\n",
    "        self.losses = []\n",
    "        self.accuracies = []\n",
    "\n",
    "    def finetune_model(self):\n",
    "        model = self.model.train()\n",
    "        criterion = nn.CrossEntropyLoss()\n",
    "        optimizer = SGD(model.parameters(), lr=LEARNING_RATE, momentum=0.9)\n",
    "\n",
    "        for epoch in range(NUM_EPOCHS):\n",
    "            if epoch < WARMUP_EPOCHS:\n",
    "                lr_warmup = ((epoch + 1) / WARMUP_EPOCHS) * LEARNING_RATE\n",
    "                for param_group in optimizer.param_groups:\n",
    "                    param_group['lr'] = lr_warmup\n",
    "                if epoch + 1 == WARMUP_EPOCHS:\n",
    "                    scheduler = CosineAnnealingLR(optimizer, T_max=NUM_EPOCHS)\n",
    "            print(f\"epoch {epoch + 1} learning rate : {optimizer.param_groups[0]['lr']}\")\n",
    "            running_loss = 0.0\n",
    "            saving_loss = 0.0\n",
    "            correct = 0\n",
    "            total = 0\n",
    "            for i, data in tqdm(enumerate(train_loader, 0), total=len(train_loader)):\n",
    "                inputs, labels = data\n",
    "                inputs, labels = inputs.to(device), labels.to(device)\n",
    "\n",
    "                optimizer.zero_grad()\n",
    "\n",
    "                outputs = model(inputs)\n",
    "                loss = criterion(outputs, labels)\n",
    "                loss.backward()\n",
    "                optimizer.step()\n",
    "                \n",
    "                running_loss += loss.item()\n",
    "                saving_loss += loss.item()\n",
    "                _, predicted = torch.max(outputs.data, 1)\n",
    "                total += labels.size(0)\n",
    "                correct += (predicted == labels).sum().item()\n",
    "\n",
    "                if i % 100 == 99:\n",
    "                    print(f'[Epoch {epoch}, Batch {i + 1:5d}] loss: {running_loss / 100:.3f}, acc: {correct/total*100:.2f} %')\n",
    "                    running_loss = 0.0\n",
    "                if i % 1000 == 999:\n",
    "                    self.epochs.append(epoch + 1)\n",
    "                    self.losses.append(saving_loss/1000)\n",
    "                    self.accuracies.append(correct/total*100)\n",
    "                    saving_loss = 0.0\n",
    "                    correct = 0\n",
    "                    total = 0\n",
    "            self.model = model\n",
    "            self.optimizer = optimizer\n",
    "            self.scheduler = scheduler\n",
    "            self.save_model()\n",
    "            scheduler.step()\n",
    "        print('****** Finished Fine-tuning ******')\n",
    "\n",
    "    def save_model(self):\n",
    "        checkpoint = {\n",
    "            'model': self.model.state_dict(),\n",
    "            'optimizer': self.optimizer.state_dict(),\n",
    "            'scheduler': self.scheduler.state_dict(),\n",
    "            'epochs': self.epochs,\n",
    "            'losses': self.losses,\n",
    "            'accuracies': self.accuracies,\n",
    "        }\n",
    "        torch.save(checkpoint, fine_model_path)\n",
    "#         torch.save(checkpoint, dynamic_model_path+str(self.epochs[-1])+f'_lr{LEARNING_RATE}.pt')\n",
    "        print(f\"****** Model checkpoint saved at epochs {self.epochs[-1]} ******\")"
   ]
  },
  {
   "cell_type": "code",
   "execution_count": null,
   "id": "094394ea",
   "metadata": {
    "ExecuteTime": {
     "start_time": "2023-06-09T04:45:09.688Z"
    },
    "scrolled": true
   },
   "outputs": [
    {
     "name": "stderr",
     "output_type": "stream",
     "text": [
      "  0%|          | 100/20019 [00:38<2:04:43,  2.66it/s]"
     ]
    },
    {
     "name": "stdout",
     "output_type": "stream",
     "text": [
      "[Epoch 0, Batch   100] loss: 6.950\n"
     ]
    },
    {
     "name": "stderr",
     "output_type": "stream",
     "text": [
      "  1%|          | 200/20019 [01:17<2:07:30,  2.59it/s]"
     ]
    },
    {
     "name": "stdout",
     "output_type": "stream",
     "text": [
      "[Epoch 0, Batch   200] loss: 6.895\n"
     ]
    },
    {
     "name": "stderr",
     "output_type": "stream",
     "text": [
      "  1%|▏         | 300/20019 [01:55<2:03:21,  2.66it/s]"
     ]
    },
    {
     "name": "stdout",
     "output_type": "stream",
     "text": [
      "[Epoch 0, Batch   300] loss: 6.841\n"
     ]
    },
    {
     "name": "stderr",
     "output_type": "stream",
     "text": [
      "  2%|▏         | 400/20019 [02:33<2:02:31,  2.67it/s]"
     ]
    },
    {
     "name": "stdout",
     "output_type": "stream",
     "text": [
      "[Epoch 0, Batch   400] loss: 6.794\n"
     ]
    },
    {
     "name": "stderr",
     "output_type": "stream",
     "text": [
      "  2%|▏         | 500/20019 [03:10<2:02:00,  2.67it/s]"
     ]
    },
    {
     "name": "stdout",
     "output_type": "stream",
     "text": [
      "[Epoch 0, Batch   500] loss: 6.746\n"
     ]
    },
    {
     "name": "stderr",
     "output_type": "stream",
     "text": [
      "  3%|▎         | 600/20019 [03:48<2:01:19,  2.67it/s]"
     ]
    },
    {
     "name": "stdout",
     "output_type": "stream",
     "text": [
      "[Epoch 0, Batch   600] loss: 6.702\n"
     ]
    },
    {
     "name": "stderr",
     "output_type": "stream",
     "text": [
      "  3%|▎         | 700/20019 [04:25<2:01:10,  2.66it/s]"
     ]
    },
    {
     "name": "stdout",
     "output_type": "stream",
     "text": [
      "[Epoch 0, Batch   700] loss: 6.669\n"
     ]
    },
    {
     "name": "stderr",
     "output_type": "stream",
     "text": [
      "  4%|▍         | 800/20019 [05:07<2:15:34,  2.36it/s]"
     ]
    },
    {
     "name": "stdout",
     "output_type": "stream",
     "text": [
      "[Epoch 0, Batch   800] loss: 6.658\n"
     ]
    },
    {
     "name": "stderr",
     "output_type": "stream",
     "text": [
      "  4%|▍         | 900/20019 [05:49<2:22:15,  2.24it/s]"
     ]
    },
    {
     "name": "stdout",
     "output_type": "stream",
     "text": [
      "[Epoch 0, Batch   900] loss: 6.627\n"
     ]
    },
    {
     "name": "stderr",
     "output_type": "stream",
     "text": [
      "  5%|▍         | 999/20019 [06:32<2:10:34,  2.43it/s]"
     ]
    },
    {
     "name": "stdout",
     "output_type": "stream",
     "text": [
      "[Epoch 0, Batch  1000] loss: 6.587\n"
     ]
    },
    {
     "name": "stderr",
     "output_type": "stream",
     "text": [
      "  5%|▍         | 1000/20019 [06:35<6:58:10,  1.32s/it]"
     ]
    },
    {
     "name": "stdout",
     "output_type": "stream",
     "text": [
      "****** Model checkpoint saved at epochs 1 ******\n"
     ]
    },
    {
     "name": "stderr",
     "output_type": "stream",
     "text": [
      "  5%|▌         | 1100/20019 [07:25<2:08:30,  2.45it/s]"
     ]
    },
    {
     "name": "stdout",
     "output_type": "stream",
     "text": [
      "[Epoch 0, Batch  1100] loss: 6.551\n"
     ]
    },
    {
     "name": "stderr",
     "output_type": "stream",
     "text": [
      "  6%|▌         | 1200/20019 [08:07<2:30:50,  2.08it/s]"
     ]
    },
    {
     "name": "stdout",
     "output_type": "stream",
     "text": [
      "[Epoch 0, Batch  1200] loss: 6.536\n"
     ]
    },
    {
     "name": "stderr",
     "output_type": "stream",
     "text": [
      "  6%|▋         | 1300/20019 [08:50<2:25:16,  2.15it/s]"
     ]
    },
    {
     "name": "stdout",
     "output_type": "stream",
     "text": [
      "[Epoch 0, Batch  1300] loss: 6.525\n"
     ]
    },
    {
     "name": "stderr",
     "output_type": "stream",
     "text": [
      "  7%|▋         | 1400/20019 [09:32<2:07:17,  2.44it/s]"
     ]
    },
    {
     "name": "stdout",
     "output_type": "stream",
     "text": [
      "[Epoch 0, Batch  1400] loss: 6.490\n"
     ]
    },
    {
     "name": "stderr",
     "output_type": "stream",
     "text": [
      "  7%|▋         | 1500/20019 [10:14<2:06:30,  2.44it/s]"
     ]
    },
    {
     "name": "stdout",
     "output_type": "stream",
     "text": [
      "[Epoch 0, Batch  1500] loss: 6.477\n"
     ]
    },
    {
     "name": "stderr",
     "output_type": "stream",
     "text": [
      "  8%|▊         | 1600/20019 [10:55<2:09:31,  2.37it/s]"
     ]
    },
    {
     "name": "stdout",
     "output_type": "stream",
     "text": [
      "[Epoch 0, Batch  1600] loss: 6.439\n"
     ]
    },
    {
     "name": "stderr",
     "output_type": "stream",
     "text": [
      "  8%|▊         | 1700/20019 [11:38<2:02:00,  2.50it/s]"
     ]
    },
    {
     "name": "stdout",
     "output_type": "stream",
     "text": [
      "[Epoch 0, Batch  1700] loss: 6.415\n"
     ]
    },
    {
     "name": "stderr",
     "output_type": "stream",
     "text": [
      "  9%|▉         | 1800/20019 [12:20<2:21:04,  2.15it/s]"
     ]
    },
    {
     "name": "stdout",
     "output_type": "stream",
     "text": [
      "[Epoch 0, Batch  1800] loss: 6.418\n"
     ]
    },
    {
     "name": "stderr",
     "output_type": "stream",
     "text": [
      "  9%|▉         | 1900/20019 [13:03<2:01:43,  2.48it/s]"
     ]
    },
    {
     "name": "stdout",
     "output_type": "stream",
     "text": [
      "[Epoch 0, Batch  1900] loss: 6.377\n"
     ]
    },
    {
     "name": "stderr",
     "output_type": "stream",
     "text": [
      " 10%|▉         | 1999/20019 [13:44<2:11:24,  2.29it/s]"
     ]
    },
    {
     "name": "stdout",
     "output_type": "stream",
     "text": [
      "[Epoch 0, Batch  2000] loss: 6.374\n"
     ]
    },
    {
     "name": "stderr",
     "output_type": "stream",
     "text": [
      " 10%|▉         | 2000/20019 [13:48<6:12:38,  1.24s/it]"
     ]
    },
    {
     "name": "stdout",
     "output_type": "stream",
     "text": [
      "****** Model checkpoint saved at epochs 1 ******\n"
     ]
    },
    {
     "name": "stderr",
     "output_type": "stream",
     "text": [
      " 10%|█         | 2100/20019 [14:32<2:15:19,  2.21it/s]"
     ]
    },
    {
     "name": "stdout",
     "output_type": "stream",
     "text": [
      "[Epoch 0, Batch  2100] loss: 6.317\n"
     ]
    },
    {
     "name": "stderr",
     "output_type": "stream",
     "text": [
      " 11%|█         | 2200/20019 [15:17<2:00:50,  2.46it/s]"
     ]
    },
    {
     "name": "stdout",
     "output_type": "stream",
     "text": [
      "[Epoch 0, Batch  2200] loss: 6.297\n"
     ]
    },
    {
     "name": "stderr",
     "output_type": "stream",
     "text": [
      " 11%|█▏        | 2300/20019 [15:59<2:13:27,  2.21it/s]"
     ]
    },
    {
     "name": "stdout",
     "output_type": "stream",
     "text": [
      "[Epoch 0, Batch  2300] loss: 6.298\n"
     ]
    },
    {
     "name": "stderr",
     "output_type": "stream",
     "text": [
      " 12%|█▏        | 2400/20019 [16:40<1:58:48,  2.47it/s]"
     ]
    },
    {
     "name": "stdout",
     "output_type": "stream",
     "text": [
      "[Epoch 0, Batch  2400] loss: 6.265\n"
     ]
    },
    {
     "name": "stderr",
     "output_type": "stream",
     "text": [
      " 12%|█▏        | 2500/20019 [17:22<2:02:40,  2.38it/s]"
     ]
    },
    {
     "name": "stdout",
     "output_type": "stream",
     "text": [
      "[Epoch 0, Batch  2500] loss: 6.268\n"
     ]
    },
    {
     "name": "stderr",
     "output_type": "stream",
     "text": [
      " 13%|█▎        | 2600/20019 [18:03<1:52:26,  2.58it/s]"
     ]
    },
    {
     "name": "stdout",
     "output_type": "stream",
     "text": [
      "[Epoch 0, Batch  2600] loss: 6.228\n"
     ]
    },
    {
     "name": "stderr",
     "output_type": "stream",
     "text": [
      " 13%|█▎        | 2700/20019 [18:44<1:53:47,  2.54it/s]"
     ]
    },
    {
     "name": "stdout",
     "output_type": "stream",
     "text": [
      "[Epoch 0, Batch  2700] loss: 6.237\n"
     ]
    },
    {
     "name": "stderr",
     "output_type": "stream",
     "text": [
      " 14%|█▍        | 2800/20019 [19:25<1:50:59,  2.59it/s]"
     ]
    },
    {
     "name": "stdout",
     "output_type": "stream",
     "text": [
      "[Epoch 0, Batch  2800] loss: 6.203\n"
     ]
    },
    {
     "name": "stderr",
     "output_type": "stream",
     "text": [
      " 14%|█▍        | 2900/20019 [20:05<1:58:56,  2.40it/s]"
     ]
    },
    {
     "name": "stdout",
     "output_type": "stream",
     "text": [
      "[Epoch 0, Batch  2900] loss: 6.175\n"
     ]
    },
    {
     "name": "stderr",
     "output_type": "stream",
     "text": [
      " 15%|█▍        | 2999/20019 [20:49<1:52:03,  2.53it/s]"
     ]
    },
    {
     "name": "stdout",
     "output_type": "stream",
     "text": [
      "[Epoch 0, Batch  3000] loss: 6.189\n"
     ]
    },
    {
     "name": "stderr",
     "output_type": "stream",
     "text": [
      " 15%|█▍        | 3000/20019 [20:52<6:04:15,  1.28s/it]"
     ]
    },
    {
     "name": "stdout",
     "output_type": "stream",
     "text": [
      "****** Model checkpoint saved at epochs 1 ******\n"
     ]
    },
    {
     "name": "stderr",
     "output_type": "stream",
     "text": [
      " 15%|█▌        | 3100/20019 [21:41<1:54:29,  2.46it/s]"
     ]
    },
    {
     "name": "stdout",
     "output_type": "stream",
     "text": [
      "[Epoch 0, Batch  3100] loss: 6.170\n"
     ]
    },
    {
     "name": "stderr",
     "output_type": "stream",
     "text": [
      " 16%|█▌        | 3200/20019 [22:21<1:48:33,  2.58it/s]"
     ]
    },
    {
     "name": "stdout",
     "output_type": "stream",
     "text": [
      "[Epoch 0, Batch  3200] loss: 6.131\n"
     ]
    },
    {
     "name": "stderr",
     "output_type": "stream",
     "text": [
      " 16%|█▋        | 3300/20019 [23:02<1:48:21,  2.57it/s]"
     ]
    },
    {
     "name": "stdout",
     "output_type": "stream",
     "text": [
      "[Epoch 0, Batch  3300] loss: 6.118\n"
     ]
    },
    {
     "name": "stderr",
     "output_type": "stream",
     "text": [
      " 17%|█▋        | 3400/20019 [23:44<1:53:03,  2.45it/s]"
     ]
    },
    {
     "name": "stdout",
     "output_type": "stream",
     "text": [
      "[Epoch 0, Batch  3400] loss: 6.087\n"
     ]
    },
    {
     "name": "stderr",
     "output_type": "stream",
     "text": [
      " 17%|█▋        | 3500/20019 [24:25<1:47:56,  2.55it/s]"
     ]
    },
    {
     "name": "stdout",
     "output_type": "stream",
     "text": [
      "[Epoch 0, Batch  3500] loss: 6.063\n"
     ]
    },
    {
     "name": "stderr",
     "output_type": "stream",
     "text": [
      " 18%|█▊        | 3600/20019 [25:05<1:46:45,  2.56it/s]"
     ]
    },
    {
     "name": "stdout",
     "output_type": "stream",
     "text": [
      "[Epoch 0, Batch  3600] loss: 6.055\n"
     ]
    },
    {
     "name": "stderr",
     "output_type": "stream",
     "text": [
      " 18%|█▊        | 3700/20019 [25:46<1:56:04,  2.34it/s]"
     ]
    },
    {
     "name": "stdout",
     "output_type": "stream",
     "text": [
      "[Epoch 0, Batch  3700] loss: 6.026\n"
     ]
    },
    {
     "name": "stderr",
     "output_type": "stream",
     "text": [
      " 19%|█▉        | 3800/20019 [26:26<1:41:44,  2.66it/s]"
     ]
    },
    {
     "name": "stdout",
     "output_type": "stream",
     "text": [
      "[Epoch 0, Batch  3800] loss: 6.030\n"
     ]
    },
    {
     "name": "stderr",
     "output_type": "stream",
     "text": [
      " 19%|█▉        | 3900/20019 [27:05<1:41:46,  2.64it/s]"
     ]
    },
    {
     "name": "stdout",
     "output_type": "stream",
     "text": [
      "[Epoch 0, Batch  3900] loss: 6.007\n"
     ]
    },
    {
     "name": "stderr",
     "output_type": "stream",
     "text": [
      " 20%|█▉        | 3999/20019 [27:45<1:42:18,  2.61it/s]"
     ]
    },
    {
     "name": "stdout",
     "output_type": "stream",
     "text": [
      "[Epoch 0, Batch  4000] loss: 5.973\n"
     ]
    },
    {
     "name": "stderr",
     "output_type": "stream",
     "text": [
      " 20%|█▉        | 4000/20019 [27:48<5:33:00,  1.25s/it]"
     ]
    },
    {
     "name": "stdout",
     "output_type": "stream",
     "text": [
      "****** Model checkpoint saved at epochs 1 ******\n"
     ]
    },
    {
     "name": "stderr",
     "output_type": "stream",
     "text": [
      " 20%|██        | 4100/20019 [28:33<1:48:16,  2.45it/s]"
     ]
    },
    {
     "name": "stdout",
     "output_type": "stream",
     "text": [
      "[Epoch 0, Batch  4100] loss: 5.958\n"
     ]
    },
    {
     "name": "stderr",
     "output_type": "stream",
     "text": [
      " 21%|██        | 4200/20019 [29:15<1:43:28,  2.55it/s]"
     ]
    },
    {
     "name": "stdout",
     "output_type": "stream",
     "text": [
      "[Epoch 0, Batch  4200] loss: 5.961\n"
     ]
    },
    {
     "name": "stderr",
     "output_type": "stream",
     "text": [
      " 21%|██▏       | 4300/20019 [29:55<1:37:52,  2.68it/s]"
     ]
    },
    {
     "name": "stdout",
     "output_type": "stream",
     "text": [
      "[Epoch 0, Batch  4300] loss: 5.907\n"
     ]
    },
    {
     "name": "stderr",
     "output_type": "stream",
     "text": [
      " 22%|██▏       | 4400/20019 [30:35<1:38:12,  2.65it/s]"
     ]
    },
    {
     "name": "stdout",
     "output_type": "stream",
     "text": [
      "[Epoch 0, Batch  4400] loss: 5.912\n"
     ]
    },
    {
     "name": "stderr",
     "output_type": "stream",
     "text": [
      " 22%|██▏       | 4500/20019 [31:14<1:37:03,  2.67it/s]"
     ]
    },
    {
     "name": "stdout",
     "output_type": "stream",
     "text": [
      "[Epoch 0, Batch  4500] loss: 5.908\n"
     ]
    },
    {
     "name": "stderr",
     "output_type": "stream",
     "text": [
      " 23%|██▎       | 4600/20019 [31:52<1:36:13,  2.67it/s]"
     ]
    },
    {
     "name": "stdout",
     "output_type": "stream",
     "text": [
      "[Epoch 0, Batch  4600] loss: 5.874\n"
     ]
    },
    {
     "name": "stderr",
     "output_type": "stream",
     "text": [
      " 23%|██▎       | 4700/20019 [32:32<1:37:52,  2.61it/s]"
     ]
    },
    {
     "name": "stdout",
     "output_type": "stream",
     "text": [
      "[Epoch 0, Batch  4700] loss: 5.865\n"
     ]
    },
    {
     "name": "stderr",
     "output_type": "stream",
     "text": [
      " 24%|██▍       | 4800/20019 [33:11<1:43:48,  2.44it/s]"
     ]
    },
    {
     "name": "stdout",
     "output_type": "stream",
     "text": [
      "[Epoch 0, Batch  4800] loss: 5.837\n"
     ]
    },
    {
     "name": "stderr",
     "output_type": "stream",
     "text": [
      " 24%|██▍       | 4900/20019 [33:50<1:34:36,  2.66it/s]"
     ]
    },
    {
     "name": "stdout",
     "output_type": "stream",
     "text": [
      "[Epoch 0, Batch  4900] loss: 5.809\n"
     ]
    },
    {
     "name": "stderr",
     "output_type": "stream",
     "text": [
      " 25%|██▍       | 4999/20019 [34:30<1:36:37,  2.59it/s]"
     ]
    },
    {
     "name": "stdout",
     "output_type": "stream",
     "text": [
      "[Epoch 0, Batch  5000] loss: 5.786\n"
     ]
    },
    {
     "name": "stderr",
     "output_type": "stream",
     "text": [
      " 25%|██▍       | 5000/20019 [34:33<5:20:27,  1.28s/it]"
     ]
    },
    {
     "name": "stdout",
     "output_type": "stream",
     "text": [
      "****** Model checkpoint saved at epochs 1 ******\n"
     ]
    },
    {
     "name": "stderr",
     "output_type": "stream",
     "text": [
      " 25%|██▌       | 5100/20019 [35:16<1:40:58,  2.46it/s]"
     ]
    },
    {
     "name": "stdout",
     "output_type": "stream",
     "text": [
      "[Epoch 0, Batch  5100] loss: 5.759\n"
     ]
    },
    {
     "name": "stderr",
     "output_type": "stream",
     "text": [
      " 26%|██▌       | 5200/20019 [35:59<1:41:28,  2.43it/s]"
     ]
    },
    {
     "name": "stdout",
     "output_type": "stream",
     "text": [
      "[Epoch 0, Batch  5200] loss: 5.791\n"
     ]
    },
    {
     "name": "stderr",
     "output_type": "stream",
     "text": [
      " 26%|██▋       | 5300/20019 [36:41<1:38:33,  2.49it/s]"
     ]
    },
    {
     "name": "stdout",
     "output_type": "stream",
     "text": [
      "[Epoch 0, Batch  5300] loss: 5.779\n"
     ]
    },
    {
     "name": "stderr",
     "output_type": "stream",
     "text": [
      " 27%|██▋       | 5400/20019 [37:25<1:39:44,  2.44it/s]"
     ]
    },
    {
     "name": "stdout",
     "output_type": "stream",
     "text": [
      "[Epoch 0, Batch  5400] loss: 5.759\n"
     ]
    },
    {
     "name": "stderr",
     "output_type": "stream",
     "text": [
      " 27%|██▋       | 5500/20019 [38:07<1:42:39,  2.36it/s]"
     ]
    },
    {
     "name": "stdout",
     "output_type": "stream",
     "text": [
      "[Epoch 0, Batch  5500] loss: 5.731\n"
     ]
    },
    {
     "name": "stderr",
     "output_type": "stream",
     "text": [
      " 28%|██▊       | 5600/20019 [38:52<1:45:16,  2.28it/s]"
     ]
    },
    {
     "name": "stdout",
     "output_type": "stream",
     "text": [
      "[Epoch 0, Batch  5600] loss: 5.704\n"
     ]
    },
    {
     "name": "stderr",
     "output_type": "stream",
     "text": [
      " 28%|██▊       | 5700/20019 [39:35<1:43:35,  2.30it/s]"
     ]
    },
    {
     "name": "stdout",
     "output_type": "stream",
     "text": [
      "[Epoch 0, Batch  5700] loss: 5.721\n"
     ]
    },
    {
     "name": "stderr",
     "output_type": "stream",
     "text": [
      " 29%|██▉       | 5800/20019 [40:20<1:52:16,  2.11it/s]"
     ]
    },
    {
     "name": "stdout",
     "output_type": "stream",
     "text": [
      "[Epoch 0, Batch  5800] loss: 5.702\n"
     ]
    },
    {
     "name": "stderr",
     "output_type": "stream",
     "text": [
      " 29%|██▉       | 5900/20019 [41:03<1:41:25,  2.32it/s]"
     ]
    },
    {
     "name": "stdout",
     "output_type": "stream",
     "text": [
      "[Epoch 0, Batch  5900] loss: 5.664\n"
     ]
    },
    {
     "name": "stderr",
     "output_type": "stream",
     "text": [
      " 30%|██▉       | 5999/20019 [41:46<1:33:49,  2.49it/s]"
     ]
    },
    {
     "name": "stdout",
     "output_type": "stream",
     "text": [
      "[Epoch 0, Batch  6000] loss: 5.663\n"
     ]
    },
    {
     "name": "stderr",
     "output_type": "stream",
     "text": [
      " 30%|██▉       | 6000/20019 [41:50<5:00:25,  1.29s/it]"
     ]
    },
    {
     "name": "stdout",
     "output_type": "stream",
     "text": [
      "****** Model checkpoint saved at epochs 1 ******\n"
     ]
    },
    {
     "name": "stderr",
     "output_type": "stream",
     "text": [
      " 30%|███       | 6100/20019 [42:36<1:36:55,  2.39it/s]"
     ]
    },
    {
     "name": "stdout",
     "output_type": "stream",
     "text": [
      "[Epoch 0, Batch  6100] loss: 5.631\n"
     ]
    },
    {
     "name": "stderr",
     "output_type": "stream",
     "text": [
      " 31%|███       | 6200/20019 [43:23<1:35:38,  2.41it/s]"
     ]
    },
    {
     "name": "stdout",
     "output_type": "stream",
     "text": [
      "[Epoch 0, Batch  6200] loss: 5.679\n"
     ]
    },
    {
     "name": "stderr",
     "output_type": "stream",
     "text": [
      " 31%|███▏      | 6300/20019 [44:06<1:34:11,  2.43it/s]"
     ]
    },
    {
     "name": "stdout",
     "output_type": "stream",
     "text": [
      "[Epoch 0, Batch  6300] loss: 5.666\n"
     ]
    },
    {
     "name": "stderr",
     "output_type": "stream",
     "text": [
      " 32%|███▏      | 6400/20019 [44:48<1:33:10,  2.44it/s]"
     ]
    },
    {
     "name": "stdout",
     "output_type": "stream",
     "text": [
      "[Epoch 0, Batch  6400] loss: 5.615\n"
     ]
    },
    {
     "name": "stderr",
     "output_type": "stream",
     "text": [
      " 32%|███▏      | 6500/20019 [45:30<1:37:43,  2.31it/s]"
     ]
    },
    {
     "name": "stdout",
     "output_type": "stream",
     "text": [
      "[Epoch 0, Batch  6500] loss: 5.602\n"
     ]
    },
    {
     "name": "stderr",
     "output_type": "stream",
     "text": [
      " 33%|███▎      | 6600/20019 [46:12<1:43:49,  2.15it/s]"
     ]
    },
    {
     "name": "stdout",
     "output_type": "stream",
     "text": [
      "[Epoch 0, Batch  6600] loss: 5.595\n"
     ]
    },
    {
     "name": "stderr",
     "output_type": "stream",
     "text": [
      " 33%|███▎      | 6700/20019 [46:54<1:28:03,  2.52it/s]"
     ]
    },
    {
     "name": "stdout",
     "output_type": "stream",
     "text": [
      "[Epoch 0, Batch  6700] loss: 5.592\n"
     ]
    },
    {
     "name": "stderr",
     "output_type": "stream",
     "text": [
      " 34%|███▍      | 6800/20019 [47:36<1:38:56,  2.23it/s]"
     ]
    },
    {
     "name": "stdout",
     "output_type": "stream",
     "text": [
      "[Epoch 0, Batch  6800] loss: 5.588\n"
     ]
    },
    {
     "name": "stderr",
     "output_type": "stream",
     "text": [
      " 34%|███▍      | 6900/20019 [48:17<1:27:42,  2.49it/s]"
     ]
    },
    {
     "name": "stdout",
     "output_type": "stream",
     "text": [
      "[Epoch 0, Batch  6900] loss: 5.560\n"
     ]
    },
    {
     "name": "stderr",
     "output_type": "stream",
     "text": [
      " 35%|███▍      | 6999/20019 [49:00<1:35:25,  2.27it/s]"
     ]
    },
    {
     "name": "stdout",
     "output_type": "stream",
     "text": [
      "[Epoch 0, Batch  7000] loss: 5.540\n"
     ]
    },
    {
     "name": "stderr",
     "output_type": "stream",
     "text": [
      " 35%|███▍      | 7000/20019 [49:03<5:08:42,  1.42s/it]"
     ]
    },
    {
     "name": "stdout",
     "output_type": "stream",
     "text": [
      "****** Model checkpoint saved at epochs 1 ******\n"
     ]
    },
    {
     "name": "stderr",
     "output_type": "stream",
     "text": [
      " 35%|███▌      | 7100/20019 [49:48<1:24:59,  2.53it/s]"
     ]
    },
    {
     "name": "stdout",
     "output_type": "stream",
     "text": [
      "[Epoch 0, Batch  7100] loss: 5.531\n"
     ]
    },
    {
     "name": "stderr",
     "output_type": "stream",
     "text": [
      " 36%|███▌      | 7200/20019 [50:33<1:24:08,  2.54it/s]"
     ]
    },
    {
     "name": "stdout",
     "output_type": "stream",
     "text": [
      "[Epoch 0, Batch  7200] loss: 5.563\n"
     ]
    },
    {
     "name": "stderr",
     "output_type": "stream",
     "text": [
      " 36%|███▋      | 7300/20019 [51:15<1:41:46,  2.08it/s]"
     ]
    },
    {
     "name": "stdout",
     "output_type": "stream",
     "text": [
      "[Epoch 0, Batch  7300] loss: 5.522\n"
     ]
    },
    {
     "name": "stderr",
     "output_type": "stream",
     "text": [
      " 37%|███▋      | 7400/20019 [51:56<1:19:25,  2.65it/s]"
     ]
    },
    {
     "name": "stdout",
     "output_type": "stream",
     "text": [
      "[Epoch 0, Batch  7400] loss: 5.488\n"
     ]
    },
    {
     "name": "stderr",
     "output_type": "stream",
     "text": [
      " 37%|███▋      | 7500/20019 [52:36<1:33:48,  2.22it/s]"
     ]
    },
    {
     "name": "stdout",
     "output_type": "stream",
     "text": [
      "[Epoch 0, Batch  7500] loss: 5.525\n"
     ]
    },
    {
     "name": "stderr",
     "output_type": "stream",
     "text": [
      " 38%|███▊      | 7600/20019 [53:16<1:18:52,  2.62it/s]"
     ]
    },
    {
     "name": "stdout",
     "output_type": "stream",
     "text": [
      "[Epoch 0, Batch  7600] loss: 5.527\n"
     ]
    },
    {
     "name": "stderr",
     "output_type": "stream",
     "text": [
      " 38%|███▊      | 7700/20019 [53:57<1:25:16,  2.41it/s]"
     ]
    },
    {
     "name": "stdout",
     "output_type": "stream",
     "text": [
      "[Epoch 0, Batch  7700] loss: 5.499\n"
     ]
    },
    {
     "name": "stderr",
     "output_type": "stream",
     "text": [
      " 39%|███▉      | 7800/20019 [54:40<1:20:22,  2.53it/s]"
     ]
    },
    {
     "name": "stdout",
     "output_type": "stream",
     "text": [
      "[Epoch 0, Batch  7800] loss: 5.471\n"
     ]
    },
    {
     "name": "stderr",
     "output_type": "stream",
     "text": [
      " 39%|███▉      | 7900/20019 [55:22<1:22:01,  2.46it/s]"
     ]
    },
    {
     "name": "stdout",
     "output_type": "stream",
     "text": [
      "[Epoch 0, Batch  7900] loss: 5.519\n"
     ]
    },
    {
     "name": "stderr",
     "output_type": "stream",
     "text": [
      " 40%|███▉      | 7999/20019 [56:08<1:35:22,  2.10it/s]"
     ]
    },
    {
     "name": "stdout",
     "output_type": "stream",
     "text": [
      "[Epoch 0, Batch  8000] loss: 5.463\n"
     ]
    },
    {
     "name": "stderr",
     "output_type": "stream",
     "text": [
      " 40%|███▉      | 8000/20019 [56:11<4:32:06,  1.36s/it]"
     ]
    },
    {
     "name": "stdout",
     "output_type": "stream",
     "text": [
      "****** Model checkpoint saved at epochs 1 ******\n"
     ]
    },
    {
     "name": "stderr",
     "output_type": "stream",
     "text": [
      " 40%|████      | 8100/20019 [57:06<1:36:13,  2.06it/s]"
     ]
    },
    {
     "name": "stdout",
     "output_type": "stream",
     "text": [
      "[Epoch 0, Batch  8100] loss: 5.492\n"
     ]
    },
    {
     "name": "stderr",
     "output_type": "stream",
     "text": [
      " 41%|████      | 8200/20019 [58:03<1:42:06,  1.93it/s]"
     ]
    },
    {
     "name": "stdout",
     "output_type": "stream",
     "text": [
      "[Epoch 0, Batch  8200] loss: 5.453\n"
     ]
    },
    {
     "name": "stderr",
     "output_type": "stream",
     "text": [
      " 41%|████▏     | 8300/20019 [58:55<1:52:03,  1.74it/s]"
     ]
    },
    {
     "name": "stdout",
     "output_type": "stream",
     "text": [
      "[Epoch 0, Batch  8300] loss: 5.441\n"
     ]
    },
    {
     "name": "stderr",
     "output_type": "stream",
     "text": [
      " 42%|████▏     | 8400/20019 [59:49<1:50:36,  1.75it/s]"
     ]
    },
    {
     "name": "stdout",
     "output_type": "stream",
     "text": [
      "[Epoch 0, Batch  8400] loss: 5.404\n"
     ]
    },
    {
     "name": "stderr",
     "output_type": "stream",
     "text": [
      " 42%|████▏     | 8500/20019 [1:00:40<1:42:16,  1.88it/s]"
     ]
    },
    {
     "name": "stdout",
     "output_type": "stream",
     "text": [
      "[Epoch 0, Batch  8500] loss: 5.435\n"
     ]
    },
    {
     "name": "stderr",
     "output_type": "stream",
     "text": [
      " 43%|████▎     | 8600/20019 [1:01:32<1:30:42,  2.10it/s]"
     ]
    },
    {
     "name": "stdout",
     "output_type": "stream",
     "text": [
      "[Epoch 0, Batch  8600] loss: 5.430\n"
     ]
    },
    {
     "name": "stderr",
     "output_type": "stream",
     "text": [
      " 43%|████▎     | 8700/20019 [1:02:24<1:37:13,  1.94it/s]"
     ]
    },
    {
     "name": "stdout",
     "output_type": "stream",
     "text": [
      "[Epoch 0, Batch  8700] loss: 5.396\n"
     ]
    },
    {
     "name": "stderr",
     "output_type": "stream",
     "text": [
      " 44%|████▍     | 8800/20019 [1:03:15<1:40:06,  1.87it/s]"
     ]
    },
    {
     "name": "stdout",
     "output_type": "stream",
     "text": [
      "[Epoch 0, Batch  8800] loss: 5.416\n"
     ]
    },
    {
     "name": "stderr",
     "output_type": "stream",
     "text": [
      " 44%|████▍     | 8900/20019 [1:04:07<1:40:25,  1.85it/s]"
     ]
    },
    {
     "name": "stdout",
     "output_type": "stream",
     "text": [
      "[Epoch 0, Batch  8900] loss: 5.405\n"
     ]
    },
    {
     "name": "stderr",
     "output_type": "stream",
     "text": [
      " 45%|████▍     | 8999/20019 [1:04:58<1:29:20,  2.06it/s]"
     ]
    },
    {
     "name": "stdout",
     "output_type": "stream",
     "text": [
      "[Epoch 0, Batch  9000] loss: 5.346\n"
     ]
    },
    {
     "name": "stderr",
     "output_type": "stream",
     "text": [
      " 45%|████▍     | 9000/20019 [1:05:01<4:08:42,  1.35s/it]"
     ]
    },
    {
     "name": "stdout",
     "output_type": "stream",
     "text": [
      "****** Model checkpoint saved at epochs 1 ******\n"
     ]
    },
    {
     "name": "stderr",
     "output_type": "stream",
     "text": [
      " 45%|████▌     | 9100/20019 [1:05:51<1:24:54,  2.14it/s]"
     ]
    },
    {
     "name": "stdout",
     "output_type": "stream",
     "text": [
      "[Epoch 0, Batch  9100] loss: 5.388\n"
     ]
    },
    {
     "name": "stderr",
     "output_type": "stream",
     "text": [
      " 46%|████▌     | 9200/20019 [1:06:49<1:29:25,  2.02it/s]"
     ]
    },
    {
     "name": "stdout",
     "output_type": "stream",
     "text": [
      "[Epoch 0, Batch  9200] loss: 5.359\n"
     ]
    },
    {
     "name": "stderr",
     "output_type": "stream",
     "text": [
      " 46%|████▋     | 9300/20019 [1:07:39<1:37:01,  1.84it/s]"
     ]
    },
    {
     "name": "stdout",
     "output_type": "stream",
     "text": [
      "[Epoch 0, Batch  9300] loss: 5.337\n"
     ]
    },
    {
     "name": "stderr",
     "output_type": "stream",
     "text": [
      " 47%|████▋     | 9400/20019 [1:08:29<1:19:37,  2.22it/s]"
     ]
    },
    {
     "name": "stdout",
     "output_type": "stream",
     "text": [
      "[Epoch 0, Batch  9400] loss: 5.309\n"
     ]
    },
    {
     "name": "stderr",
     "output_type": "stream",
     "text": [
      " 47%|████▋     | 9500/20019 [1:09:19<1:22:29,  2.13it/s]"
     ]
    },
    {
     "name": "stdout",
     "output_type": "stream",
     "text": [
      "[Epoch 0, Batch  9500] loss: 5.348\n"
     ]
    },
    {
     "name": "stderr",
     "output_type": "stream",
     "text": [
      " 48%|████▊     | 9600/20019 [1:10:07<1:23:54,  2.07it/s]"
     ]
    },
    {
     "name": "stdout",
     "output_type": "stream",
     "text": [
      "[Epoch 0, Batch  9600] loss: 5.332\n"
     ]
    },
    {
     "name": "stderr",
     "output_type": "stream",
     "text": [
      " 48%|████▊     | 9700/20019 [1:10:58<1:22:49,  2.08it/s]"
     ]
    },
    {
     "name": "stdout",
     "output_type": "stream",
     "text": [
      "[Epoch 0, Batch  9700] loss: 5.383\n"
     ]
    },
    {
     "name": "stderr",
     "output_type": "stream",
     "text": [
      " 49%|████▉     | 9800/20019 [1:11:46<1:21:21,  2.09it/s]"
     ]
    },
    {
     "name": "stdout",
     "output_type": "stream",
     "text": [
      "[Epoch 0, Batch  9800] loss: 5.345\n"
     ]
    },
    {
     "name": "stderr",
     "output_type": "stream",
     "text": [
      " 49%|████▉     | 9900/20019 [1:12:35<1:16:48,  2.20it/s]"
     ]
    },
    {
     "name": "stdout",
     "output_type": "stream",
     "text": [
      "[Epoch 0, Batch  9900] loss: 5.324\n"
     ]
    },
    {
     "name": "stderr",
     "output_type": "stream",
     "text": [
      " 50%|████▉     | 9999/20019 [1:13:23<1:20:37,  2.07it/s]"
     ]
    },
    {
     "name": "stdout",
     "output_type": "stream",
     "text": [
      "[Epoch 0, Batch 10000] loss: 5.308\n"
     ]
    },
    {
     "name": "stderr",
     "output_type": "stream",
     "text": [
      " 50%|████▉     | 10000/20019 [1:13:26<3:39:09,  1.31s/it]"
     ]
    },
    {
     "name": "stdout",
     "output_type": "stream",
     "text": [
      "****** Model checkpoint saved at epochs 1 ******\n"
     ]
    },
    {
     "name": "stderr",
     "output_type": "stream",
     "text": [
      " 50%|█████     | 10019/20019 [1:13:35<1:24:48,  1.97it/s]"
     ]
    }
   ],
   "source": [
    "if __name__ == '__main__':\n",
    "    trainer = PreTrainer()\n",
    "    trainer.process(load=False)"
   ]
  },
  {
   "cell_type": "code",
   "execution_count": null,
   "id": "c8c14c74",
   "metadata": {},
   "outputs": [],
   "source": []
  }
 ],
 "metadata": {
  "kernelspec": {
   "display_name": "Python 3",
   "language": "python",
   "name": "python3"
  },
  "language_info": {
   "codemirror_mode": {
    "name": "ipython",
    "version": 3
   },
   "file_extension": ".py",
   "mimetype": "text/x-python",
   "name": "python",
   "nbconvert_exporter": "python",
   "pygments_lexer": "ipython3",
   "version": "3.6.9"
  }
 },
 "nbformat": 4,
 "nbformat_minor": 5
}
