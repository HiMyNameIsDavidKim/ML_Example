{
 "cells": [
  {
   "cell_type": "markdown",
   "id": "d87b04c5",
   "metadata": {},
   "source": [
    "## Library"
   ]
  },
  {
   "cell_type": "code",
   "execution_count": 1,
   "id": "21127e7b",
   "metadata": {
    "ExecuteTime": {
     "end_time": "2023-06-09T04:45:10.446234Z",
     "start_time": "2023-06-09T04:45:09.709513Z"
    }
   },
   "outputs": [
    {
     "name": "stdout",
     "output_type": "stream",
     "text": [
      "[0, 1, 2, 3]\n",
      "['TITAN Xp', 'TITAN Xp', 'TITAN Xp', 'TITAN Xp']\n"
     ]
    }
   ],
   "source": [
    "import torch\n",
    "import torchvision\n",
    "import torch.utils.data as data\n",
    "import torchvision.transforms as transforms\n",
    "from torch.optim import Adam, SGD\n",
    "from torch import nn\n",
    "from tqdm.notebook import tqdm\n",
    "\n",
    "from vit_pooling import ViTPooling\n",
    "\n",
    "gpu_ids = []\n",
    "device_names = []\n",
    "if torch.cuda.is_available():\n",
    "    for gpu_id in range(torch.cuda.device_count()):\n",
    "        gpu_ids += [gpu_id]\n",
    "        device_names += [torch.cuda.get_device_name(gpu_id)]\n",
    "print(gpu_ids)\n",
    "print(device_names)\n",
    "\n",
    "if len(gpu_ids) > 1:\n",
    "    gpu = 'cuda:' + str(gpu_ids[0])  # GPU Number\n",
    "else:\n",
    "    gpu = \"cuda\" if torch.cuda.is_available() else \"cpu\""
   ]
  },
  {
   "cell_type": "markdown",
   "id": "441ec88d",
   "metadata": {},
   "source": [
    "## Hyper parameter"
   ]
  },
  {
   "cell_type": "code",
   "execution_count": 2,
   "id": "cb3bb432",
   "metadata": {
    "ExecuteTime": {
     "end_time": "2023-06-09T04:45:10.453722Z",
     "start_time": "2023-06-09T04:45:10.449023Z"
    }
   },
   "outputs": [],
   "source": [
    "device = gpu\n",
    "pre_model_path = './save/ViT_i2012_ep300_lr0.003_augVanilla.pt'\n",
    "fine_model_path = './save/ViT_i2012_ep300_lr0.003_augVanilla_i2012_ep8_lr0.03.pt'\n",
    "BATCH_SIZE = 16\n",
    "NUM_EPOCHS = 300\n",
    "NUM_WORKERS = 2\n",
    "LEARNING_RATE = 0.003\n",
    "\n",
    "IMAGE_SIZE = 224\n",
    "PATCH_SIZE = 16\n",
    "IN_CHANNELS = 3\n",
    "NUM_CLASSES = 1000\n",
    "EMBED_DIM = 768\n",
    "DEPTH = 12\n",
    "NUM_HEADS = 12"
   ]
  },
  {
   "cell_type": "markdown",
   "id": "10322ed9",
   "metadata": {},
   "source": [
    "## Dataset"
   ]
  },
  {
   "cell_type": "code",
   "execution_count": 3,
   "id": "84874840",
   "metadata": {
    "ExecuteTime": {
     "end_time": "2023-06-09T04:45:15.352932Z",
     "start_time": "2023-06-09T04:45:10.455894Z"
    }
   },
   "outputs": [],
   "source": [
    "transform_train = transforms.Compose([\n",
    "    transforms.RandomResizedCrop(224),\n",
    "    transforms.ToTensor(),\n",
    "    transforms.Normalize(mean=[0.485, 0.456, 0.406], std=[0.229, 0.224, 0.225])\n",
    "])\n",
    "transform_test = transforms.Compose([\n",
    "    transforms.RandomResizedCrop(224),\n",
    "    transforms.ToTensor(),\n",
    "    transforms.Normalize(mean=[0.485, 0.456, 0.406], std=[0.229, 0.224, 0.225])\n",
    "])\n",
    "# pre_train_set = torchvision.datasets.ImageFolder('./data/ImageNet-21k', transform=transform_train)\n",
    "# pre_train_loader = data.DataLoader(pre_train_set, batch_size=BATCH_SIZE, shuffle=True, num_workers=NUM_WORKERS)\n",
    "train_set = torchvision.datasets.ImageFolder('../../YJ/ILSVRC2012/train', transform=transform_train)\n",
    "train_loader = data.DataLoader(train_set, batch_size=BATCH_SIZE, shuffle=True, num_workers=NUM_WORKERS)\n",
    "test_set = torchvision.datasets.ImageFolder('../../YJ/ILSVRC2012/val', transform=transform_test)\n",
    "test_loader = data.DataLoader(test_set, batch_size=BATCH_SIZE, shuffle=True, num_workers=NUM_WORKERS)"
   ]
  },
  {
   "cell_type": "markdown",
   "id": "1547071d",
   "metadata": {},
   "source": [
    "## Pre-training Class"
   ]
  },
  {
   "cell_type": "code",
   "execution_count": 4,
   "id": "27769623",
   "metadata": {
    "ExecuteTime": {
     "end_time": "2023-06-09T04:45:15.368584Z",
     "start_time": "2023-06-09T04:45:15.356776Z"
    }
   },
   "outputs": [],
   "source": [
    "class PreTrainer(object):\n",
    "    def __init__(self):\n",
    "        self.model = None\n",
    "        self.optimizer = None\n",
    "        self.epochs = []\n",
    "        self.losses = []\n",
    "\n",
    "    def process(self):\n",
    "        self.build_model()\n",
    "        self.pretrain_model()\n",
    "        self.save_model()\n",
    "\n",
    "    def build_model(self):\n",
    "        self.model = ViTPooling(image_size=IMAGE_SIZE,\n",
    "                                patch_size=PATCH_SIZE,\n",
    "                                in_channels=IN_CHANNELS,\n",
    "                                num_classes=NUM_CLASSES,\n",
    "                                embed_dim=EMBED_DIM,\n",
    "                                depth=DEPTH,\n",
    "                                num_heads=NUM_HEADS,\n",
    "                                ).to(device)\n",
    "\n",
    "    def pretrain_model(self):\n",
    "        model = self.model\n",
    "        criterion = nn.CrossEntropyLoss()\n",
    "        optimizer = Adam(model.parameters(), lr=LEARNING_RATE)\n",
    "\n",
    "        for epoch in range(NUM_EPOCHS):\n",
    "            running_loss = 0.0\n",
    "            saving_loss = 0.0\n",
    "            for i, data in tqdm(enumerate(train_loader, 0), total=len(train_loader)):\n",
    "                inputs, labels = data\n",
    "                inputs, labels = inputs.to(device), labels.to(device)\n",
    "\n",
    "                optimizer.zero_grad()\n",
    "\n",
    "                outputs = model(inputs)\n",
    "                loss = criterion(outputs, labels)\n",
    "                loss.backward()\n",
    "                optimizer.step()\n",
    "                running_loss += loss.item()\n",
    "                saving_loss = loss.item()\n",
    "                if i % 100 == 99:\n",
    "                    print(f'[Epoch {epoch}, Batch {i + 1:5d}] loss: {running_loss / 100:.3f}')\n",
    "                    running_loss = 0.0\n",
    "            self.epochs.append(epoch + 1)\n",
    "            self.model = model\n",
    "            self.optimizer = optimizer\n",
    "            self.losses.append(saving_loss)\n",
    "            self.save_model()\n",
    "        print('****** Finished Pre-training ******')\n",
    "        self.model = model\n",
    "\n",
    "    def save_model(self):\n",
    "        checkpoint = {\n",
    "            'epochs': self.epochs,\n",
    "            'model': self.model.state_dict(),\n",
    "            'optimizer': self.optimizer.state_dict(),\n",
    "            'losses': self.losses,\n",
    "        }\n",
    "        torch.save(checkpoint, pre_model_path)\n",
    "        print(f\"****** Model checkpoint saved at epochs {self.epochs[-1]} ******\")"
   ]
  },
  {
   "cell_type": "markdown",
   "id": "0ea72c17",
   "metadata": {},
   "source": [
    "## Fine-tuning Class"
   ]
  },
  {
   "cell_type": "code",
   "execution_count": 5,
   "id": "b5d6f922",
   "metadata": {
    "ExecuteTime": {
     "end_time": "2023-06-09T04:45:15.383012Z",
     "start_time": "2023-06-09T04:45:15.370694Z"
    }
   },
   "outputs": [],
   "source": [
    "class FineTunner(object):\n",
    "    def __init__(self):\n",
    "        self.model = None\n",
    "        self.optimizer = None\n",
    "        self.epochs = []\n",
    "        self.losses = []\n",
    "\n",
    "    def process(self):\n",
    "        self.build_model()\n",
    "        self.finetune_model()\n",
    "        self.save_model()\n",
    "\n",
    "    def build_model(self):\n",
    "        self.model = ViTPooling(image_size=IMAGE_SIZE,\n",
    "                                patch_size=PATCH_SIZE,\n",
    "                                in_channels=IN_CHANNELS,\n",
    "                                num_classes=NUM_CLASSES,\n",
    "                                embed_dim=EMBED_DIM,\n",
    "                                depth=DEPTH,\n",
    "                                num_heads=NUM_HEADS,\n",
    "                                ).to(device)\n",
    "        checkpoint = torch.load(pre_model_path)\n",
    "        self.epochs = checkpoint['epochs']\n",
    "        self.model.load_state_dict(checkpoint['model'])\n",
    "        self.losses = checkpoint['losses']\n",
    "        print(f'Parameter: {sum(p.numel() for p in self.model.parameters() if p.requires_grad)}')\n",
    "        print(f'Classes: {NUM_CLASSES}')\n",
    "        print(f'Epoch: {self.epochs[-1]}')\n",
    "\n",
    "    def finetune_model(self):\n",
    "        model = self.model\n",
    "        criterion = nn.CrossEntropyLoss()\n",
    "        optimizer = SGD(model.parameters(), lr=LEARNING_RATE)\n",
    "\n",
    "        for epoch in range(NUM_EPOCHS):\n",
    "            running_loss = 0.0\n",
    "            saving_loss = 0.0\n",
    "            for i, data in tqdm(enumerate(train_loader, 0), total=len(train_loader)):\n",
    "                inputs, labels = data\n",
    "                inputs, labels = inputs.to(device), labels.to(device)\n",
    "\n",
    "                optimizer.zero_grad()\n",
    "\n",
    "                outputs = model(inputs)\n",
    "                loss = criterion(outputs, labels)\n",
    "                loss.backward()\n",
    "                optimizer.step()\n",
    "                running_loss += loss.item()\n",
    "                saving_loss = loss.item()\n",
    "                if i % 100 == 99:\n",
    "                    print(f'[Epoch {epoch}, Batch {i + 1:5d}] loss: {running_loss / 100:.3f}')\n",
    "                    running_loss = 0.0\n",
    "            self.epochs.append(epoch + 1)\n",
    "            self.model = model\n",
    "            self.optimizer = optimizer\n",
    "            self.losses.append(saving_loss)\n",
    "            self.save_model()\n",
    "        print('****** Finished Pre-training ******')\n",
    "        self.model = model\n",
    "\n",
    "    def save_model(self):\n",
    "        checkpoint = {\n",
    "            'epochs': self.epochs,\n",
    "            'model': self.model.state_dict(),\n",
    "            'optimizer': self.optimizer.state_dict(),\n",
    "            'losses': self.losses,\n",
    "        }\n",
    "        torch.save(checkpoint, fine_model_path)\n",
    "        print(f\"****** Model checkpoint saved at epochs {self.epochs[-1]} ******\")"
   ]
  },
  {
   "cell_type": "code",
   "execution_count": null,
   "id": "b03b001b",
   "metadata": {
    "ExecuteTime": {
     "start_time": "2023-06-09T04:45:09.688Z"
    }
   },
   "outputs": [
    {
     "data": {
      "application/vnd.jupyter.widget-view+json": {
       "model_id": "9ebd4955dff3475b9b1bcf22d574ada2",
       "version_major": 2,
       "version_minor": 0
      },
      "text/plain": [
       "  0%|          | 0/80073 [00:00<?, ?it/s]"
      ]
     },
     "metadata": {},
     "output_type": "display_data"
    },
    {
     "name": "stdout",
     "output_type": "stream",
     "text": [
      "[Epoch 0, Batch   100] loss: 14.438\n",
      "[Epoch 0, Batch   200] loss: 7.090\n",
      "[Epoch 0, Batch   300] loss: 6.919\n",
      "[Epoch 0, Batch   400] loss: 6.929\n",
      "[Epoch 0, Batch   500] loss: 6.937\n",
      "[Epoch 0, Batch   600] loss: 6.918\n",
      "[Epoch 0, Batch   700] loss: 6.923\n",
      "[Epoch 0, Batch   800] loss: 6.923\n",
      "[Epoch 0, Batch   900] loss: 6.922\n",
      "[Epoch 0, Batch  1000] loss: 6.922\n",
      "[Epoch 0, Batch  1100] loss: 6.919\n",
      "[Epoch 0, Batch  1200] loss: 6.912\n",
      "[Epoch 0, Batch  1300] loss: 6.914\n",
      "[Epoch 0, Batch  1400] loss: 6.922\n",
      "[Epoch 0, Batch  1500] loss: 6.921\n",
      "[Epoch 0, Batch  1600] loss: 6.919\n",
      "[Epoch 0, Batch  1700] loss: 6.919\n",
      "[Epoch 0, Batch  1800] loss: 6.911\n",
      "[Epoch 0, Batch  1900] loss: 6.918\n",
      "[Epoch 0, Batch  2000] loss: 6.913\n",
      "[Epoch 0, Batch  2100] loss: 6.914\n",
      "[Epoch 0, Batch  2200] loss: 6.913\n",
      "[Epoch 0, Batch  2300] loss: 6.916\n",
      "[Epoch 0, Batch  2400] loss: 6.915\n",
      "[Epoch 0, Batch  2500] loss: 6.916\n",
      "[Epoch 0, Batch  2600] loss: 6.920\n",
      "[Epoch 0, Batch  2700] loss: 6.913\n",
      "[Epoch 0, Batch  2800] loss: 6.911\n",
      "[Epoch 0, Batch  2900] loss: 6.913\n",
      "[Epoch 0, Batch  3000] loss: 6.912\n",
      "[Epoch 0, Batch  3100] loss: 6.913\n",
      "[Epoch 0, Batch  3200] loss: 6.914\n",
      "[Epoch 0, Batch  3300] loss: 6.916\n",
      "[Epoch 0, Batch  3400] loss: 6.909\n",
      "[Epoch 0, Batch  3500] loss: 6.913\n",
      "[Epoch 0, Batch  3600] loss: 6.914\n",
      "[Epoch 0, Batch  3700] loss: 6.915\n",
      "[Epoch 0, Batch  3800] loss: 6.913\n",
      "[Epoch 0, Batch  3900] loss: 6.919\n",
      "[Epoch 0, Batch  4000] loss: 6.915\n",
      "[Epoch 0, Batch  4100] loss: 6.911\n",
      "[Epoch 0, Batch  4200] loss: 2590.418\n",
      "[Epoch 0, Batch  4300] loss: 6.917\n",
      "[Epoch 0, Batch  4400] loss: 6.910\n",
      "[Epoch 0, Batch  4500] loss: 6.914\n",
      "[Epoch 0, Batch  4600] loss: 6.912\n",
      "[Epoch 0, Batch  4700] loss: 6.910\n",
      "[Epoch 0, Batch  4800] loss: 6.912\n",
      "[Epoch 0, Batch  4900] loss: 6.912\n",
      "[Epoch 0, Batch  5000] loss: 6.910\n",
      "[Epoch 0, Batch  5100] loss: 6.912\n",
      "[Epoch 0, Batch  5200] loss: 6.910\n",
      "[Epoch 0, Batch  5300] loss: 6.914\n",
      "[Epoch 0, Batch  5400] loss: 6.916\n",
      "[Epoch 0, Batch  5500] loss: 6.915\n",
      "[Epoch 0, Batch  5600] loss: 6.917\n",
      "[Epoch 0, Batch  5700] loss: 6.906\n",
      "[Epoch 0, Batch  5800] loss: 6.910\n"
     ]
    }
   ],
   "source": [
    "if __name__ == '__main__':\n",
    "    trainer = PreTrainer()\n",
    "    trainer.process()"
   ]
  },
  {
   "cell_type": "code",
   "execution_count": null,
   "id": "c8c14c74",
   "metadata": {},
   "outputs": [],
   "source": []
  }
 ],
 "metadata": {
  "kernelspec": {
   "display_name": "Python 3.9.7",
   "language": "python",
   "name": "python3.9.7"
  },
  "language_info": {
   "codemirror_mode": {
    "name": "ipython",
    "version": 3
   },
   "file_extension": ".py",
   "mimetype": "text/x-python",
   "name": "python",
   "nbconvert_exporter": "python",
   "pygments_lexer": "ipython3",
   "version": "3.9.7"
  }
 },
 "nbformat": 4,
 "nbformat_minor": 5
}
