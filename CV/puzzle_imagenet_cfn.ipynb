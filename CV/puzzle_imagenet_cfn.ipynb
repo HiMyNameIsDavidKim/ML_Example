{
 "cells": [
  {
   "cell_type": "markdown",
   "id": "7cd9fcdb",
   "metadata": {},
   "source": [
    "## Library"
   ]
  },
  {
   "cell_type": "code",
   "execution_count": 1,
   "id": "69fdb7fb",
   "metadata": {
    "ExecuteTime": {
     "end_time": "2024-04-04T06:27:50.498129Z",
     "start_time": "2024-04-04T06:27:49.171290Z"
    },
    "scrolled": true
   },
   "outputs": [
    {
     "name": "stdout",
     "output_type": "stream",
     "text": [
      "[0, 1, 2, 3]\n",
      "['NVIDIA GeForce RTX 3090', 'NVIDIA GeForce RTX 3090', 'NVIDIA GeForce RTX 3090', 'NVIDIA GeForce RTX 3090']\n"
     ]
    }
   ],
   "source": [
    "import PIL\n",
    "import numpy as np\n",
    "import torch\n",
    "import torch.nn as nn\n",
    "import torch.nn.functional as F\n",
    "import torch.optim as optim\n",
    "from matplotlib import pyplot as plt\n",
    "from torch.optim.lr_scheduler import CosineAnnealingLR\n",
    "from torch.utils.data import DataLoader, Subset\n",
    "from torchvision import datasets, transforms\n",
    "from tqdm import tqdm_notebook as tqdm\n",
    "from itertools import permutations\n",
    "\n",
    "from puzzle_cfn import PuzzleCFN_30, PuzzleCFN\n",
    "from puzzle_image_loader import PuzzleDataset1000 as PuzzleDataset\n",
    "from util.tester import visualLoss\n",
    "\n",
    "gpu_ids = []\n",
    "device_names = []\n",
    "if torch.cuda.is_available():\n",
    "    for gpu_id in range(torch.cuda.device_count()):\n",
    "        gpu_ids += [gpu_id]\n",
    "        device_names += [torch.cuda.get_device_name(gpu_id)]\n",
    "print(gpu_ids)\n",
    "print(device_names)\n",
    "\n",
    "if len(gpu_ids) > 1:\n",
    "    gpu = 'cuda:' + str(gpu_ids[0])  # GPU Number\n",
    "else:\n",
    "    gpu = \"cuda\" if torch.cuda.is_available() else \"cpu\""
   ]
  },
  {
   "cell_type": "markdown",
   "id": "441ec88d",
   "metadata": {},
   "source": [
    "## Hyper parameter"
   ]
  },
  {
   "cell_type": "code",
   "execution_count": 2,
   "id": "460c03df",
   "metadata": {
    "ExecuteTime": {
     "end_time": "2024-04-04T06:27:50.513350Z",
     "start_time": "2024-04-04T06:27:50.503841Z"
    }
   },
   "outputs": [],
   "source": [
    "device = gpu\n",
    "CLASSES = 1000\n",
    "LEARNING_RATE = 7e-05  # 1e-03\n",
    "BATCH_SIZE = 256  # 256\n",
    "NUM_EPOCHS = 20\n",
    "NUM_WORKERS = 2\n",
    "TASK_NAME = 'puzzle_imagenet_1000'\n",
    "MODEL_NAME = 'cfn'\n",
    "pre_model_path = f'./save/{TASK_NAME}_{MODEL_NAME}_ep{NUM_EPOCHS}_lr{LEARNING_RATE}_b{BATCH_SIZE}.pt'\n",
    "pre_load_model_path = './save/xxx.pt'"
   ]
  },
  {
   "cell_type": "markdown",
   "id": "10322ed9",
   "metadata": {},
   "source": [
    "## Dataset"
   ]
  },
  {
   "cell_type": "code",
   "execution_count": 3,
   "id": "caedc4a6",
   "metadata": {
    "ExecuteTime": {
     "end_time": "2024-04-04T06:27:52.233689Z",
     "start_time": "2024-04-04T06:27:50.517919Z"
    }
   },
   "outputs": [],
   "source": [
    "# transform = transforms.Compose([\n",
    "#     transforms.Pad(padding=3),\n",
    "#     transforms.CenterCrop(30),\n",
    "#     transforms.ToTensor(),\n",
    "#     transforms.Normalize((0.5,), (0.5,))\n",
    "# ])\n",
    "\n",
    "transform = transforms.Compose([\n",
    "    transforms.Resize(256, interpolation=PIL.Image.BICUBIC),\n",
    "    transforms.CenterCrop(224),\n",
    "    transforms.Pad(padding=(0, 0, 1, 1)),\n",
    "    transforms.ToTensor(),\n",
    "    transforms.Normalize(mean=[0.485, 0.456, 0.406], std=[0.229, 0.224, 0.225])\n",
    "])\n",
    "\n",
    "# train_dataset = datasets.CIFAR10(root='./data', train=True, transform=transform, download=True)\n",
    "# train_dataset = PuzzleDataset(dataset=train_dataset)\n",
    "# train_loader = DataLoader(dataset=train_dataset, batch_size=BATCH_SIZE, shuffle=True, num_workers=NUM_WORKERS)\n",
    "# val_dataset = Subset(train_dataset, list(range(int(0.2*len(train_dataset)))))\n",
    "# val_loader = DataLoader(dataset=val_dataset, batch_size=BATCH_SIZE, shuffle=True, num_workers=NUM_WORKERS)\n",
    "# test_dataset = datasets.CIFAR10(root='./data', train=False, transform=transform, download=True)\n",
    "# test_dataset = PuzzleDataset(dataset=test_dataset)\n",
    "# test_loader = DataLoader(dataset=test_dataset, batch_size=BATCH_SIZE, shuffle=False, num_workers=NUM_WORKERS)\n",
    "\n",
    "train_dataset = datasets.ImageFolder('../datasets/ImageNet/train', transform=transform)\n",
    "train_dataset = PuzzleDataset(dataset=train_dataset)\n",
    "train_loader = DataLoader(train_dataset, batch_size=BATCH_SIZE, shuffle=True, num_workers=NUM_WORKERS)\n",
    "val_dataset = Subset(train_dataset, list(range(int(0.01*len(train_dataset)))))\n",
    "val_loader = DataLoader(dataset=val_dataset, batch_size=BATCH_SIZE, shuffle=True, num_workers=NUM_WORKERS)\n",
    "test_dataset = datasets.ImageFolder('../datasets/ImageNet/val', transform=transform)\n",
    "test_dataset = PuzzleDataset(dataset=test_dataset)\n",
    "test_loader = DataLoader(test_dataset, batch_size=BATCH_SIZE, shuffle=True, num_workers=NUM_WORKERS)"
   ]
  },
  {
   "cell_type": "markdown",
   "id": "31dd71b4",
   "metadata": {},
   "source": [
    "## Pre-training class"
   ]
  },
  {
   "cell_type": "code",
   "execution_count": 4,
   "id": "52452529",
   "metadata": {
    "ExecuteTime": {
     "end_time": "2024-04-04T06:27:52.259015Z",
     "start_time": "2024-04-04T06:27:52.236805Z"
    }
   },
   "outputs": [],
   "source": [
    "class PreTrainer(object):\n",
    "    def __init__(self):\n",
    "        self.model = None\n",
    "        self.optimizer = None\n",
    "        self.epochs = []\n",
    "        self.losses = []\n",
    "        numbers = list(range(9))\n",
    "        permutation_list = permutations(numbers)\n",
    "        permutations_array = np.array(list(permutation_list))\n",
    "        self.permutations = permutations_array\n",
    "\n",
    "    def process(self, load=False):\n",
    "        self.build_model(load)\n",
    "        self.pretrain_model()\n",
    "        self.save_model()\n",
    "\n",
    "    def build_model(self, load):\n",
    "        self.model = PuzzleCFN(classes=CLASSES).to(device)\n",
    "        print(f'Parameter: {sum(p.numel() for p in self.model.parameters() if p.requires_grad)}')\n",
    "        if load:\n",
    "            checkpoint = torch.load(pre_load_model_path)\n",
    "            self.epochs = checkpoint['epochs']\n",
    "            self.model.load_state_dict(checkpoint['model'])\n",
    "            self.losses = checkpoint['losses']\n",
    "            print(f'Parameter: {sum(p.numel() for p in self.model.parameters() if p.requires_grad)}')\n",
    "            print(f'Epoch: {self.epochs[-1]}')\n",
    "            print(f'****** Reset epochs and losses ******')\n",
    "            self.epochs = []\n",
    "            self.losses = []\n",
    "\n",
    "    def pretrain_model(self):\n",
    "        model = self.model\n",
    "        criterion = nn.CrossEntropyLoss()\n",
    "        optimizer = optim.Adam(model.parameters(), lr=LEARNING_RATE)\n",
    "        scheduler = CosineAnnealingLR(optimizer, T_max=NUM_EPOCHS)\n",
    "\n",
    "        model.train()\n",
    "        for epoch in range(NUM_EPOCHS):\n",
    "            running_loss = 0.\n",
    "            for batch_idx, (images, labels, original) in tqdm(enumerate(train_loader, 0), total=len(train_loader)):\n",
    "                images = images.to(device)\n",
    "                labels = labels.to(device)\n",
    "\n",
    "                optimizer.zero_grad()\n",
    "\n",
    "                outputs = model(images)\n",
    "                loss = criterion(outputs, labels)\n",
    "\n",
    "                loss.backward()\n",
    "                optimizer.step()\n",
    "                running_loss += loss.item()\n",
    "\n",
    "                inter = 100\n",
    "                if batch_idx % inter == inter - 1:\n",
    "                    print(f'[Epoch {epoch + 1}] [Batch {batch_idx + 1}] Loss: {running_loss / inter:.4f}')\n",
    "                    self.epochs.append(epoch + 1)\n",
    "                    self.model = model\n",
    "                    self.optimizer = optimizer\n",
    "                    self.losses.append(running_loss / inter)\n",
    "                    running_loss = 0.\n",
    "            scheduler.step()\n",
    "            self.save_model()\n",
    "            visualLoss(self.losses)\n",
    "            self.val_model(epoch)\n",
    "        print('****** Finished Fine-tuning ******')\n",
    "        self.model = model\n",
    "\n",
    "    def val_model(self, epoch=-1):\n",
    "        model = self.model\n",
    "\n",
    "        model.eval()\n",
    "\n",
    "        total = 0\n",
    "        correct = 0\n",
    "        with torch.no_grad():\n",
    "            for batch_idx, (images, labels, original) in tqdm(enumerate(val_loader, 0), total=len(val_loader)):\n",
    "                images = images.to(device)\n",
    "                labels = labels.to(device)\n",
    "\n",
    "                outputs = model(images)\n",
    "\n",
    "                _, pred = torch.max(outputs.data, 1)\n",
    "                labels_ = torch.tensor([self.idx2order1000(label) for label in labels])\n",
    "                pred_ = torch.tensor([self.idx2order1000(p) for p in pred])\n",
    "                total += labels_.size(0) * labels_.size(1)\n",
    "                correct += (pred_ == labels_).sum().item()\n",
    "\n",
    "        print(f'[Epoch {epoch + 1}] Accuracy on the test set: {100 * correct / total:.2f}%')\n",
    "        torch.set_printoptions(precision=2)\n",
    "        total = labels_.size(1)\n",
    "        correct = (pred_[0] == labels_[0]).sum().item()\n",
    "        print(f'[Sample result]')\n",
    "        print(torch.cat((pred_[0].view(9, -1), labels_[0].view(9, -1)), dim=1))\n",
    "        print(f'Accuracy: {100 * correct / total:.2f}%')\n",
    "\n",
    "    def save_model(self):\n",
    "        checkpoint = {\n",
    "            'epochs': self.epochs,\n",
    "            'model': self.model.state_dict(),\n",
    "            'optimizer': self.optimizer.state_dict(),\n",
    "            'losses': self.losses,\n",
    "        }\n",
    "        torch.save(checkpoint, pre_model_path)\n",
    "        print(f\"****** Model checkpoint saved at epochs {self.epochs[-1]} ******\")\n",
    "\n",
    "    def idx2order(self, idx):\n",
    "        numbers = list(range(9))\n",
    "        permutation_list = permutations(numbers)\n",
    "        permutations_array = np.array(list(permutation_list))\n",
    "        return permutations_array[idx]\n",
    "\n",
    "    def idx2order1000(self, idx):\n",
    "        permutations_array = np.load(f'./data/permutations_1000.npy')\n",
    "        return permutations_array[idx]"
   ]
  },
  {
   "cell_type": "code",
   "execution_count": 5,
   "id": "b51c9876",
   "metadata": {
    "ExecuteTime": {
     "end_time": "2024-04-05T01:51:41.846956Z",
     "start_time": "2024-04-04T06:27:52.261837Z"
    }
   },
   "outputs": [
    {
     "name": "stdout",
     "output_type": "stream",
     "text": [
      "Parameter: 46544232\n"
     ]
    },
    {
     "name": "stderr",
     "output_type": "stream",
     "text": [
      "/usr/local/lib/python3.6/dist-packages/ipykernel_launcher.py:40: TqdmDeprecationWarning: This function will be removed in tqdm==5.0.0\n",
      "Please use `tqdm.notebook.tqdm` instead of `tqdm.tqdm_notebook`\n"
     ]
    },
    {
     "data": {
      "application/vnd.jupyter.widget-view+json": {
       "model_id": "b303afda8bfd4178b5a6342189ac53aa",
       "version_major": 2,
       "version_minor": 0
      },
      "text/plain": [
       "  0%|          | 0/5005 [00:00<?, ?it/s]"
      ]
     },
     "metadata": {},
     "output_type": "display_data"
    },
    {
     "name": "stdout",
     "output_type": "stream",
     "text": [
      "[Epoch 1] [Batch 100] Loss: 6.9081\n",
      "[Epoch 1] [Batch 200] Loss: 6.9081\n",
      "[Epoch 1] [Batch 300] Loss: 6.9079\n",
      "[Epoch 1] [Batch 400] Loss: 6.9078\n",
      "[Epoch 1] [Batch 500] Loss: 6.9079\n",
      "[Epoch 1] [Batch 600] Loss: 6.9079\n",
      "[Epoch 1] [Batch 700] Loss: 6.9078\n",
      "[Epoch 1] [Batch 800] Loss: 6.9079\n",
      "[Epoch 1] [Batch 900] Loss: 6.9079\n",
      "[Epoch 1] [Batch 1000] Loss: 6.9077\n",
      "[Epoch 1] [Batch 1100] Loss: 6.9077\n",
      "[Epoch 1] [Batch 1200] Loss: 6.9078\n",
      "[Epoch 1] [Batch 1300] Loss: 6.9079\n",
      "[Epoch 1] [Batch 1400] Loss: 6.9073\n",
      "[Epoch 1] [Batch 1500] Loss: 6.9080\n",
      "[Epoch 1] [Batch 1600] Loss: 6.9075\n",
      "[Epoch 1] [Batch 1700] Loss: 6.9069\n",
      "[Epoch 1] [Batch 1800] Loss: 6.9052\n",
      "[Epoch 1] [Batch 1900] Loss: 6.8650\n",
      "[Epoch 1] [Batch 2000] Loss: 6.7347\n",
      "[Epoch 1] [Batch 2100] Loss: 6.5920\n",
      "[Epoch 1] [Batch 2200] Loss: 6.4800\n",
      "[Epoch 1] [Batch 2300] Loss: 6.3771\n",
      "[Epoch 1] [Batch 2400] Loss: 6.3198\n",
      "[Epoch 1] [Batch 2500] Loss: 6.2641\n",
      "[Epoch 1] [Batch 2600] Loss: 6.2181\n",
      "[Epoch 1] [Batch 2700] Loss: 6.1726\n",
      "[Epoch 1] [Batch 2800] Loss: 6.1423\n",
      "[Epoch 1] [Batch 2900] Loss: 6.1135\n",
      "[Epoch 1] [Batch 3000] Loss: 6.0918\n",
      "[Epoch 1] [Batch 3100] Loss: 6.0508\n",
      "[Epoch 1] [Batch 3200] Loss: 6.0110\n",
      "[Epoch 1] [Batch 3300] Loss: 6.0177\n",
      "[Epoch 1] [Batch 3400] Loss: 6.0062\n",
      "[Epoch 1] [Batch 3500] Loss: 5.9669\n",
      "[Epoch 1] [Batch 3600] Loss: 5.9443\n",
      "[Epoch 1] [Batch 3700] Loss: 5.9252\n",
      "[Epoch 1] [Batch 3800] Loss: 5.9112\n",
      "[Epoch 1] [Batch 3900] Loss: 5.9086\n",
      "[Epoch 1] [Batch 4000] Loss: 5.8730\n",
      "[Epoch 1] [Batch 4100] Loss: 5.8800\n",
      "[Epoch 1] [Batch 4200] Loss: 5.8379\n",
      "[Epoch 1] [Batch 4300] Loss: 5.8379\n",
      "[Epoch 1] [Batch 4400] Loss: 5.8295\n",
      "[Epoch 1] [Batch 4500] Loss: 5.8337\n",
      "[Epoch 1] [Batch 4600] Loss: 5.7968\n",
      "[Epoch 1] [Batch 4700] Loss: 5.7828\n",
      "[Epoch 1] [Batch 4800] Loss: 5.7486\n",
      "[Epoch 1] [Batch 4900] Loss: 5.7646\n",
      "[Epoch 1] [Batch 5000] Loss: 5.7465\n",
      "****** Model checkpoint saved at epochs 1 ******\n"
     ]
    },
    {
     "data": {
      "image/png": "[encoded data removed]",
      "text/plain": [
       "<Figure size 432x288 with 1 Axes>"
      ]
     },
     "metadata": {
      "needs_background": "light"
     },
     "output_type": "display_data"
    },
    {
     "name": "stderr",
     "output_type": "stream",
     "text": [
      "/usr/local/lib/python3.6/dist-packages/ipykernel_launcher.py:76: TqdmDeprecationWarning: This function will be removed in tqdm==5.0.0\n",
      "Please use `tqdm.notebook.tqdm` instead of `tqdm.tqdm_notebook`\n"
     ]
    },
    {
     "data": {
      "application/vnd.jupyter.widget-view+json": {
       "model_id": "cdbc635ded954c97a2a061bda9d7919f",
       "version_major": 2,
       "version_minor": 0
      },
      "text/plain": [
       "  0%|          | 0/51 [00:00<?, ?it/s]"
      ]
     },
     "metadata": {},
     "output_type": "display_data"
    },
    {
     "name": "stdout",
     "output_type": "stream",
     "text": [
      "[Epoch 1] Accuracy on the test set: 19.05%\n",
      "[Sample result]\n",
      "tensor([[1, 1],\n",
      "        [4, 5],\n",
      "        [8, 8],\n",
      "        [2, 4],\n",
      "        [5, 6],\n",
      "        [0, 2],\n",
      "        [6, 3],\n",
      "        [3, 0],\n",
      "        [7, 7]])\n",
      "Accuracy: 33.33%\n"
     ]
    },
    {
     "data": {
      "application/vnd.jupyter.widget-view+json": {
       "model_id": "f74438e84f6f47a7a6ec379f9c3a5db2",
       "version_major": 2,
       "version_minor": 0
      },
      "text/plain": [
       "  0%|          | 0/5005 [00:00<?, ?it/s]"
      ]
     },
     "metadata": {},
     "output_type": "display_data"
    },
    {
     "name": "stdout",
     "output_type": "stream",
     "text": [
      "[Epoch 2] [Batch 100] Loss: 5.6035\n",
      "[Epoch 2] [Batch 200] Loss: 5.6093\n",
      "[Epoch 2] [Batch 300] Loss: 5.5968\n",
      "[Epoch 2] [Batch 400] Loss: 5.5734\n",
      "[Epoch 2] [Batch 500] Loss: 5.5367\n",
      "[Epoch 2] [Batch 600] Loss: 5.5001\n",
      "[Epoch 2] [Batch 700] Loss: 5.4639\n",
      "[Epoch 2] [Batch 800] Loss: 5.4165\n",
      "[Epoch 2] [Batch 900] Loss: 5.3491\n",
      "[Epoch 2] [Batch 1000] Loss: 5.3083\n",
      "[Epoch 2] [Batch 1100] Loss: 5.2583\n",
      "[Epoch 2] [Batch 1200] Loss: 5.2378\n",
      "[Epoch 2] [Batch 1300] Loss: 5.1912\n",
      "[Epoch 2] [Batch 1400] Loss: 5.1500\n",
      "[Epoch 2] [Batch 1500] Loss: 5.1364\n",
      "[Epoch 2] [Batch 1600] Loss: 5.0939\n",
      "[Epoch 2] [Batch 1700] Loss: 5.0674\n",
      "[Epoch 2] [Batch 1800] Loss: 5.0647\n",
      "[Epoch 2] [Batch 1900] Loss: 5.0487\n",
      "[Epoch 2] [Batch 2000] Loss: 5.0215\n",
      "[Epoch 2] [Batch 2100] Loss: 4.9934\n",
      "[Epoch 2] [Batch 2200] Loss: 4.9753\n",
      "[Epoch 2] [Batch 2300] Loss: 4.9593\n",
      "[Epoch 2] [Batch 2400] Loss: 4.9397\n",
      "[Epoch 2] [Batch 2500] Loss: 4.9156\n",
      "[Epoch 2] [Batch 2600] Loss: 4.8903\n",
      "[Epoch 2] [Batch 2700] Loss: 4.9038\n",
      "[Epoch 2] [Batch 2800] Loss: 4.8753\n",
      "[Epoch 2] [Batch 2900] Loss: 4.8890\n",
      "[Epoch 2] [Batch 3000] Loss: 4.8464\n",
      "[Epoch 2] [Batch 3100] Loss: 4.8273\n",
      "[Epoch 2] [Batch 3200] Loss: 4.8026\n",
      "[Epoch 2] [Batch 3300] Loss: 4.7981\n",
      "[Epoch 2] [Batch 3400] Loss: 4.7640\n",
      "[Epoch 2] [Batch 3500] Loss: 4.7636\n",
      "[Epoch 2] [Batch 3600] Loss: 4.7716\n",
      "[Epoch 2] [Batch 3700] Loss: 4.7316\n",
      "[Epoch 2] [Batch 3800] Loss: 4.7296\n",
      "[Epoch 2] [Batch 3900] Loss: 4.7309\n",
      "[Epoch 2] [Batch 4000] Loss: 4.6858\n",
      "[Epoch 2] [Batch 4100] Loss: 4.7017\n",
      "[Epoch 2] [Batch 4200] Loss: 4.6904\n",
      "[Epoch 2] [Batch 4300] Loss: 4.6789\n",
      "[Epoch 2] [Batch 4400] Loss: 4.6615\n",
      "[Epoch 2] [Batch 4500] Loss: 4.6157\n",
      "[Epoch 2] [Batch 4600] Loss: 4.6587\n",
      "[Epoch 2] [Batch 4700] Loss: 4.6261\n",
      "[Epoch 2] [Batch 4800] Loss: 4.5885\n",
      "[Epoch 2] [Batch 4900] Loss: 4.6161\n",
      "[Epoch 2] [Batch 5000] Loss: 4.6076\n",
      "****** Model checkpoint saved at epochs 2 ******\n"
     ]
    },
    {
     "data": {
      "image/png": "[encoded data removed]",
      "text/plain": [
       "<Figure size 432x288 with 1 Axes>"
      ]
     },
     "metadata": {
      "needs_background": "light"
     },
     "output_type": "display_data"
    },
    {
     "data": {
      "application/vnd.jupyter.widget-view+json": {
       "model_id": "722d65f03ffd408aa4288d3063ec2723",
       "version_major": 2,
       "version_minor": 0
      },
      "text/plain": [
       "  0%|          | 0/51 [00:00<?, ?it/s]"
      ]
     },
     "metadata": {},
     "output_type": "display_data"
    },
    {
     "name": "stdout",
     "output_type": "stream",
     "text": [
      "[Epoch 2] Accuracy on the test set: 29.76%\n",
      "[Sample result]\n",
      "tensor([[4, 1],\n",
      "        [3, 5],\n",
      "        [2, 8],\n",
      "        [7, 4],\n",
      "        [5, 6],\n",
      "        [8, 2],\n",
      "        [0, 3],\n",
      "        [1, 0],\n",
      "        [6, 7]])\n",
      "Accuracy: 0.00%\n"
     ]
    },
    {
     "data": {
      "application/vnd.jupyter.widget-view+json": {
       "model_id": "6ed17c592248473e9f29d580c9a5d128",
       "version_major": 2,
       "version_minor": 0
      },
      "text/plain": [
       "  0%|          | 0/5005 [00:00<?, ?it/s]"
      ]
     },
     "metadata": {},
     "output_type": "display_data"
    },
    {
     "name": "stdout",
     "output_type": "stream",
     "text": [
      "[Epoch 3] [Batch 100] Loss: 4.5834\n",
      "[Epoch 3] [Batch 200] Loss: 4.5478\n",
      "[Epoch 3] [Batch 300] Loss: 4.5693\n",
      "[Epoch 3] [Batch 400] Loss: 4.5546\n",
      "[Epoch 3] [Batch 500] Loss: 4.5454\n",
      "[Epoch 3] [Batch 600] Loss: 4.5188\n",
      "[Epoch 3] [Batch 700] Loss: 4.5112\n",
      "[Epoch 3] [Batch 800] Loss: 4.4726\n",
      "[Epoch 3] [Batch 900] Loss: 4.4665\n",
      "[Epoch 3] [Batch 1000] Loss: 4.4882\n",
      "[Epoch 3] [Batch 1100] Loss: 4.4795\n",
      "[Epoch 3] [Batch 1200] Loss: 4.4565\n",
      "[Epoch 3] [Batch 1300] Loss: 4.4506\n",
      "[Epoch 3] [Batch 1400] Loss: 4.4057\n",
      "[Epoch 3] [Batch 1500] Loss: 4.4360\n",
      "[Epoch 3] [Batch 1600] Loss: 4.4202\n",
      "[Epoch 3] [Batch 1700] Loss: 4.4134\n",
      "[Epoch 3] [Batch 1800] Loss: 4.3697\n",
      "[Epoch 3] [Batch 1900] Loss: 4.3856\n",
      "[Epoch 3] [Batch 2000] Loss: 4.3610\n",
      "[Epoch 3] [Batch 2100] Loss: 4.3520\n",
      "[Epoch 3] [Batch 2200] Loss: 4.3473\n",
      "[Epoch 3] [Batch 2300] Loss: 4.2927\n",
      "[Epoch 3] [Batch 2400] Loss: 4.3236\n",
      "[Epoch 3] [Batch 2500] Loss: 4.2854\n",
      "[Epoch 3] [Batch 2600] Loss: 4.2850\n",
      "[Epoch 3] [Batch 2700] Loss: 4.2712\n",
      "[Epoch 3] [Batch 2800] Loss: 4.2656\n",
      "[Epoch 3] [Batch 2900] Loss: 4.2489\n",
      "[Epoch 3] [Batch 3000] Loss: 4.2234\n",
      "[Epoch 3] [Batch 3100] Loss: 4.2346\n",
      "[Epoch 3] [Batch 3200] Loss: 4.1808\n",
      "[Epoch 3] [Batch 3300] Loss: 4.1872\n",
      "[Epoch 3] [Batch 3400] Loss: 4.1651\n",
      "[Epoch 3] [Batch 3500] Loss: 4.1621\n",
      "[Epoch 3] [Batch 3600] Loss: 4.1730\n",
      "[Epoch 3] [Batch 3700] Loss: 4.1442\n",
      "[Epoch 3] [Batch 3800] Loss: 4.1127\n",
      "[Epoch 3] [Batch 3900] Loss: 4.1189\n",
      "[Epoch 3] [Batch 4000] Loss: 4.0823\n",
      "[Epoch 3] [Batch 4100] Loss: 4.0732\n",
      "[Epoch 3] [Batch 4200] Loss: 4.0720\n",
      "[Epoch 3] [Batch 4300] Loss: 4.0224\n",
      "[Epoch 3] [Batch 4400] Loss: 4.0639\n",
      "[Epoch 3] [Batch 4500] Loss: 4.0280\n",
      "[Epoch 3] [Batch 4600] Loss: 4.0053\n",
      "[Epoch 3] [Batch 4700] Loss: 3.9973\n",
      "[Epoch 3] [Batch 4800] Loss: 3.9493\n",
      "[Epoch 3] [Batch 4900] Loss: 3.9445\n",
      "[Epoch 3] [Batch 5000] Loss: 3.9391\n",
      "****** Model checkpoint saved at epochs 3 ******\n"
     ]
    },
    {
     "data": {
      "image/png": "[encoded data removed]",
      "text/plain": [
       "<Figure size 432x288 with 1 Axes>"
      ]
     },
     "metadata": {
      "needs_background": "light"
     },
     "output_type": "display_data"
    },
    {
     "data": {
      "application/vnd.jupyter.widget-view+json": {
       "model_id": "ba0973836e754dd5b5fceb537b21f045",
       "version_major": 2,
       "version_minor": 0
      },
      "text/plain": [
       "  0%|          | 0/51 [00:00<?, ?it/s]"
      ]
     },
     "metadata": {},
     "output_type": "display_data"
    },
    {
     "name": "stdout",
     "output_type": "stream",
     "text": [
      "[Epoch 3] Accuracy on the test set: 36.15%\n",
      "[Sample result]\n",
      "tensor([[1, 1],\n",
      "        [5, 5],\n",
      "        [8, 8],\n",
      "        [4, 4],\n",
      "        [6, 6],\n",
      "        [2, 2],\n",
      "        [3, 3],\n",
      "        [0, 0],\n",
      "        [7, 7]])\n",
      "Accuracy: 100.00%\n"
     ]
    },
    {
     "data": {
      "application/vnd.jupyter.widget-view+json": {
       "model_id": "ca8cf88cc64742368142e9ed010c2c6a",
       "version_major": 2,
       "version_minor": 0
      },
      "text/plain": [
       "  0%|          | 0/5005 [00:00<?, ?it/s]"
      ]
     },
     "metadata": {},
     "output_type": "display_data"
    },
    {
     "name": "stdout",
     "output_type": "stream",
     "text": [
      "[Epoch 4] [Batch 100] Loss: 3.9250\n",
      "[Epoch 4] [Batch 200] Loss: 3.9001\n",
      "[Epoch 4] [Batch 300] Loss: 3.8999\n",
      "[Epoch 4] [Batch 400] Loss: 3.8725\n",
      "[Epoch 4] [Batch 500] Loss: 3.8866\n",
      "[Epoch 4] [Batch 600] Loss: 3.8510\n",
      "[Epoch 4] [Batch 700] Loss: 3.8543\n",
      "[Epoch 4] [Batch 800] Loss: 3.8472\n",
      "[Epoch 4] [Batch 900] Loss: 3.8189\n",
      "[Epoch 4] [Batch 1000] Loss: 3.8176\n",
      "[Epoch 4] [Batch 1100] Loss: 3.8125\n",
      "[Epoch 4] [Batch 1200] Loss: 3.8071\n",
      "[Epoch 4] [Batch 1300] Loss: 3.8005\n",
      "[Epoch 4] [Batch 1400] Loss: 3.7790\n",
      "[Epoch 4] [Batch 1500] Loss: 3.7884\n",
      "[Epoch 4] [Batch 1600] Loss: 3.7715\n",
      "[Epoch 4] [Batch 1700] Loss: 3.7434\n",
      "[Epoch 4] [Batch 1800] Loss: 3.7481\n",
      "[Epoch 4] [Batch 1900] Loss: 3.7459\n",
      "[Epoch 4] [Batch 2000] Loss: 3.7346\n",
      "[Epoch 4] [Batch 2100] Loss: 3.7224\n",
      "[Epoch 4] [Batch 2200] Loss: 3.7250\n",
      "[Epoch 4] [Batch 2300] Loss: 3.6882\n",
      "[Epoch 4] [Batch 2400] Loss: 3.7090\n",
      "[Epoch 4] [Batch 2500] Loss: 3.6866\n",
      "[Epoch 4] [Batch 2600] Loss: 3.6520\n",
      "[Epoch 4] [Batch 2700] Loss: 3.6752\n",
      "[Epoch 4] [Batch 2800] Loss: 3.6511\n",
      "[Epoch 4] [Batch 2900] Loss: 3.6554\n",
      "[Epoch 4] [Batch 3000] Loss: 3.6449\n",
      "[Epoch 4] [Batch 3100] Loss: 3.6363\n",
      "[Epoch 4] [Batch 3200] Loss: 3.6346\n",
      "[Epoch 4] [Batch 3300] Loss: 3.6310\n",
      "[Epoch 4] [Batch 3400] Loss: 3.6375\n",
      "[Epoch 4] [Batch 3500] Loss: 3.6045\n",
      "[Epoch 4] [Batch 3600] Loss: 3.5806\n",
      "[Epoch 4] [Batch 3700] Loss: 3.6064\n",
      "[Epoch 4] [Batch 3800] Loss: 3.5677\n",
      "[Epoch 4] [Batch 3900] Loss: 3.5530\n",
      "[Epoch 4] [Batch 4000] Loss: 3.5475\n",
      "[Epoch 4] [Batch 4100] Loss: 3.5545\n",
      "[Epoch 4] [Batch 4200] Loss: 3.5591\n",
      "[Epoch 4] [Batch 4300] Loss: 3.5414\n",
      "[Epoch 4] [Batch 4400] Loss: 3.5407\n",
      "[Epoch 4] [Batch 4500] Loss: 3.5191\n",
      "[Epoch 4] [Batch 4600] Loss: 3.4774\n",
      "[Epoch 4] [Batch 4700] Loss: 3.5184\n",
      "[Epoch 4] [Batch 4800] Loss: 3.4945\n",
      "[Epoch 4] [Batch 4900] Loss: 3.4780\n",
      "[Epoch 4] [Batch 5000] Loss: 3.4987\n",
      "****** Model checkpoint saved at epochs 4 ******\n"
     ]
    },
    {
     "data": {
      "image/png": "[encoded data removed]",
      "text/plain": [
       "<Figure size 432x288 with 1 Axes>"
      ]
     },
     "metadata": {
      "needs_background": "light"
     },
     "output_type": "display_data"
    },
    {
     "data": {
      "application/vnd.jupyter.widget-view+json": {
       "model_id": "c8c046f759ed42d1adecd7ccde3a92b6",
       "version_major": 2,
       "version_minor": 0
      },
      "text/plain": [
       "  0%|          | 0/51 [00:00<?, ?it/s]"
      ]
     },
     "metadata": {},
     "output_type": "display_data"
    },
    {
     "name": "stdout",
     "output_type": "stream",
     "text": [
      "[Epoch 4] Accuracy on the test set: 41.49%\n",
      "[Sample result]\n",
      "tensor([[0, 1],\n",
      "        [6, 5],\n",
      "        [3, 8],\n",
      "        [2, 4],\n",
      "        [7, 6],\n",
      "        [4, 2],\n",
      "        [1, 3],\n",
      "        [8, 0],\n",
      "        [5, 7]])\n",
      "Accuracy: 0.00%\n"
     ]
    },
    {
     "data": {
      "application/vnd.jupyter.widget-view+json": {
       "model_id": "0963ab03ec72419ba48fd02088ad821b",
       "version_major": 2,
       "version_minor": 0
      },
      "text/plain": [
       "  0%|          | 0/5005 [00:00<?, ?it/s]"
      ]
     },
     "metadata": {},
     "output_type": "display_data"
    },
    {
     "name": "stdout",
     "output_type": "stream",
     "text": [
      "[Epoch 5] [Batch 100] Loss: 3.4548\n",
      "[Epoch 5] [Batch 200] Loss: 3.4342\n",
      "[Epoch 5] [Batch 300] Loss: 3.4251\n",
      "[Epoch 5] [Batch 400] Loss: 3.4349\n",
      "[Epoch 5] [Batch 500] Loss: 3.4500\n",
      "[Epoch 5] [Batch 600] Loss: 3.4394\n",
      "[Epoch 5] [Batch 700] Loss: 3.4213\n",
      "[Epoch 5] [Batch 800] Loss: 3.4015\n",
      "[Epoch 5] [Batch 900] Loss: 3.3718\n",
      "[Epoch 5] [Batch 1000] Loss: 3.3746\n",
      "[Epoch 5] [Batch 1100] Loss: 3.3922\n",
      "[Epoch 5] [Batch 1200] Loss: 3.3586\n",
      "[Epoch 5] [Batch 1300] Loss: 3.3558\n",
      "[Epoch 5] [Batch 1400] Loss: 3.3943\n",
      "[Epoch 5] [Batch 1500] Loss: 3.3638\n",
      "[Epoch 5] [Batch 1600] Loss: 3.3600\n",
      "[Epoch 5] [Batch 1700] Loss: 3.3347\n",
      "[Epoch 5] [Batch 1800] Loss: 3.3329\n",
      "[Epoch 5] [Batch 1900] Loss: 3.2867\n",
      "[Epoch 5] [Batch 2000] Loss: 3.2794\n",
      "[Epoch 5] [Batch 2100] Loss: 3.3088\n",
      "[Epoch 5] [Batch 2200] Loss: 3.3157\n",
      "[Epoch 5] [Batch 2300] Loss: 3.2956\n",
      "[Epoch 5] [Batch 2400] Loss: 3.2573\n",
      "[Epoch 5] [Batch 2500] Loss: 3.2693\n",
      "[Epoch 5] [Batch 2600] Loss: 3.2617\n",
      "[Epoch 5] [Batch 2700] Loss: 3.2497\n",
      "[Epoch 5] [Batch 2800] Loss: 3.2599\n",
      "[Epoch 5] [Batch 2900] Loss: 3.2481\n",
      "[Epoch 5] [Batch 3000] Loss: 3.2176\n",
      "[Epoch 5] [Batch 3100] Loss: 3.2017\n",
      "[Epoch 5] [Batch 3200] Loss: 3.1959\n",
      "[Epoch 5] [Batch 3300] Loss: 3.2059\n",
      "[Epoch 5] [Batch 3400] Loss: 3.1860\n",
      "[Epoch 5] [Batch 3500] Loss: 3.2098\n",
      "[Epoch 5] [Batch 3600] Loss: 3.1814\n",
      "[Epoch 5] [Batch 3700] Loss: 3.1541\n",
      "[Epoch 5] [Batch 3800] Loss: 3.1401\n",
      "[Epoch 5] [Batch 3900] Loss: 3.1580\n",
      "[Epoch 5] [Batch 4000] Loss: 3.1317\n",
      "[Epoch 5] [Batch 4100] Loss: 3.1448\n",
      "[Epoch 5] [Batch 4200] Loss: 3.0816\n",
      "[Epoch 5] [Batch 4300] Loss: 3.1259\n",
      "[Epoch 5] [Batch 4400] Loss: 3.0981\n",
      "[Epoch 5] [Batch 4500] Loss: 3.0882\n",
      "[Epoch 5] [Batch 4600] Loss: 3.0522\n",
      "[Epoch 5] [Batch 4700] Loss: 3.0760\n",
      "[Epoch 5] [Batch 4800] Loss: 3.0596\n",
      "[Epoch 5] [Batch 4900] Loss: 3.0691\n",
      "[Epoch 5] [Batch 5000] Loss: 3.0665\n",
      "****** Model checkpoint saved at epochs 5 ******\n"
     ]
    },
    {
     "data": {
      "image/png": "[encoded data removed]",
      "text/plain": [
       "<Figure size 432x288 with 1 Axes>"
      ]
     },
     "metadata": {
      "needs_background": "light"
     },
     "output_type": "display_data"
    },
    {
     "data": {
      "application/vnd.jupyter.widget-view+json": {
       "model_id": "5714576c698246acab867b0e3fd04804",
       "version_major": 2,
       "version_minor": 0
      },
      "text/plain": [
       "  0%|          | 0/51 [00:00<?, ?it/s]"
      ]
     },
     "metadata": {},
     "output_type": "display_data"
    },
    {
     "name": "stdout",
     "output_type": "stream",
     "text": [
      "[Epoch 5] Accuracy on the test set: 46.16%\n",
      "[Sample result]\n",
      "tensor([[1, 1],\n",
      "        [5, 5],\n",
      "        [8, 8],\n",
      "        [4, 4],\n",
      "        [6, 6],\n",
      "        [2, 2],\n",
      "        [3, 3],\n",
      "        [0, 0],\n",
      "        [7, 7]])\n",
      "Accuracy: 100.00%\n"
     ]
    },
    {
     "data": {
      "application/vnd.jupyter.widget-view+json": {
       "model_id": "c81b3e8b591640e0b9a425d4fb7beae9",
       "version_major": 2,
       "version_minor": 0
      },
      "text/plain": [
       "  0%|          | 0/5005 [00:00<?, ?it/s]"
      ]
     },
     "metadata": {},
     "output_type": "display_data"
    },
    {
     "name": "stdout",
     "output_type": "stream",
     "text": [
      "[Epoch 6] [Batch 100] Loss: 3.0105\n",
      "[Epoch 6] [Batch 200] Loss: 3.0117\n",
      "[Epoch 6] [Batch 300] Loss: 2.9998\n",
      "[Epoch 6] [Batch 400] Loss: 3.0110\n",
      "[Epoch 6] [Batch 500] Loss: 2.9758\n",
      "[Epoch 6] [Batch 600] Loss: 2.9620\n",
      "[Epoch 6] [Batch 700] Loss: 2.9888\n",
      "[Epoch 6] [Batch 800] Loss: 2.9841\n",
      "[Epoch 6] [Batch 900] Loss: 2.9651\n",
      "[Epoch 6] [Batch 1000] Loss: 2.9383\n",
      "[Epoch 6] [Batch 1100] Loss: 2.9503\n",
      "[Epoch 6] [Batch 1200] Loss: 2.9181\n",
      "[Epoch 6] [Batch 1300] Loss: 2.9178\n",
      "[Epoch 6] [Batch 1400] Loss: 2.8893\n",
      "[Epoch 6] [Batch 1500] Loss: 2.9201\n",
      "[Epoch 6] [Batch 1600] Loss: 2.8924\n",
      "[Epoch 6] [Batch 1700] Loss: 2.8863\n",
      "[Epoch 6] [Batch 1800] Loss: 2.8771\n",
      "[Epoch 6] [Batch 1900] Loss: 2.8800\n",
      "[Epoch 6] [Batch 2000] Loss: 2.8517\n",
      "[Epoch 6] [Batch 2100] Loss: 2.8599\n",
      "[Epoch 6] [Batch 2200] Loss: 2.8531\n",
      "[Epoch 6] [Batch 2300] Loss: 2.8550\n",
      "[Epoch 6] [Batch 2400] Loss: 2.8235\n",
      "[Epoch 6] [Batch 2500] Loss: 2.8288\n",
      "[Epoch 6] [Batch 2600] Loss: 2.7911\n",
      "[Epoch 6] [Batch 2700] Loss: 2.7864\n",
      "[Epoch 6] [Batch 2800] Loss: 2.8002\n",
      "[Epoch 6] [Batch 2900] Loss: 2.7981\n",
      "[Epoch 6] [Batch 3000] Loss: 2.7803\n",
      "[Epoch 6] [Batch 3100] Loss: 2.7724\n",
      "[Epoch 6] [Batch 3200] Loss: 2.7888\n",
      "[Epoch 6] [Batch 3300] Loss: 2.7272\n",
      "[Epoch 6] [Batch 3400] Loss: 2.7350\n",
      "[Epoch 6] [Batch 3500] Loss: 2.7420\n",
      "[Epoch 6] [Batch 3600] Loss: 2.7227\n",
      "[Epoch 6] [Batch 3700] Loss: 2.7342\n",
      "[Epoch 6] [Batch 3800] Loss: 2.7069\n",
      "[Epoch 6] [Batch 3900] Loss: 2.7240\n",
      "[Epoch 6] [Batch 4000] Loss: 2.7158\n",
      "[Epoch 6] [Batch 4100] Loss: 2.6900\n",
      "[Epoch 6] [Batch 4200] Loss: 2.6825\n",
      "[Epoch 6] [Batch 4300] Loss: 2.6942\n",
      "[Epoch 6] [Batch 4400] Loss: 2.6658\n",
      "[Epoch 6] [Batch 4500] Loss: 2.6494\n",
      "[Epoch 6] [Batch 4600] Loss: 2.6482\n",
      "[Epoch 6] [Batch 4700] Loss: 2.6421\n",
      "[Epoch 6] [Batch 4800] Loss: 2.6388\n",
      "[Epoch 6] [Batch 4900] Loss: 2.6272\n",
      "[Epoch 6] [Batch 5000] Loss: 2.6048\n",
      "****** Model checkpoint saved at epochs 6 ******\n"
     ]
    },
    {
     "data": {
      "image/png": "[encoded data removed]",
      "text/plain": [
       "<Figure size 432x288 with 1 Axes>"
      ]
     },
     "metadata": {
      "needs_background": "light"
     },
     "output_type": "display_data"
    },
    {
     "data": {
      "application/vnd.jupyter.widget-view+json": {
       "model_id": "0ce1fe1e00cb4e96b79547f8db315316",
       "version_major": 2,
       "version_minor": 0
      },
      "text/plain": [
       "  0%|          | 0/51 [00:00<?, ?it/s]"
      ]
     },
     "metadata": {},
     "output_type": "display_data"
    },
    {
     "name": "stdout",
     "output_type": "stream",
     "text": [
      "[Epoch 6] Accuracy on the test set: 51.66%\n",
      "[Sample result]\n",
      "tensor([[6, 1],\n",
      "        [2, 5],\n",
      "        [5, 8],\n",
      "        [8, 4],\n",
      "        [7, 6],\n",
      "        [4, 2],\n",
      "        [3, 3],\n",
      "        [0, 0],\n",
      "        [1, 7]])\n",
      "Accuracy: 22.22%\n"
     ]
    },
    {
     "data": {
      "application/vnd.jupyter.widget-view+json": {
       "model_id": "dd1e111b8916496c94ede5751d300fca",
       "version_major": 2,
       "version_minor": 0
      },
      "text/plain": [
       "  0%|          | 0/5005 [00:00<?, ?it/s]"
      ]
     },
     "metadata": {},
     "output_type": "display_data"
    },
    {
     "name": "stdout",
     "output_type": "stream",
     "text": [
      "[Epoch 7] [Batch 100] Loss: 2.5952\n",
      "[Epoch 7] [Batch 200] Loss: 2.6011\n",
      "[Epoch 7] [Batch 300] Loss: 2.5703\n",
      "[Epoch 7] [Batch 400] Loss: 2.5753\n",
      "[Epoch 7] [Batch 500] Loss: 2.5752\n",
      "[Epoch 7] [Batch 600] Loss: 2.5319\n",
      "[Epoch 7] [Batch 700] Loss: 2.5551\n",
      "[Epoch 7] [Batch 800] Loss: 2.5236\n",
      "[Epoch 7] [Batch 900] Loss: 2.5366\n",
      "[Epoch 7] [Batch 1000] Loss: 2.5235\n",
      "[Epoch 7] [Batch 1100] Loss: 2.5152\n",
      "[Epoch 7] [Batch 1200] Loss: 2.5555\n",
      "[Epoch 7] [Batch 1300] Loss: 2.4794\n",
      "[Epoch 7] [Batch 1400] Loss: 2.4751\n",
      "[Epoch 7] [Batch 1500] Loss: 2.4901\n",
      "[Epoch 7] [Batch 1600] Loss: 2.5046\n",
      "[Epoch 7] [Batch 1700] Loss: 2.4894\n",
      "[Epoch 7] [Batch 1800] Loss: 2.4875\n",
      "[Epoch 7] [Batch 1900] Loss: 2.4645\n",
      "[Epoch 7] [Batch 2000] Loss: 2.4983\n",
      "[Epoch 7] [Batch 2100] Loss: 2.4442\n",
      "[Epoch 7] [Batch 2200] Loss: 2.4312\n",
      "[Epoch 7] [Batch 2300] Loss: 2.4475\n",
      "[Epoch 7] [Batch 2400] Loss: 2.4442\n",
      "[Epoch 7] [Batch 2500] Loss: 2.4066\n",
      "[Epoch 7] [Batch 2600] Loss: 2.4168\n",
      "[Epoch 7] [Batch 2700] Loss: 2.4365\n",
      "[Epoch 7] [Batch 2800] Loss: 2.4176\n",
      "[Epoch 7] [Batch 2900] Loss: 2.4007\n",
      "[Epoch 7] [Batch 3000] Loss: 2.4226\n",
      "[Epoch 7] [Batch 3100] Loss: 2.4000\n",
      "[Epoch 7] [Batch 3200] Loss: 2.3892\n",
      "[Epoch 7] [Batch 3300] Loss: 2.3997\n",
      "[Epoch 7] [Batch 3400] Loss: 2.3967\n",
      "[Epoch 7] [Batch 3500] Loss: 2.3902\n",
      "[Epoch 7] [Batch 3600] Loss: 2.3715\n",
      "[Epoch 7] [Batch 3700] Loss: 2.3652\n",
      "[Epoch 7] [Batch 3800] Loss: 2.3520\n",
      "[Epoch 7] [Batch 3900] Loss: 2.3411\n",
      "[Epoch 7] [Batch 4000] Loss: 2.3251\n",
      "[Epoch 7] [Batch 4100] Loss: 2.3444\n",
      "[Epoch 7] [Batch 4200] Loss: 2.3379\n",
      "[Epoch 7] [Batch 4300] Loss: 2.3355\n",
      "[Epoch 7] [Batch 4400] Loss: 2.3088\n",
      "[Epoch 7] [Batch 4500] Loss: 2.3140\n",
      "[Epoch 7] [Batch 4600] Loss: 2.2978\n",
      "[Epoch 7] [Batch 4700] Loss: 2.2996\n",
      "[Epoch 7] [Batch 4800] Loss: 2.3110\n",
      "[Epoch 7] [Batch 4900] Loss: 2.2879\n",
      "[Epoch 7] [Batch 5000] Loss: 2.2923\n",
      "****** Model checkpoint saved at epochs 7 ******\n"
     ]
    },
    {
     "data": {
      "image/png": "[encoded data removed]",
      "text/plain": [
       "<Figure size 432x288 with 1 Axes>"
      ]
     },
     "metadata": {
      "needs_background": "light"
     },
     "output_type": "display_data"
    },
    {
     "data": {
      "application/vnd.jupyter.widget-view+json": {
       "model_id": "2d7a459e7d4e470581d645e758473a5b",
       "version_major": 2,
       "version_minor": 0
      },
      "text/plain": [
       "  0%|          | 0/51 [00:00<?, ?it/s]"
      ]
     },
     "metadata": {},
     "output_type": "display_data"
    },
    {
     "name": "stdout",
     "output_type": "stream",
     "text": [
      "[Epoch 7] Accuracy on the test set: 55.36%\n",
      "[Sample result]\n",
      "tensor([[1, 1],\n",
      "        [5, 5],\n",
      "        [8, 8],\n",
      "        [4, 4],\n",
      "        [6, 6],\n",
      "        [2, 2],\n",
      "        [3, 3],\n",
      "        [0, 0],\n",
      "        [7, 7]])\n",
      "Accuracy: 100.00%\n"
     ]
    },
    {
     "data": {
      "application/vnd.jupyter.widget-view+json": {
       "model_id": "ad44a1e4f0014610af8728dee53be0e2",
       "version_major": 2,
       "version_minor": 0
      },
      "text/plain": [
       "  0%|          | 0/5005 [00:00<?, ?it/s]"
      ]
     },
     "metadata": {},
     "output_type": "display_data"
    },
    {
     "name": "stdout",
     "output_type": "stream",
     "text": [
      "[Epoch 8] [Batch 100] Loss: 2.2661\n",
      "[Epoch 8] [Batch 200] Loss: 2.2547\n",
      "[Epoch 8] [Batch 300] Loss: 2.2676\n",
      "[Epoch 8] [Batch 400] Loss: 2.2448\n",
      "[Epoch 8] [Batch 500] Loss: 2.2472\n",
      "[Epoch 8] [Batch 600] Loss: 2.2316\n",
      "[Epoch 8] [Batch 700] Loss: 2.2378\n",
      "[Epoch 8] [Batch 800] Loss: 2.2293\n",
      "[Epoch 8] [Batch 900] Loss: 2.1988\n",
      "[Epoch 8] [Batch 1000] Loss: 2.1812\n",
      "[Epoch 8] [Batch 1100] Loss: 2.2043\n",
      "[Epoch 8] [Batch 1200] Loss: 2.2103\n",
      "[Epoch 8] [Batch 1300] Loss: 2.1971\n",
      "[Epoch 8] [Batch 1400] Loss: 2.1929\n",
      "[Epoch 8] [Batch 1500] Loss: 2.1742\n",
      "[Epoch 8] [Batch 1600] Loss: 2.2042\n",
      "[Epoch 8] [Batch 1700] Loss: 2.1584\n",
      "[Epoch 8] [Batch 1800] Loss: 2.1711\n",
      "[Epoch 8] [Batch 1900] Loss: 2.1581\n",
      "[Epoch 8] [Batch 2000] Loss: 2.1517\n",
      "[Epoch 8] [Batch 2100] Loss: 2.1656\n",
      "[Epoch 8] [Batch 2200] Loss: 2.1591\n",
      "[Epoch 8] [Batch 2300] Loss: 2.1622\n",
      "[Epoch 8] [Batch 2400] Loss: 2.1429\n",
      "[Epoch 8] [Batch 2500] Loss: 2.1325\n",
      "[Epoch 8] [Batch 2600] Loss: 2.1551\n",
      "[Epoch 8] [Batch 2700] Loss: 2.1193\n",
      "[Epoch 8] [Batch 2800] Loss: 2.1300\n",
      "[Epoch 8] [Batch 2900] Loss: 2.1295\n",
      "[Epoch 8] [Batch 3000] Loss: 2.1449\n",
      "[Epoch 8] [Batch 3100] Loss: 2.1495\n",
      "[Epoch 8] [Batch 3200] Loss: 2.0936\n",
      "[Epoch 8] [Batch 3300] Loss: 2.1007\n",
      "[Epoch 8] [Batch 3400] Loss: 2.1058\n",
      "[Epoch 8] [Batch 3500] Loss: 2.1144\n",
      "[Epoch 8] [Batch 3600] Loss: 2.1094\n",
      "[Epoch 8] [Batch 3700] Loss: 2.0968\n",
      "[Epoch 8] [Batch 3800] Loss: 2.1101\n",
      "[Epoch 8] [Batch 3900] Loss: 2.1011\n",
      "[Epoch 8] [Batch 4000] Loss: 2.1097\n",
      "[Epoch 8] [Batch 4100] Loss: 2.0734\n",
      "[Epoch 8] [Batch 4200] Loss: 2.0701\n",
      "[Epoch 8] [Batch 4300] Loss: 2.0703\n",
      "[Epoch 8] [Batch 4400] Loss: 2.0650\n",
      "[Epoch 8] [Batch 4500] Loss: 2.0629\n",
      "[Epoch 8] [Batch 4600] Loss: 2.0516\n",
      "[Epoch 8] [Batch 4700] Loss: 2.0658\n",
      "[Epoch 8] [Batch 4800] Loss: 2.0930\n",
      "[Epoch 8] [Batch 4900] Loss: 2.0517\n",
      "[Epoch 8] [Batch 5000] Loss: 2.0446\n",
      "****** Model checkpoint saved at epochs 8 ******\n"
     ]
    },
    {
     "data": {
      "image/png": "[encoded data removed]",
      "text/plain": [
       "<Figure size 432x288 with 1 Axes>"
      ]
     },
     "metadata": {
      "needs_background": "light"
     },
     "output_type": "display_data"
    },
    {
     "data": {
      "application/vnd.jupyter.widget-view+json": {
       "model_id": "5afdd9eacab64412879fb94b4b66b175",
       "version_major": 2,
       "version_minor": 0
      },
      "text/plain": [
       "  0%|          | 0/51 [00:00<?, ?it/s]"
      ]
     },
     "metadata": {},
     "output_type": "display_data"
    },
    {
     "name": "stdout",
     "output_type": "stream",
     "text": [
      "[Epoch 8] Accuracy on the test set: 59.79%\n",
      "[Sample result]\n",
      "tensor([[5, 1],\n",
      "        [7, 5],\n",
      "        [6, 8],\n",
      "        [4, 4],\n",
      "        [1, 6],\n",
      "        [2, 2],\n",
      "        [3, 3],\n",
      "        [0, 0],\n",
      "        [8, 7]])\n",
      "Accuracy: 44.44%\n"
     ]
    },
    {
     "data": {
      "application/vnd.jupyter.widget-view+json": {
       "model_id": "4f97109771fd4b9c9a590bc86174c983",
       "version_major": 2,
       "version_minor": 0
      },
      "text/plain": [
       "  0%|          | 0/5005 [00:00<?, ?it/s]"
      ]
     },
     "metadata": {},
     "output_type": "display_data"
    },
    {
     "name": "stdout",
     "output_type": "stream",
     "text": [
      "[Epoch 9] [Batch 100] Loss: 2.0127\n",
      "[Epoch 9] [Batch 200] Loss: 2.0105\n",
      "[Epoch 9] [Batch 300] Loss: 2.0281\n",
      "[Epoch 9] [Batch 400] Loss: 2.0323\n",
      "[Epoch 9] [Batch 500] Loss: 1.9913\n",
      "[Epoch 9] [Batch 600] Loss: 2.0027\n",
      "[Epoch 9] [Batch 700] Loss: 1.9804\n",
      "[Epoch 9] [Batch 800] Loss: 2.0161\n",
      "[Epoch 9] [Batch 900] Loss: 1.9962\n",
      "[Epoch 9] [Batch 1000] Loss: 1.9983\n",
      "[Epoch 9] [Batch 1100] Loss: 1.9842\n",
      "[Epoch 9] [Batch 1200] Loss: 1.9794\n",
      "[Epoch 9] [Batch 1300] Loss: 2.0209\n",
      "[Epoch 9] [Batch 1400] Loss: 2.0034\n",
      "[Epoch 9] [Batch 1500] Loss: 1.9858\n",
      "[Epoch 9] [Batch 1600] Loss: 1.9695\n",
      "[Epoch 9] [Batch 1700] Loss: 1.9736\n",
      "[Epoch 9] [Batch 1800] Loss: 1.9455\n",
      "[Epoch 9] [Batch 1900] Loss: 1.9547\n",
      "[Epoch 9] [Batch 2000] Loss: 1.9676\n",
      "[Epoch 9] [Batch 2100] Loss: 1.9583\n",
      "[Epoch 9] [Batch 2200] Loss: 1.9524\n",
      "[Epoch 9] [Batch 2300] Loss: 1.9374\n",
      "[Epoch 9] [Batch 2400] Loss: 1.9485\n",
      "[Epoch 9] [Batch 2500] Loss: 1.9547\n",
      "[Epoch 9] [Batch 2600] Loss: 1.9413\n",
      "[Epoch 9] [Batch 2700] Loss: 1.9381\n",
      "[Epoch 9] [Batch 2800] Loss: 1.9434\n",
      "[Epoch 9] [Batch 2900] Loss: 1.9376\n",
      "[Epoch 9] [Batch 3000] Loss: 1.9465\n",
      "[Epoch 9] [Batch 3100] Loss: 1.9334\n",
      "[Epoch 9] [Batch 3200] Loss: 1.9224\n",
      "[Epoch 9] [Batch 3300] Loss: 1.9087\n",
      "[Epoch 9] [Batch 3400] Loss: 1.9156\n",
      "[Epoch 9] [Batch 3500] Loss: 1.9208\n",
      "[Epoch 9] [Batch 3600] Loss: 1.9222\n",
      "[Epoch 9] [Batch 3700] Loss: 1.9431\n",
      "[Epoch 9] [Batch 3800] Loss: 1.8955\n",
      "[Epoch 9] [Batch 3900] Loss: 1.8805\n",
      "[Epoch 9] [Batch 4000] Loss: 1.9094\n",
      "[Epoch 9] [Batch 4100] Loss: 1.8953\n",
      "[Epoch 9] [Batch 4200] Loss: 1.8844\n",
      "[Epoch 9] [Batch 4300] Loss: 1.8920\n",
      "[Epoch 9] [Batch 4400] Loss: 1.9106\n",
      "[Epoch 9] [Batch 4500] Loss: 1.9009\n",
      "[Epoch 9] [Batch 4600] Loss: 1.8734\n",
      "[Epoch 9] [Batch 4700] Loss: 1.8887\n",
      "[Epoch 9] [Batch 4800] Loss: 1.9069\n",
      "[Epoch 9] [Batch 4900] Loss: 1.8735\n",
      "[Epoch 9] [Batch 5000] Loss: 1.8780\n",
      "****** Model checkpoint saved at epochs 9 ******\n"
     ]
    },
    {
     "data": {
      "image/png": "[encoded data removed]",
      "text/plain": [
       "<Figure size 432x288 with 1 Axes>"
      ]
     },
     "metadata": {
      "needs_background": "light"
     },
     "output_type": "display_data"
    },
    {
     "data": {
      "application/vnd.jupyter.widget-view+json": {
       "model_id": "6d28d21728974912b470f9ebd8234d08",
       "version_major": 2,
       "version_minor": 0
      },
      "text/plain": [
       "  0%|          | 0/51 [00:00<?, ?it/s]"
      ]
     },
     "metadata": {},
     "output_type": "display_data"
    },
    {
     "name": "stdout",
     "output_type": "stream",
     "text": [
      "[Epoch 9] Accuracy on the test set: 62.17%\n",
      "[Sample result]\n",
      "tensor([[4, 1],\n",
      "        [2, 5],\n",
      "        [5, 8],\n",
      "        [1, 4],\n",
      "        [6, 6],\n",
      "        [8, 2],\n",
      "        [7, 3],\n",
      "        [3, 0],\n",
      "        [0, 7]])\n",
      "Accuracy: 11.11%\n"
     ]
    },
    {
     "data": {
      "application/vnd.jupyter.widget-view+json": {
       "model_id": "1a669f8a207c49258031dde9a19a7c53",
       "version_major": 2,
       "version_minor": 0
      },
      "text/plain": [
       "  0%|          | 0/5005 [00:00<?, ?it/s]"
      ]
     },
     "metadata": {},
     "output_type": "display_data"
    },
    {
     "name": "stdout",
     "output_type": "stream",
     "text": [
      "[Epoch 10] [Batch 100] Loss: 1.8519\n",
      "[Epoch 10] [Batch 200] Loss: 1.8540\n",
      "[Epoch 10] [Batch 300] Loss: 1.8436\n",
      "[Epoch 10] [Batch 400] Loss: 1.8443\n",
      "[Epoch 10] [Batch 500] Loss: 1.8481\n",
      "[Epoch 10] [Batch 600] Loss: 1.8464\n",
      "[Epoch 10] [Batch 700] Loss: 1.8440\n",
      "[Epoch 10] [Batch 800] Loss: 1.8343\n",
      "[Epoch 10] [Batch 900] Loss: 1.8497\n",
      "[Epoch 10] [Batch 1000] Loss: 1.8057\n",
      "[Epoch 10] [Batch 1100] Loss: 1.8199\n",
      "[Epoch 10] [Batch 1200] Loss: 1.8190\n",
      "[Epoch 10] [Batch 1300] Loss: 1.7959\n",
      "[Epoch 10] [Batch 1400] Loss: 1.8207\n",
      "[Epoch 10] [Batch 1500] Loss: 1.8366\n",
      "[Epoch 10] [Batch 1600] Loss: 1.8346\n",
      "[Epoch 10] [Batch 1700] Loss: 1.8193\n",
      "[Epoch 10] [Batch 1800] Loss: 1.8035\n",
      "[Epoch 10] [Batch 1900] Loss: 1.8203\n",
      "[Epoch 10] [Batch 2000] Loss: 1.7893\n",
      "[Epoch 10] [Batch 2100] Loss: 1.8123\n",
      "[Epoch 10] [Batch 2200] Loss: 1.8152\n",
      "[Epoch 10] [Batch 2300] Loss: 1.8126\n",
      "[Epoch 10] [Batch 2400] Loss: 1.7868\n",
      "[Epoch 10] [Batch 2500] Loss: 1.7539\n",
      "[Epoch 10] [Batch 2600] Loss: 1.7862\n",
      "[Epoch 10] [Batch 2700] Loss: 1.7960\n",
      "[Epoch 10] [Batch 2800] Loss: 1.7690\n",
      "[Epoch 10] [Batch 2900] Loss: 1.7859\n",
      "[Epoch 10] [Batch 3000] Loss: 1.7803\n",
      "[Epoch 10] [Batch 3100] Loss: 1.7759\n",
      "[Epoch 10] [Batch 3200] Loss: 1.7910\n",
      "[Epoch 10] [Batch 3300] Loss: 1.7477\n",
      "[Epoch 10] [Batch 3400] Loss: 1.7829\n",
      "[Epoch 10] [Batch 3500] Loss: 1.7538\n",
      "[Epoch 10] [Batch 3600] Loss: 1.7705\n",
      "[Epoch 10] [Batch 3700] Loss: 1.7475\n",
      "[Epoch 10] [Batch 3800] Loss: 1.7774\n",
      "[Epoch 10] [Batch 3900] Loss: 1.7716\n",
      "[Epoch 10] [Batch 4000] Loss: 1.7688\n",
      "[Epoch 10] [Batch 4100] Loss: 1.7686\n",
      "[Epoch 10] [Batch 4200] Loss: 1.7967\n",
      "[Epoch 10] [Batch 4300] Loss: 1.7568\n",
      "[Epoch 10] [Batch 4400] Loss: 1.7292\n",
      "[Epoch 10] [Batch 4500] Loss: 1.7512\n",
      "[Epoch 10] [Batch 4600] Loss: 1.7231\n",
      "[Epoch 10] [Batch 4700] Loss: 1.7522\n",
      "[Epoch 10] [Batch 4800] Loss: 1.7508\n",
      "[Epoch 10] [Batch 4900] Loss: 1.7622\n",
      "[Epoch 10] [Batch 5000] Loss: 1.7502\n",
      "****** Model checkpoint saved at epochs 10 ******\n"
     ]
    },
    {
     "data": {
      "image/png": "[encoded data removed]",
      "text/plain": [
       "<Figure size 432x288 with 1 Axes>"
      ]
     },
     "metadata": {
      "needs_background": "light"
     },
     "output_type": "display_data"
    },
    {
     "data": {
      "application/vnd.jupyter.widget-view+json": {
       "model_id": "393223434ca4498684ca219bc559c31f",
       "version_major": 2,
       "version_minor": 0
      },
      "text/plain": [
       "  0%|          | 0/51 [00:00<?, ?it/s]"
      ]
     },
     "metadata": {},
     "output_type": "display_data"
    },
    {
     "name": "stdout",
     "output_type": "stream",
     "text": [
      "[Epoch 10] Accuracy on the test set: 64.78%\n",
      "[Sample result]\n",
      "tensor([[1, 1],\n",
      "        [5, 5],\n",
      "        [8, 8],\n",
      "        [4, 4],\n",
      "        [6, 6],\n",
      "        [2, 2],\n",
      "        [3, 3],\n",
      "        [0, 0],\n",
      "        [7, 7]])\n",
      "Accuracy: 100.00%\n"
     ]
    },
    {
     "data": {
      "application/vnd.jupyter.widget-view+json": {
       "model_id": "65c8837ef4b44d629a31d04e05df8315",
       "version_major": 2,
       "version_minor": 0
      },
      "text/plain": [
       "  0%|          | 0/5005 [00:00<?, ?it/s]"
      ]
     },
     "metadata": {},
     "output_type": "display_data"
    },
    {
     "name": "stdout",
     "output_type": "stream",
     "text": [
      "[Epoch 11] [Batch 100] Loss: 1.7162\n",
      "[Epoch 11] [Batch 200] Loss: 1.7023\n",
      "[Epoch 11] [Batch 300] Loss: 1.7298\n",
      "[Epoch 11] [Batch 400] Loss: 1.6784\n",
      "[Epoch 11] [Batch 500] Loss: 1.7034\n",
      "[Epoch 11] [Batch 600] Loss: 1.7024\n",
      "[Epoch 11] [Batch 700] Loss: 1.7136\n",
      "[Epoch 11] [Batch 800] Loss: 1.6817\n",
      "[Epoch 11] [Batch 900] Loss: 1.7089\n",
      "[Epoch 11] [Batch 1000] Loss: 1.6769\n",
      "[Epoch 11] [Batch 1100] Loss: 1.6737\n",
      "[Epoch 11] [Batch 1200] Loss: 1.7058\n",
      "[Epoch 11] [Batch 1300] Loss: 1.7119\n",
      "[Epoch 11] [Batch 1400] Loss: 1.6812\n",
      "[Epoch 11] [Batch 1500] Loss: 1.6772\n",
      "[Epoch 11] [Batch 1600] Loss: 1.6750\n",
      "[Epoch 11] [Batch 1700] Loss: 1.6922\n",
      "[Epoch 11] [Batch 1800] Loss: 1.6921\n",
      "[Epoch 11] [Batch 1900] Loss: 1.6988\n",
      "[Epoch 11] [Batch 2000] Loss: 1.6765\n",
      "[Epoch 11] [Batch 2100] Loss: 1.6888\n",
      "[Epoch 11] [Batch 2200] Loss: 1.6710\n",
      "[Epoch 11] [Batch 2300] Loss: 1.6439\n",
      "[Epoch 11] [Batch 2400] Loss: 1.6463\n",
      "[Epoch 11] [Batch 2500] Loss: 1.6674\n",
      "[Epoch 11] [Batch 2600] Loss: 1.6643\n",
      "[Epoch 11] [Batch 2700] Loss: 1.6491\n",
      "[Epoch 11] [Batch 2800] Loss: 1.6706\n",
      "[Epoch 11] [Batch 2900] Loss: 1.6884\n",
      "[Epoch 11] [Batch 3000] Loss: 1.6740\n",
      "[Epoch 11] [Batch 3100] Loss: 1.6691\n",
      "[Epoch 11] [Batch 3200] Loss: 1.6503\n",
      "[Epoch 11] [Batch 3300] Loss: 1.6752\n",
      "[Epoch 11] [Batch 3400] Loss: 1.6300\n",
      "[Epoch 11] [Batch 3500] Loss: 1.6690\n",
      "[Epoch 11] [Batch 3600] Loss: 1.6727\n",
      "[Epoch 11] [Batch 3700] Loss: 1.6480\n",
      "[Epoch 11] [Batch 3800] Loss: 1.6774\n",
      "[Epoch 11] [Batch 3900] Loss: 1.6476\n",
      "[Epoch 11] [Batch 4000] Loss: 1.6557\n",
      "[Epoch 11] [Batch 4100] Loss: 1.6282\n",
      "[Epoch 11] [Batch 4200] Loss: 1.6300\n",
      "[Epoch 11] [Batch 4300] Loss: 1.6291\n",
      "[Epoch 11] [Batch 4400] Loss: 1.6606\n",
      "[Epoch 11] [Batch 4500] Loss: 1.6602\n",
      "[Epoch 11] [Batch 4600] Loss: 1.6258\n",
      "[Epoch 11] [Batch 4700] Loss: 1.6353\n",
      "[Epoch 11] [Batch 4800] Loss: 1.6436\n",
      "[Epoch 11] [Batch 4900] Loss: 1.6511\n",
      "[Epoch 11] [Batch 5000] Loss: 1.6031\n",
      "****** Model checkpoint saved at epochs 11 ******\n"
     ]
    },
    {
     "data": {
      "image/png": "[encoded data removed]",
      "text/plain": [
       "<Figure size 432x288 with 1 Axes>"
      ]
     },
     "metadata": {
      "needs_background": "light"
     },
     "output_type": "display_data"
    },
    {
     "data": {
      "application/vnd.jupyter.widget-view+json": {
       "model_id": "d1a1dfef5c724d0884bf7b2a82a584ee",
       "version_major": 2,
       "version_minor": 0
      },
      "text/plain": [
       "  0%|          | 0/51 [00:00<?, ?it/s]"
      ]
     },
     "metadata": {},
     "output_type": "display_data"
    },
    {
     "name": "stdout",
     "output_type": "stream",
     "text": [
      "[Epoch 11] Accuracy on the test set: 66.13%\n",
      "[Sample result]\n",
      "tensor([[1, 1],\n",
      "        [5, 5],\n",
      "        [8, 8],\n",
      "        [4, 4],\n",
      "        [6, 6],\n",
      "        [2, 2],\n",
      "        [3, 3],\n",
      "        [0, 0],\n",
      "        [7, 7]])\n",
      "Accuracy: 100.00%\n"
     ]
    },
    {
     "data": {
      "application/vnd.jupyter.widget-view+json": {
       "model_id": "8736bd57e9404646916016a39cff1f7c",
       "version_major": 2,
       "version_minor": 0
      },
      "text/plain": [
       "  0%|          | 0/5005 [00:00<?, ?it/s]"
      ]
     },
     "metadata": {},
     "output_type": "display_data"
    },
    {
     "name": "stdout",
     "output_type": "stream",
     "text": [
      "[Epoch 12] [Batch 100] Loss: 1.5955\n",
      "[Epoch 12] [Batch 200] Loss: 1.5999\n",
      "[Epoch 12] [Batch 300] Loss: 1.6048\n",
      "[Epoch 12] [Batch 400] Loss: 1.6137\n",
      "[Epoch 12] [Batch 500] Loss: 1.6013\n",
      "[Epoch 12] [Batch 600] Loss: 1.5955\n",
      "[Epoch 12] [Batch 700] Loss: 1.6260\n",
      "[Epoch 12] [Batch 800] Loss: 1.5810\n",
      "[Epoch 12] [Batch 900] Loss: 1.6008\n",
      "[Epoch 12] [Batch 1000] Loss: 1.5984\n",
      "[Epoch 12] [Batch 1100] Loss: 1.5726\n",
      "[Epoch 12] [Batch 1200] Loss: 1.6066\n",
      "[Epoch 12] [Batch 1300] Loss: 1.5888\n",
      "[Epoch 12] [Batch 1400] Loss: 1.5535\n",
      "[Epoch 12] [Batch 1500] Loss: 1.5729\n",
      "[Epoch 12] [Batch 1600] Loss: 1.5690\n",
      "[Epoch 12] [Batch 1700] Loss: 1.6003\n",
      "[Epoch 12] [Batch 1800] Loss: 1.5774\n",
      "[Epoch 12] [Batch 1900] Loss: 1.5835\n",
      "[Epoch 12] [Batch 2000] Loss: 1.5657\n",
      "[Epoch 12] [Batch 2100] Loss: 1.5744\n",
      "[Epoch 12] [Batch 2200] Loss: 1.5781\n",
      "[Epoch 12] [Batch 2300] Loss: 1.5880\n",
      "[Epoch 12] [Batch 2400] Loss: 1.5710\n",
      "[Epoch 12] [Batch 2500] Loss: 1.5685\n",
      "[Epoch 12] [Batch 2600] Loss: 1.5844\n",
      "[Epoch 12] [Batch 2700] Loss: 1.5853\n",
      "[Epoch 12] [Batch 2800] Loss: 1.5670\n",
      "[Epoch 12] [Batch 2900] Loss: 1.5725\n",
      "[Epoch 12] [Batch 3000] Loss: 1.5875\n",
      "[Epoch 12] [Batch 3100] Loss: 1.5722\n",
      "[Epoch 12] [Batch 3200] Loss: 1.5486\n",
      "[Epoch 12] [Batch 3300] Loss: 1.5531\n",
      "[Epoch 12] [Batch 3400] Loss: 1.5454\n",
      "[Epoch 12] [Batch 3500] Loss: 1.5473\n",
      "[Epoch 12] [Batch 3600] Loss: 1.5564\n",
      "[Epoch 12] [Batch 3700] Loss: 1.5428\n",
      "[Epoch 12] [Batch 3800] Loss: 1.5526\n",
      "[Epoch 12] [Batch 3900] Loss: 1.5503\n",
      "[Epoch 12] [Batch 4000] Loss: 1.5497\n",
      "[Epoch 12] [Batch 4100] Loss: 1.5402\n",
      "[Epoch 12] [Batch 4200] Loss: 1.5636\n",
      "[Epoch 12] [Batch 4300] Loss: 1.5443\n",
      "[Epoch 12] [Batch 4400] Loss: 1.5441\n",
      "[Epoch 12] [Batch 4500] Loss: 1.5574\n",
      "[Epoch 12] [Batch 4600] Loss: 1.5499\n",
      "[Epoch 12] [Batch 4700] Loss: 1.5470\n",
      "[Epoch 12] [Batch 4800] Loss: 1.5358\n",
      "[Epoch 12] [Batch 4900] Loss: 1.5721\n",
      "[Epoch 12] [Batch 5000] Loss: 1.5348\n",
      "****** Model checkpoint saved at epochs 12 ******\n"
     ]
    },
    {
     "data": {
      "image/png": "[encoded data removed]",
      "text/plain": [
       "<Figure size 432x288 with 1 Axes>"
      ]
     },
     "metadata": {
      "needs_background": "light"
     },
     "output_type": "display_data"
    },
    {
     "data": {
      "application/vnd.jupyter.widget-view+json": {
       "model_id": "1bd31060c7504502a6640d70ba64b508",
       "version_major": 2,
       "version_minor": 0
      },
      "text/plain": [
       "  0%|          | 0/51 [00:00<?, ?it/s]"
      ]
     },
     "metadata": {},
     "output_type": "display_data"
    },
    {
     "name": "stdout",
     "output_type": "stream",
     "text": [
      "[Epoch 12] Accuracy on the test set: 67.91%\n",
      "[Sample result]\n",
      "tensor([[1, 1],\n",
      "        [5, 5],\n",
      "        [8, 8],\n",
      "        [4, 4],\n",
      "        [6, 6],\n",
      "        [2, 2],\n",
      "        [3, 3],\n",
      "        [0, 0],\n",
      "        [7, 7]])\n",
      "Accuracy: 100.00%\n"
     ]
    },
    {
     "data": {
      "application/vnd.jupyter.widget-view+json": {
       "model_id": "12ff805f47b8476ea9b9ce97d6f837c9",
       "version_major": 2,
       "version_minor": 0
      },
      "text/plain": [
       "  0%|          | 0/5005 [00:00<?, ?it/s]"
      ]
     },
     "metadata": {},
     "output_type": "display_data"
    },
    {
     "name": "stdout",
     "output_type": "stream",
     "text": [
      "[Epoch 13] [Batch 100] Loss: 1.5437\n",
      "[Epoch 13] [Batch 200] Loss: 1.5065\n",
      "[Epoch 13] [Batch 300] Loss: 1.5258\n",
      "[Epoch 13] [Batch 400] Loss: 1.5301\n",
      "[Epoch 13] [Batch 500] Loss: 1.5278\n",
      "[Epoch 13] [Batch 600] Loss: 1.4850\n",
      "[Epoch 13] [Batch 700] Loss: 1.5188\n",
      "[Epoch 13] [Batch 800] Loss: 1.4984\n",
      "[Epoch 13] [Batch 900] Loss: 1.5113\n",
      "[Epoch 13] [Batch 1000] Loss: 1.5250\n",
      "[Epoch 13] [Batch 1100] Loss: 1.5048\n",
      "[Epoch 13] [Batch 1200] Loss: 1.5048\n",
      "[Epoch 13] [Batch 1300] Loss: 1.4863\n",
      "[Epoch 13] [Batch 1400] Loss: 1.5209\n",
      "[Epoch 13] [Batch 1500] Loss: 1.5093\n",
      "[Epoch 13] [Batch 1600] Loss: 1.4967\n",
      "[Epoch 13] [Batch 1700] Loss: 1.4828\n",
      "[Epoch 13] [Batch 1800] Loss: 1.4781\n",
      "[Epoch 13] [Batch 1900] Loss: 1.4889\n",
      "[Epoch 13] [Batch 2000] Loss: 1.4987\n",
      "[Epoch 13] [Batch 2100] Loss: 1.4977\n",
      "[Epoch 13] [Batch 2200] Loss: 1.5065\n",
      "[Epoch 13] [Batch 2300] Loss: 1.4724\n",
      "[Epoch 13] [Batch 2400] Loss: 1.5002\n",
      "[Epoch 13] [Batch 2500] Loss: 1.5040\n",
      "[Epoch 13] [Batch 2600] Loss: 1.4842\n",
      "[Epoch 13] [Batch 2700] Loss: 1.4935\n",
      "[Epoch 13] [Batch 2800] Loss: 1.4820\n",
      "[Epoch 13] [Batch 2900] Loss: 1.4872\n",
      "[Epoch 13] [Batch 3000] Loss: 1.4846\n",
      "[Epoch 13] [Batch 3100] Loss: 1.4693\n",
      "[Epoch 13] [Batch 3200] Loss: 1.4749\n",
      "[Epoch 13] [Batch 3300] Loss: 1.4867\n",
      "[Epoch 13] [Batch 3400] Loss: 1.4818\n",
      "[Epoch 13] [Batch 3500] Loss: 1.5011\n",
      "[Epoch 13] [Batch 3600] Loss: 1.4856\n",
      "[Epoch 13] [Batch 3700] Loss: 1.4734\n",
      "[Epoch 13] [Batch 3800] Loss: 1.4791\n",
      "[Epoch 13] [Batch 3900] Loss: 1.4743\n",
      "[Epoch 13] [Batch 4000] Loss: 1.4346\n",
      "[Epoch 13] [Batch 4100] Loss: 1.4686\n",
      "[Epoch 13] [Batch 4200] Loss: 1.4614\n",
      "[Epoch 13] [Batch 4300] Loss: 1.4751\n",
      "[Epoch 13] [Batch 4400] Loss: 1.4587\n",
      "[Epoch 13] [Batch 4500] Loss: 1.4745\n",
      "[Epoch 13] [Batch 4600] Loss: 1.4783\n",
      "[Epoch 13] [Batch 4700] Loss: 1.4776\n",
      "[Epoch 13] [Batch 4800] Loss: 1.5061\n",
      "[Epoch 13] [Batch 4900] Loss: 1.4619\n",
      "[Epoch 13] [Batch 5000] Loss: 1.4580\n",
      "****** Model checkpoint saved at epochs 13 ******\n"
     ]
    },
    {
     "data": {
      "image/png": "[encoded data removed]",
      "text/plain": [
       "<Figure size 432x288 with 1 Axes>"
      ]
     },
     "metadata": {
      "needs_background": "light"
     },
     "output_type": "display_data"
    },
    {
     "data": {
      "application/vnd.jupyter.widget-view+json": {
       "model_id": "3bd544d5893b4a7e98ebb60b541bd47e",
       "version_major": 2,
       "version_minor": 0
      },
      "text/plain": [
       "  0%|          | 0/51 [00:00<?, ?it/s]"
      ]
     },
     "metadata": {},
     "output_type": "display_data"
    },
    {
     "name": "stdout",
     "output_type": "stream",
     "text": [
      "[Epoch 13] Accuracy on the test set: 69.07%\n",
      "[Sample result]\n",
      "tensor([[1, 1],\n",
      "        [5, 5],\n",
      "        [8, 8],\n",
      "        [4, 4],\n",
      "        [6, 6],\n",
      "        [2, 2],\n",
      "        [3, 3],\n",
      "        [0, 0],\n",
      "        [7, 7]])\n",
      "Accuracy: 100.00%\n"
     ]
    },
    {
     "data": {
      "application/vnd.jupyter.widget-view+json": {
       "model_id": "cb8b1c0d9cf64dc4af5bb41a66c67261",
       "version_major": 2,
       "version_minor": 0
      },
      "text/plain": [
       "  0%|          | 0/5005 [00:00<?, ?it/s]"
      ]
     },
     "metadata": {},
     "output_type": "display_data"
    },
    {
     "name": "stdout",
     "output_type": "stream",
     "text": [
      "[Epoch 14] [Batch 100] Loss: 1.4499\n",
      "[Epoch 14] [Batch 200] Loss: 1.4771\n",
      "[Epoch 14] [Batch 300] Loss: 1.4499\n",
      "[Epoch 14] [Batch 400] Loss: 1.4741\n",
      "[Epoch 14] [Batch 500] Loss: 1.4287\n",
      "[Epoch 14] [Batch 600] Loss: 1.4600\n",
      "[Epoch 14] [Batch 700] Loss: 1.4321\n",
      "[Epoch 14] [Batch 800] Loss: 1.4472\n",
      "[Epoch 14] [Batch 900] Loss: 1.4387\n",
      "[Epoch 14] [Batch 1000] Loss: 1.4432\n",
      "[Epoch 14] [Batch 1100] Loss: 1.4259\n",
      "[Epoch 14] [Batch 1200] Loss: 1.4319\n",
      "[Epoch 14] [Batch 1300] Loss: 1.4216\n",
      "[Epoch 14] [Batch 1400] Loss: 1.4248\n",
      "[Epoch 14] [Batch 1500] Loss: 1.4262\n",
      "[Epoch 14] [Batch 1600] Loss: 1.4287\n",
      "[Epoch 14] [Batch 1700] Loss: 1.4419\n",
      "[Epoch 14] [Batch 1800] Loss: 1.4099\n",
      "[Epoch 14] [Batch 1900] Loss: 1.4286\n",
      "[Epoch 14] [Batch 2000] Loss: 1.4202\n",
      "[Epoch 14] [Batch 2100] Loss: 1.4070\n",
      "[Epoch 14] [Batch 2200] Loss: 1.4631\n",
      "[Epoch 14] [Batch 2300] Loss: 1.4204\n",
      "[Epoch 14] [Batch 2400] Loss: 1.4198\n",
      "[Epoch 14] [Batch 2500] Loss: 1.4152\n",
      "[Epoch 14] [Batch 2600] Loss: 1.4037\n",
      "[Epoch 14] [Batch 2700] Loss: 1.4268\n",
      "[Epoch 14] [Batch 2800] Loss: 1.4238\n",
      "[Epoch 14] [Batch 2900] Loss: 1.4243\n",
      "[Epoch 14] [Batch 3000] Loss: 1.4094\n",
      "[Epoch 14] [Batch 3100] Loss: 1.3952\n",
      "[Epoch 14] [Batch 3200] Loss: 1.4267\n",
      "[Epoch 14] [Batch 3300] Loss: 1.3943\n",
      "[Epoch 14] [Batch 3400] Loss: 1.4015\n",
      "[Epoch 14] [Batch 3500] Loss: 1.4161\n",
      "[Epoch 14] [Batch 3600] Loss: 1.4017\n",
      "[Epoch 14] [Batch 3700] Loss: 1.3886\n",
      "[Epoch 14] [Batch 3800] Loss: 1.4300\n",
      "[Epoch 14] [Batch 3900] Loss: 1.4060\n",
      "[Epoch 14] [Batch 4000] Loss: 1.3987\n",
      "[Epoch 14] [Batch 4100] Loss: 1.3843\n",
      "[Epoch 14] [Batch 4200] Loss: 1.3970\n",
      "[Epoch 14] [Batch 4300] Loss: 1.4267\n",
      "[Epoch 14] [Batch 4400] Loss: 1.4035\n",
      "[Epoch 14] [Batch 4500] Loss: 1.4006\n",
      "[Epoch 14] [Batch 4600] Loss: 1.4250\n",
      "[Epoch 14] [Batch 4700] Loss: 1.3961\n",
      "[Epoch 14] [Batch 4800] Loss: 1.4092\n",
      "[Epoch 14] [Batch 4900] Loss: 1.3935\n",
      "[Epoch 14] [Batch 5000] Loss: 1.4024\n",
      "****** Model checkpoint saved at epochs 14 ******\n"
     ]
    },
    {
     "data": {
      "image/png": "[encoded data removed]",
      "text/plain": [
       "<Figure size 432x288 with 1 Axes>"
      ]
     },
     "metadata": {
      "needs_background": "light"
     },
     "output_type": "display_data"
    },
    {
     "data": {
      "application/vnd.jupyter.widget-view+json": {
       "model_id": "7166c45650244232a9f7c510e23c5e62",
       "version_major": 2,
       "version_minor": 0
      },
      "text/plain": [
       "  0%|          | 0/51 [00:00<?, ?it/s]"
      ]
     },
     "metadata": {},
     "output_type": "display_data"
    },
    {
     "name": "stdout",
     "output_type": "stream",
     "text": [
      "[Epoch 14] Accuracy on the test set: 69.94%\n",
      "[Sample result]\n",
      "tensor([[1, 1],\n",
      "        [5, 5],\n",
      "        [8, 8],\n",
      "        [4, 4],\n",
      "        [6, 6],\n",
      "        [2, 2],\n",
      "        [3, 3],\n",
      "        [0, 0],\n",
      "        [7, 7]])\n",
      "Accuracy: 100.00%\n"
     ]
    },
    {
     "data": {
      "application/vnd.jupyter.widget-view+json": {
       "model_id": "d7b11530d9fc4b1b9447eeea9b307140",
       "version_major": 2,
       "version_minor": 0
      },
      "text/plain": [
       "  0%|          | 0/5005 [00:00<?, ?it/s]"
      ]
     },
     "metadata": {},
     "output_type": "display_data"
    },
    {
     "name": "stdout",
     "output_type": "stream",
     "text": [
      "[Epoch 15] [Batch 100] Loss: 1.3945\n",
      "[Epoch 15] [Batch 200] Loss: 1.4055\n",
      "[Epoch 15] [Batch 300] Loss: 1.3581\n",
      "[Epoch 15] [Batch 400] Loss: 1.3826\n",
      "[Epoch 15] [Batch 500] Loss: 1.3908\n",
      "[Epoch 15] [Batch 600] Loss: 1.4111\n",
      "[Epoch 15] [Batch 700] Loss: 1.4004\n",
      "[Epoch 15] [Batch 800] Loss: 1.3867\n",
      "[Epoch 15] [Batch 900] Loss: 1.3595\n",
      "[Epoch 15] [Batch 1000] Loss: 1.3863\n",
      "[Epoch 15] [Batch 1100] Loss: 1.3655\n",
      "[Epoch 15] [Batch 1200] Loss: 1.3583\n",
      "[Epoch 15] [Batch 1300] Loss: 1.4116\n",
      "[Epoch 15] [Batch 1400] Loss: 1.3746\n",
      "[Epoch 15] [Batch 1500] Loss: 1.3647\n",
      "[Epoch 15] [Batch 1600] Loss: 1.3649\n",
      "[Epoch 15] [Batch 1700] Loss: 1.3714\n",
      "[Epoch 15] [Batch 1800] Loss: 1.3658\n",
      "[Epoch 15] [Batch 1900] Loss: 1.3527\n",
      "[Epoch 15] [Batch 2000] Loss: 1.3708\n",
      "[Epoch 15] [Batch 2100] Loss: 1.3721\n",
      "[Epoch 15] [Batch 2200] Loss: 1.3590\n",
      "[Epoch 15] [Batch 2300] Loss: 1.3784\n",
      "[Epoch 15] [Batch 2400] Loss: 1.3720\n",
      "[Epoch 15] [Batch 2500] Loss: 1.3695\n",
      "[Epoch 15] [Batch 2600] Loss: 1.3530\n",
      "[Epoch 15] [Batch 2700] Loss: 1.3441\n",
      "[Epoch 15] [Batch 2800] Loss: 1.3703\n",
      "[Epoch 15] [Batch 2900] Loss: 1.3440\n",
      "[Epoch 15] [Batch 3000] Loss: 1.3555\n",
      "[Epoch 15] [Batch 3100] Loss: 1.3653\n",
      "[Epoch 15] [Batch 3200] Loss: 1.3649\n",
      "[Epoch 15] [Batch 3300] Loss: 1.3659\n",
      "[Epoch 15] [Batch 3400] Loss: 1.3678\n",
      "[Epoch 15] [Batch 3500] Loss: 1.3680\n",
      "[Epoch 15] [Batch 3600] Loss: 1.3609\n",
      "[Epoch 15] [Batch 3700] Loss: 1.3485\n",
      "[Epoch 15] [Batch 3800] Loss: 1.3623\n",
      "[Epoch 15] [Batch 3900] Loss: 1.3531\n",
      "[Epoch 15] [Batch 4000] Loss: 1.3591\n",
      "[Epoch 15] [Batch 4100] Loss: 1.3655\n",
      "[Epoch 15] [Batch 4200] Loss: 1.3792\n",
      "[Epoch 15] [Batch 4300] Loss: 1.3483\n",
      "[Epoch 15] [Batch 4400] Loss: 1.3526\n",
      "[Epoch 15] [Batch 4500] Loss: 1.3574\n",
      "[Epoch 15] [Batch 4600] Loss: 1.3319\n",
      "[Epoch 15] [Batch 4700] Loss: 1.3591\n",
      "[Epoch 15] [Batch 4800] Loss: 1.3541\n",
      "[Epoch 15] [Batch 4900] Loss: 1.3606\n",
      "[Epoch 15] [Batch 5000] Loss: 1.3526\n",
      "****** Model checkpoint saved at epochs 15 ******\n"
     ]
    },
    {
     "data": {
      "image/png": "[encoded data removed]",
      "text/plain": [
       "<Figure size 432x288 with 1 Axes>"
      ]
     },
     "metadata": {
      "needs_background": "light"
     },
     "output_type": "display_data"
    },
    {
     "data": {
      "application/vnd.jupyter.widget-view+json": {
       "model_id": "8988cdba5947450aa80a7c659197ce4b",
       "version_major": 2,
       "version_minor": 0
      },
      "text/plain": [
       "  0%|          | 0/51 [00:00<?, ?it/s]"
      ]
     },
     "metadata": {},
     "output_type": "display_data"
    },
    {
     "name": "stdout",
     "output_type": "stream",
     "text": [
      "[Epoch 15] Accuracy on the test set: 70.91%\n",
      "[Sample result]\n",
      "tensor([[5, 1],\n",
      "        [8, 5],\n",
      "        [4, 8],\n",
      "        [2, 4],\n",
      "        [6, 6],\n",
      "        [1, 2],\n",
      "        [3, 3],\n",
      "        [0, 0],\n",
      "        [7, 7]])\n",
      "Accuracy: 44.44%\n"
     ]
    },
    {
     "data": {
      "application/vnd.jupyter.widget-view+json": {
       "model_id": "124c969a2c4e488cb61b5fad4523d479",
       "version_major": 2,
       "version_minor": 0
      },
      "text/plain": [
       "  0%|          | 0/5005 [00:00<?, ?it/s]"
      ]
     },
     "metadata": {},
     "output_type": "display_data"
    },
    {
     "name": "stdout",
     "output_type": "stream",
     "text": [
      "[Epoch 16] [Batch 100] Loss: 1.3381\n",
      "[Epoch 16] [Batch 200] Loss: 1.3460\n",
      "[Epoch 16] [Batch 300] Loss: 1.3214\n",
      "[Epoch 16] [Batch 400] Loss: 1.3272\n",
      "[Epoch 16] [Batch 500] Loss: 1.3145\n",
      "[Epoch 16] [Batch 600] Loss: 1.3464\n",
      "[Epoch 16] [Batch 700] Loss: 1.3163\n",
      "[Epoch 16] [Batch 800] Loss: 1.3187\n",
      "[Epoch 16] [Batch 900] Loss: 1.3337\n",
      "[Epoch 16] [Batch 1000] Loss: 1.3419\n",
      "[Epoch 16] [Batch 1100] Loss: 1.3324\n",
      "[Epoch 16] [Batch 1200] Loss: 1.3290\n",
      "[Epoch 16] [Batch 1300] Loss: 1.3046\n",
      "[Epoch 16] [Batch 1400] Loss: 1.3311\n",
      "[Epoch 16] [Batch 1500] Loss: 1.3465\n",
      "[Epoch 16] [Batch 1600] Loss: 1.3372\n",
      "[Epoch 16] [Batch 1700] Loss: 1.3157\n",
      "[Epoch 16] [Batch 1800] Loss: 1.3581\n",
      "[Epoch 16] [Batch 1900] Loss: 1.3197\n",
      "[Epoch 16] [Batch 2000] Loss: 1.3432\n",
      "[Epoch 16] [Batch 2100] Loss: 1.3247\n",
      "[Epoch 16] [Batch 2200] Loss: 1.3234\n",
      "[Epoch 16] [Batch 2300] Loss: 1.3255\n",
      "[Epoch 16] [Batch 2400] Loss: 1.3325\n",
      "[Epoch 16] [Batch 2500] Loss: 1.3168\n",
      "[Epoch 16] [Batch 2600] Loss: 1.3362\n",
      "[Epoch 16] [Batch 2700] Loss: 1.3392\n",
      "[Epoch 16] [Batch 2800] Loss: 1.3199\n",
      "[Epoch 16] [Batch 2900] Loss: 1.3398\n",
      "[Epoch 16] [Batch 3000] Loss: 1.3012\n",
      "[Epoch 16] [Batch 3100] Loss: 1.3267\n",
      "[Epoch 16] [Batch 3200] Loss: 1.3244\n",
      "[Epoch 16] [Batch 3300] Loss: 1.3103\n",
      "[Epoch 16] [Batch 3400] Loss: 1.3312\n",
      "[Epoch 16] [Batch 3500] Loss: 1.3283\n",
      "[Epoch 16] [Batch 3600] Loss: 1.3028\n",
      "[Epoch 16] [Batch 3700] Loss: 1.3175\n",
      "[Epoch 16] [Batch 3800] Loss: 1.3221\n",
      "[Epoch 16] [Batch 3900] Loss: 1.3031\n",
      "[Epoch 16] [Batch 4000] Loss: 1.3058\n",
      "[Epoch 16] [Batch 4100] Loss: 1.3120\n",
      "[Epoch 16] [Batch 4200] Loss: 1.3011\n",
      "[Epoch 16] [Batch 4300] Loss: 1.3002\n",
      "[Epoch 16] [Batch 4400] Loss: 1.3280\n",
      "[Epoch 16] [Batch 4500] Loss: 1.2924\n",
      "[Epoch 16] [Batch 4600] Loss: 1.3260\n",
      "[Epoch 16] [Batch 4700] Loss: 1.2879\n",
      "[Epoch 16] [Batch 4800] Loss: 1.2927\n",
      "[Epoch 16] [Batch 4900] Loss: 1.3153\n",
      "[Epoch 16] [Batch 5000] Loss: 1.2980\n",
      "****** Model checkpoint saved at epochs 16 ******\n"
     ]
    },
    {
     "data": {
      "image/png": "[encoded data removed]",
      "text/plain": [
       "<Figure size 432x288 with 1 Axes>"
      ]
     },
     "metadata": {
      "needs_background": "light"
     },
     "output_type": "display_data"
    },
    {
     "data": {
      "application/vnd.jupyter.widget-view+json": {
       "model_id": "86ffa6b6807c4f79a0388d567695a2ab",
       "version_major": 2,
       "version_minor": 0
      },
      "text/plain": [
       "  0%|          | 0/51 [00:00<?, ?it/s]"
      ]
     },
     "metadata": {},
     "output_type": "display_data"
    },
    {
     "name": "stdout",
     "output_type": "stream",
     "text": [
      "[Epoch 16] Accuracy on the test set: 72.30%\n",
      "[Sample result]\n",
      "tensor([[1, 1],\n",
      "        [5, 5],\n",
      "        [8, 8],\n",
      "        [4, 4],\n",
      "        [6, 6],\n",
      "        [2, 2],\n",
      "        [3, 3],\n",
      "        [0, 0],\n",
      "        [7, 7]])\n",
      "Accuracy: 100.00%\n"
     ]
    },
    {
     "data": {
      "application/vnd.jupyter.widget-view+json": {
       "model_id": "fe90de87854a4b538f4820b011ddd936",
       "version_major": 2,
       "version_minor": 0
      },
      "text/plain": [
       "  0%|          | 0/5005 [00:00<?, ?it/s]"
      ]
     },
     "metadata": {},
     "output_type": "display_data"
    },
    {
     "name": "stdout",
     "output_type": "stream",
     "text": [
      "[Epoch 17] [Batch 100] Loss: 1.2923\n",
      "[Epoch 17] [Batch 200] Loss: 1.3004\n",
      "[Epoch 17] [Batch 300] Loss: 1.3048\n",
      "[Epoch 17] [Batch 400] Loss: 1.2798\n",
      "[Epoch 17] [Batch 500] Loss: 1.2858\n",
      "[Epoch 17] [Batch 600] Loss: 1.2884\n",
      "[Epoch 17] [Batch 700] Loss: 1.3059\n",
      "[Epoch 17] [Batch 800] Loss: 1.2891\n",
      "[Epoch 17] [Batch 900] Loss: 1.2920\n",
      "[Epoch 17] [Batch 1000] Loss: 1.2761\n",
      "[Epoch 17] [Batch 1100] Loss: 1.2782\n",
      "[Epoch 17] [Batch 1200] Loss: 1.2738\n",
      "[Epoch 17] [Batch 1300] Loss: 1.2993\n",
      "[Epoch 17] [Batch 1400] Loss: 1.2965\n",
      "[Epoch 17] [Batch 1500] Loss: 1.2831\n",
      "[Epoch 17] [Batch 1600] Loss: 1.2801\n",
      "[Epoch 17] [Batch 1700] Loss: 1.2822\n",
      "[Epoch 17] [Batch 1800] Loss: 1.2811\n",
      "[Epoch 17] [Batch 1900] Loss: 1.3180\n",
      "[Epoch 17] [Batch 2000] Loss: 1.2872\n",
      "[Epoch 17] [Batch 2100] Loss: 1.2966\n",
      "[Epoch 17] [Batch 2200] Loss: 1.2899\n",
      "[Epoch 17] [Batch 2300] Loss: 1.2732\n",
      "[Epoch 17] [Batch 2400] Loss: 1.2871\n",
      "[Epoch 17] [Batch 2500] Loss: 1.3069\n",
      "[Epoch 17] [Batch 2600] Loss: 1.2896\n",
      "[Epoch 17] [Batch 2700] Loss: 1.2964\n",
      "[Epoch 17] [Batch 2800] Loss: 1.2499\n",
      "[Epoch 17] [Batch 2900] Loss: 1.2947\n",
      "[Epoch 17] [Batch 3000] Loss: 1.2879\n",
      "[Epoch 17] [Batch 3100] Loss: 1.2786\n",
      "[Epoch 17] [Batch 3200] Loss: 1.2915\n",
      "[Epoch 17] [Batch 3300] Loss: 1.2911\n",
      "[Epoch 17] [Batch 3400] Loss: 1.2655\n",
      "[Epoch 17] [Batch 3500] Loss: 1.3053\n",
      "[Epoch 17] [Batch 3600] Loss: 1.2809\n",
      "[Epoch 17] [Batch 3700] Loss: 1.2849\n",
      "[Epoch 17] [Batch 3800] Loss: 1.2872\n",
      "[Epoch 17] [Batch 3900] Loss: 1.2947\n",
      "[Epoch 17] [Batch 4000] Loss: 1.2799\n",
      "[Epoch 17] [Batch 4100] Loss: 1.2711\n",
      "[Epoch 17] [Batch 4200] Loss: 1.2881\n",
      "[Epoch 17] [Batch 4300] Loss: 1.2822\n",
      "[Epoch 17] [Batch 4400] Loss: 1.3208\n",
      "[Epoch 17] [Batch 4500] Loss: 1.2692\n",
      "[Epoch 17] [Batch 4600] Loss: 1.2857\n",
      "[Epoch 17] [Batch 4700] Loss: 1.2921\n",
      "[Epoch 17] [Batch 4800] Loss: 1.2892\n",
      "[Epoch 17] [Batch 4900] Loss: 1.3036\n",
      "[Epoch 17] [Batch 5000] Loss: 1.2643\n",
      "****** Model checkpoint saved at epochs 17 ******\n"
     ]
    },
    {
     "data": {
      "image/png": "[encoded data removed]",
      "text/plain": [
       "<Figure size 432x288 with 1 Axes>"
      ]
     },
     "metadata": {
      "needs_background": "light"
     },
     "output_type": "display_data"
    },
    {
     "data": {
      "application/vnd.jupyter.widget-view+json": {
       "model_id": "0953a544ca5c42a9947476b2ede4ea21",
       "version_major": 2,
       "version_minor": 0
      },
      "text/plain": [
       "  0%|          | 0/51 [00:00<?, ?it/s]"
      ]
     },
     "metadata": {},
     "output_type": "display_data"
    },
    {
     "name": "stdout",
     "output_type": "stream",
     "text": [
      "[Epoch 17] Accuracy on the test set: 72.48%\n",
      "[Sample result]\n",
      "tensor([[1, 1],\n",
      "        [5, 5],\n",
      "        [8, 8],\n",
      "        [4, 4],\n",
      "        [6, 6],\n",
      "        [2, 2],\n",
      "        [3, 3],\n",
      "        [0, 0],\n",
      "        [7, 7]])\n",
      "Accuracy: 100.00%\n"
     ]
    },
    {
     "data": {
      "application/vnd.jupyter.widget-view+json": {
       "model_id": "06cf5163ae0147298f8d34460626a8cd",
       "version_major": 2,
       "version_minor": 0
      },
      "text/plain": [
       "  0%|          | 0/5005 [00:00<?, ?it/s]"
      ]
     },
     "metadata": {},
     "output_type": "display_data"
    },
    {
     "name": "stdout",
     "output_type": "stream",
     "text": [
      "[Epoch 18] [Batch 100] Loss: 1.2851\n",
      "[Epoch 18] [Batch 200] Loss: 1.2601\n",
      "[Epoch 18] [Batch 300] Loss: 1.2669\n",
      "[Epoch 18] [Batch 400] Loss: 1.2795\n",
      "[Epoch 18] [Batch 500] Loss: 1.2887\n",
      "[Epoch 18] [Batch 600] Loss: 1.2779\n",
      "[Epoch 18] [Batch 700] Loss: 1.2812\n",
      "[Epoch 18] [Batch 800] Loss: 1.2479\n",
      "[Epoch 18] [Batch 900] Loss: 1.2463\n",
      "[Epoch 18] [Batch 1000] Loss: 1.2767\n",
      "[Epoch 18] [Batch 1100] Loss: 1.2559\n",
      "[Epoch 18] [Batch 1200] Loss: 1.2655\n",
      "[Epoch 18] [Batch 1300] Loss: 1.2538\n",
      "[Epoch 18] [Batch 1400] Loss: 1.2664\n",
      "[Epoch 18] [Batch 1500] Loss: 1.2627\n",
      "[Epoch 18] [Batch 1600] Loss: 1.2613\n",
      "[Epoch 18] [Batch 1700] Loss: 1.2654\n",
      "[Epoch 18] [Batch 1800] Loss: 1.2719\n",
      "[Epoch 18] [Batch 1900] Loss: 1.2503\n",
      "[Epoch 18] [Batch 2000] Loss: 1.2543\n",
      "[Epoch 18] [Batch 2100] Loss: 1.2575\n",
      "[Epoch 18] [Batch 2200] Loss: 1.2388\n",
      "[Epoch 18] [Batch 2300] Loss: 1.2530\n",
      "[Epoch 18] [Batch 2400] Loss: 1.2524\n",
      "[Epoch 18] [Batch 2500] Loss: 1.2324\n",
      "[Epoch 18] [Batch 2600] Loss: 1.2579\n",
      "[Epoch 18] [Batch 2700] Loss: 1.2404\n",
      "[Epoch 18] [Batch 2800] Loss: 1.2552\n",
      "[Epoch 18] [Batch 2900] Loss: 1.2622\n",
      "[Epoch 18] [Batch 3000] Loss: 1.2681\n",
      "[Epoch 18] [Batch 3100] Loss: 1.2539\n",
      "[Epoch 18] [Batch 3200] Loss: 1.2710\n",
      "[Epoch 18] [Batch 3300] Loss: 1.2760\n",
      "[Epoch 18] [Batch 3400] Loss: 1.2612\n",
      "[Epoch 18] [Batch 3500] Loss: 1.2466\n",
      "[Epoch 18] [Batch 3600] Loss: 1.2529\n",
      "[Epoch 18] [Batch 3700] Loss: 1.2601\n",
      "[Epoch 18] [Batch 3800] Loss: 1.2675\n",
      "[Epoch 18] [Batch 3900] Loss: 1.2580\n",
      "[Epoch 18] [Batch 4000] Loss: 1.2722\n",
      "[Epoch 18] [Batch 4100] Loss: 1.2608\n",
      "[Epoch 18] [Batch 4200] Loss: 1.2550\n",
      "[Epoch 18] [Batch 4300] Loss: 1.2510\n",
      "[Epoch 18] [Batch 4400] Loss: 1.2602\n",
      "[Epoch 18] [Batch 4500] Loss: 1.2454\n",
      "[Epoch 18] [Batch 4600] Loss: 1.2775\n",
      "[Epoch 18] [Batch 4700] Loss: 1.2445\n",
      "[Epoch 18] [Batch 4800] Loss: 1.2369\n",
      "[Epoch 18] [Batch 4900] Loss: 1.2556\n",
      "[Epoch 18] [Batch 5000] Loss: 1.2411\n",
      "****** Model checkpoint saved at epochs 18 ******\n"
     ]
    },
    {
     "data": {
      "image/png": "[encoded data removed]",
      "text/plain": [
       "<Figure size 432x288 with 1 Axes>"
      ]
     },
     "metadata": {
      "needs_background": "light"
     },
     "output_type": "display_data"
    },
    {
     "data": {
      "application/vnd.jupyter.widget-view+json": {
       "model_id": "ce0819ea436748c8b08d16a7d7ccce95",
       "version_major": 2,
       "version_minor": 0
      },
      "text/plain": [
       "  0%|          | 0/51 [00:00<?, ?it/s]"
      ]
     },
     "metadata": {},
     "output_type": "display_data"
    },
    {
     "name": "stdout",
     "output_type": "stream",
     "text": [
      "[Epoch 18] Accuracy on the test set: 73.07%\n",
      "[Sample result]\n",
      "tensor([[1, 1],\n",
      "        [5, 5],\n",
      "        [8, 8],\n",
      "        [4, 4],\n",
      "        [6, 6],\n",
      "        [2, 2],\n",
      "        [3, 3],\n",
      "        [0, 0],\n",
      "        [7, 7]])\n",
      "Accuracy: 100.00%\n"
     ]
    },
    {
     "data": {
      "application/vnd.jupyter.widget-view+json": {
       "model_id": "7bec48e448b54b918838987825a06a73",
       "version_major": 2,
       "version_minor": 0
      },
      "text/plain": [
       "  0%|          | 0/5005 [00:00<?, ?it/s]"
      ]
     },
     "metadata": {},
     "output_type": "display_data"
    },
    {
     "name": "stdout",
     "output_type": "stream",
     "text": [
      "[Epoch 19] [Batch 100] Loss: 1.2663\n",
      "[Epoch 19] [Batch 200] Loss: 1.2470\n",
      "[Epoch 19] [Batch 300] Loss: 1.2457\n",
      "[Epoch 19] [Batch 400] Loss: 1.2333\n",
      "[Epoch 19] [Batch 500] Loss: 1.2568\n",
      "[Epoch 19] [Batch 600] Loss: 1.2414\n",
      "[Epoch 19] [Batch 700] Loss: 1.2439\n",
      "[Epoch 19] [Batch 800] Loss: 1.2456\n",
      "[Epoch 19] [Batch 900] Loss: 1.2402\n",
      "[Epoch 19] [Batch 1000] Loss: 1.2492\n",
      "[Epoch 19] [Batch 1100] Loss: 1.2484\n",
      "[Epoch 19] [Batch 1200] Loss: 1.2711\n",
      "[Epoch 19] [Batch 1300] Loss: 1.2377\n",
      "[Epoch 19] [Batch 1400] Loss: 1.2149\n",
      "[Epoch 19] [Batch 1500] Loss: 1.2447\n",
      "[Epoch 19] [Batch 1600] Loss: 1.2384\n",
      "[Epoch 19] [Batch 1700] Loss: 1.2379\n",
      "[Epoch 19] [Batch 1800] Loss: 1.2225\n",
      "[Epoch 19] [Batch 1900] Loss: 1.2282\n",
      "[Epoch 19] [Batch 2000] Loss: 1.2391\n",
      "[Epoch 19] [Batch 2100] Loss: 1.2525\n",
      "[Epoch 19] [Batch 2200] Loss: 1.2374\n",
      "[Epoch 19] [Batch 2300] Loss: 1.2412\n",
      "[Epoch 19] [Batch 2400] Loss: 1.2498\n",
      "[Epoch 19] [Batch 2500] Loss: 1.2298\n",
      "[Epoch 19] [Batch 2600] Loss: 1.2360\n",
      "[Epoch 19] [Batch 2700] Loss: 1.2375\n",
      "[Epoch 19] [Batch 2800] Loss: 1.2470\n",
      "[Epoch 19] [Batch 2900] Loss: 1.2634\n",
      "[Epoch 19] [Batch 3000] Loss: 1.2234\n",
      "[Epoch 19] [Batch 3100] Loss: 1.2572\n",
      "[Epoch 19] [Batch 3200] Loss: 1.2443\n",
      "[Epoch 19] [Batch 3300] Loss: 1.2465\n",
      "[Epoch 19] [Batch 3400] Loss: 1.2579\n",
      "[Epoch 19] [Batch 3500] Loss: 1.2438\n",
      "[Epoch 19] [Batch 3600] Loss: 1.2437\n",
      "[Epoch 19] [Batch 3700] Loss: 1.2380\n",
      "[Epoch 19] [Batch 3800] Loss: 1.2372\n",
      "[Epoch 19] [Batch 3900] Loss: 1.2554\n",
      "[Epoch 19] [Batch 4000] Loss: 1.2433\n",
      "[Epoch 19] [Batch 4100] Loss: 1.2325\n",
      "[Epoch 19] [Batch 4200] Loss: 1.2337\n",
      "[Epoch 19] [Batch 4300] Loss: 1.2371\n",
      "[Epoch 19] [Batch 4400] Loss: 1.2276\n",
      "[Epoch 19] [Batch 4500] Loss: 1.2470\n",
      "[Epoch 19] [Batch 4600] Loss: 1.2619\n",
      "[Epoch 19] [Batch 4700] Loss: 1.2155\n",
      "[Epoch 19] [Batch 4800] Loss: 1.2314\n",
      "[Epoch 19] [Batch 4900] Loss: 1.2483\n",
      "[Epoch 19] [Batch 5000] Loss: 1.2432\n",
      "****** Model checkpoint saved at epochs 19 ******\n"
     ]
    },
    {
     "data": {
      "image/png": "[encoded data removed]",
      "text/plain": [
       "<Figure size 432x288 with 1 Axes>"
      ]
     },
     "metadata": {
      "needs_background": "light"
     },
     "output_type": "display_data"
    },
    {
     "data": {
      "application/vnd.jupyter.widget-view+json": {
       "model_id": "5c51f5c483384e379b35947ff648d564",
       "version_major": 2,
       "version_minor": 0
      },
      "text/plain": [
       "  0%|          | 0/51 [00:00<?, ?it/s]"
      ]
     },
     "metadata": {},
     "output_type": "display_data"
    },
    {
     "name": "stdout",
     "output_type": "stream",
     "text": [
      "[Epoch 19] Accuracy on the test set: 73.34%\n",
      "[Sample result]\n",
      "tensor([[1, 1],\n",
      "        [5, 5],\n",
      "        [8, 8],\n",
      "        [4, 4],\n",
      "        [6, 6],\n",
      "        [2, 2],\n",
      "        [3, 3],\n",
      "        [0, 0],\n",
      "        [7, 7]])\n",
      "Accuracy: 100.00%\n"
     ]
    },
    {
     "data": {
      "application/vnd.jupyter.widget-view+json": {
       "model_id": "0c47b7efe32a40468e6101d3283aa446",
       "version_major": 2,
       "version_minor": 0
      },
      "text/plain": [
       "  0%|          | 0/5005 [00:00<?, ?it/s]"
      ]
     },
     "metadata": {},
     "output_type": "display_data"
    },
    {
     "name": "stdout",
     "output_type": "stream",
     "text": [
      "[Epoch 20] [Batch 100] Loss: 1.2431\n",
      "[Epoch 20] [Batch 200] Loss: 1.2261\n",
      "[Epoch 20] [Batch 300] Loss: 1.2606\n",
      "[Epoch 20] [Batch 400] Loss: 1.2270\n",
      "[Epoch 20] [Batch 500] Loss: 1.2481\n",
      "[Epoch 20] [Batch 600] Loss: 1.2313\n",
      "[Epoch 20] [Batch 700] Loss: 1.2358\n",
      "[Epoch 20] [Batch 800] Loss: 1.2247\n",
      "[Epoch 20] [Batch 900] Loss: 1.2366\n",
      "[Epoch 20] [Batch 1000] Loss: 1.2384\n",
      "[Epoch 20] [Batch 1100] Loss: 1.2297\n",
      "[Epoch 20] [Batch 1200] Loss: 1.2373\n",
      "[Epoch 20] [Batch 1300] Loss: 1.2514\n",
      "[Epoch 20] [Batch 1400] Loss: 1.2445\n",
      "[Epoch 20] [Batch 1500] Loss: 1.2616\n",
      "[Epoch 20] [Batch 1600] Loss: 1.2426\n",
      "[Epoch 20] [Batch 1700] Loss: 1.2171\n",
      "[Epoch 20] [Batch 1800] Loss: 1.2464\n",
      "[Epoch 20] [Batch 1900] Loss: 1.2204\n",
      "[Epoch 20] [Batch 2000] Loss: 1.2194\n",
      "[Epoch 20] [Batch 2100] Loss: 1.2386\n",
      "[Epoch 20] [Batch 2200] Loss: 1.2342\n",
      "[Epoch 20] [Batch 2300] Loss: 1.2362\n",
      "[Epoch 20] [Batch 2400] Loss: 1.2467\n",
      "[Epoch 20] [Batch 2500] Loss: 1.2472\n",
      "[Epoch 20] [Batch 2600] Loss: 1.2244\n",
      "[Epoch 20] [Batch 2700] Loss: 1.2373\n",
      "[Epoch 20] [Batch 2800] Loss: 1.2397\n",
      "[Epoch 20] [Batch 2900] Loss: 1.2413\n",
      "[Epoch 20] [Batch 3000] Loss: 1.2245\n",
      "[Epoch 20] [Batch 3100] Loss: 1.2236\n",
      "[Epoch 20] [Batch 3200] Loss: 1.2431\n",
      "[Epoch 20] [Batch 3300] Loss: 1.2390\n",
      "[Epoch 20] [Batch 3400] Loss: 1.2281\n",
      "[Epoch 20] [Batch 3500] Loss: 1.2277\n",
      "[Epoch 20] [Batch 3600] Loss: 1.2304\n",
      "[Epoch 20] [Batch 3700] Loss: 1.2615\n",
      "[Epoch 20] [Batch 3800] Loss: 1.2176\n",
      "[Epoch 20] [Batch 3900] Loss: 1.2314\n",
      "[Epoch 20] [Batch 4000] Loss: 1.2051\n",
      "[Epoch 20] [Batch 4100] Loss: 1.2331\n",
      "[Epoch 20] [Batch 4200] Loss: 1.2260\n",
      "[Epoch 20] [Batch 4300] Loss: 1.2345\n",
      "[Epoch 20] [Batch 4400] Loss: 1.2314\n",
      "[Epoch 20] [Batch 4500] Loss: 1.2494\n",
      "[Epoch 20] [Batch 4600] Loss: 1.2143\n",
      "[Epoch 20] [Batch 4700] Loss: 1.2090\n",
      "[Epoch 20] [Batch 4800] Loss: 1.2409\n",
      "[Epoch 20] [Batch 4900] Loss: 1.2479\n",
      "[Epoch 20] [Batch 5000] Loss: 1.2335\n",
      "****** Model checkpoint saved at epochs 20 ******\n"
     ]
    },
    {
     "data": {
      "image/png": "[encoded data removed]",
      "text/plain": [
       "<Figure size 432x288 with 1 Axes>"
      ]
     },
     "metadata": {
      "needs_background": "light"
     },
     "output_type": "display_data"
    },
    {
     "data": {
      "application/vnd.jupyter.widget-view+json": {
       "model_id": "68443cf5fcc543638348a8a249f551d9",
       "version_major": 2,
       "version_minor": 0
      },
      "text/plain": [
       "  0%|          | 0/51 [00:00<?, ?it/s]"
      ]
     },
     "metadata": {},
     "output_type": "display_data"
    },
    {
     "name": "stdout",
     "output_type": "stream",
     "text": [
      "[Epoch 20] Accuracy on the test set: 72.95%\n",
      "[Sample result]\n",
      "tensor([[5, 1],\n",
      "        [2, 5],\n",
      "        [8, 8],\n",
      "        [1, 4],\n",
      "        [6, 6],\n",
      "        [4, 2],\n",
      "        [0, 3],\n",
      "        [7, 0],\n",
      "        [3, 7]])\n",
      "Accuracy: 22.22%\n",
      "****** Finished Fine-tuning ******\n",
      "****** Model checkpoint saved at epochs 20 ******\n"
     ]
    }
   ],
   "source": [
    "if __name__ == '__main__':\n",
    "    trainer = PreTrainer()\n",
    "    trainer.process(load=False)"
   ]
  },
  {
   "cell_type": "code",
   "execution_count": 8,
   "id": "9721e44b",
   "metadata": {
    "ExecuteTime": {
     "end_time": "2024-04-05T01:51:41.857579Z",
     "start_time": "2024-04-05T01:51:41.850519Z"
    }
   },
   "outputs": [
    {
     "data": {
      "text/plain": [
       "'\\nepochs 5에서 사전 테스트\\n\\npermutation = 1000, shortcut 방지x, +Adam\\n-> batch_size=256, lr=2e-05 : 97.69%\\n-> batch_size=256, lr=3e-05 : 97.97%\\n-> batch_size=256, lr=4e-05 : 97.92%\\n-> batch_size=256, lr=5e-05 : 98.24%\\n-> Acc 너무 높음. 평가 불가. shortcut 방지 필요함.\\n\\npermutation = 1000, shortcut 방지o, +Adam\\n-> batch_size=256, lr=4e-05 : 33.44%\\n-> batch_size=256, lr=5e-05 : 37.61%\\n-> batch_size=256, lr=6e-05 : 38.69%\\n-> batch_size=256, lr=7e-05 : 40.13%  -> epochs 20, 73.34% (더 진행하면 떨어짐, 과적합)\\n-> batch_size=256, lr=8e-05 : 37.94%\\n-> batch_size=256, lr=9e-05 : 38.66%\\n-> batch_size=256, lr=1e-04 : 11.06%\\n\\n\\n1 에포크 = 3시간 반\\n5 에포크 = 17시간 반\\n'"
      ]
     },
     "execution_count": 8,
     "metadata": {},
     "output_type": "execute_result"
    }
   ],
   "source": [
    "'''\n",
    "epochs 5에서 사전 테스트\n",
    "\n",
    "permutation = 1000, shortcut 방지x, +Adam\n",
    "-> batch_size=256, lr=2e-05 : 97.69%\n",
    "-> batch_size=256, lr=3e-05 : 97.97%\n",
    "-> batch_size=256, lr=4e-05 : 97.92%\n",
    "-> batch_size=256, lr=5e-05 : 98.24%\n",
    "-> Acc 너무 높음. 평가 불가. shortcut 방지 필요함.\n",
    "\n",
    "permutation = 1000, shortcut 방지o, +Adam\n",
    "-> batch_size=256, lr=4e-05 : 33.44%\n",
    "-> batch_size=256, lr=5e-05 : 37.61%\n",
    "-> batch_size=256, lr=6e-05 : 38.69%\n",
    "-> batch_size=256, lr=7e-05 : 40.13%  -> epochs 20, 73.34% (더 진행하면 떨어짐, 과적합)\n",
    "-> batch_size=256, lr=8e-05 : 37.94%\n",
    "-> batch_size=256, lr=9e-05 : 38.66%\n",
    "-> batch_size=256, lr=1e-04 : 11.06%\n",
    "\n",
    "\n",
    "1 에포크 = 3시간 반\n",
    "5 에포크 = 17시간 반\n",
    "'''"
   ]
  }
 ],
 "metadata": {
  "kernelspec": {
   "display_name": "Python 3",
   "language": "python",
   "name": "python3"
  },
  "language_info": {
   "codemirror_mode": {
    "name": "ipython",
    "version": 3
   },
   "file_extension": ".py",
   "mimetype": "text/x-python",
   "name": "python",
   "nbconvert_exporter": "python",
   "pygments_lexer": "ipython3",
   "version": "3.6.9"
  }
 },
 "nbformat": 4,
 "nbformat_minor": 5
}
