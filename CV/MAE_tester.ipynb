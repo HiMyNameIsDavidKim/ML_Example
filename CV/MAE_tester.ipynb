{
 "cells": [
  {
   "cell_type": "markdown",
   "id": "7d63f16a",
   "metadata": {},
   "source": [
    "# Tester"
   ]
  },
  {
   "cell_type": "code",
   "execution_count": 1,
   "id": "b1f6ca22",
   "metadata": {},
   "outputs": [
    {
     "name": "stdout",
     "output_type": "stream",
     "text": [
      "[0, 1, 2, 3]\n",
      "['NVIDIA GeForce RTX 3090', 'NVIDIA GeForce RTX 3090', 'NVIDIA GeForce RTX 3090', 'NVIDIA GeForce RTX 3090']\n"
     ]
    }
   ],
   "source": [
    "import torch\n",
    "import torch.nn as nn\n",
    "import torchvision.transforms as transforms\n",
    "from torch.optim import Adam, SGD\n",
    "from torch.optim.lr_scheduler import CosineAnnealingLR\n",
    "import torch.utils.data as data\n",
    "import torchvision\n",
    "from torch.utils.data import random_split\n",
    "from tqdm import tqdm, tqdm_notebook\n",
    "import torch.nn.functional as F\n",
    "import math\n",
    "from functools import partial\n",
    "import matplotlib.pyplot as plt\n",
    "\n",
    "import facebook_vit\n",
    "from mae_util import interpolate_pos_embed\n",
    "from timm.models.layers import trunc_normal_\n",
    "from facebook_mae import MaskedAutoencoderViT\n",
    "\n",
    "gpu_ids = []\n",
    "device_names = []\n",
    "if torch.cuda.is_available():\n",
    "    for gpu_id in range(torch.cuda.device_count()):\n",
    "        gpu_ids += [gpu_id]\n",
    "        device_names += [torch.cuda.get_device_name(gpu_id)]\n",
    "print(gpu_ids)\n",
    "print(device_names)\n",
    "\n",
    "if len(gpu_ids) > 1:\n",
    "    gpu = 'cuda:' + str(gpu_ids[2])  # GPU Number\n",
    "else:\n",
    "    gpu = \"cuda\" if torch.cuda.is_available() else \"cpu\""
   ]
  },
  {
   "cell_type": "code",
   "execution_count": 2,
   "id": "11a12ca0",
   "metadata": {},
   "outputs": [],
   "source": [
    "device = gpu\n",
    "BATCH_SIZE = 2048  # 1024\n",
    "NUM_EPOCHS = 15  # 100\n",
    "WARMUP_EPOCHS = 5  # 5\n",
    "NUM_WORKERS = 2\n",
    "LEARNING_RATE = 6.25e-06  # 1e-03\n",
    "model_path = './save/mae_vit_base_i2012_ep15_lr6.25e-07.pt'"
   ]
  },
  {
   "cell_type": "code",
   "execution_count": 3,
   "id": "fc5423d4",
   "metadata": {},
   "outputs": [],
   "source": [
    "transform_train = transforms.Compose([\n",
    "    transforms.RandomResizedCrop(224),\n",
    "    transforms.ToTensor(),\n",
    "    transforms.Normalize(mean=[0.5, 0.5, 0.5], std=[0.5, 0.5, 0.5])\n",
    "])\n",
    "transform_test = transforms.Compose([\n",
    "    transforms.RandomResizedCrop(224),\n",
    "    transforms.ToTensor(),\n",
    "    transforms.Normalize(mean=[0.5, 0.5, 0.5], std=[0.5, 0.5, 0.5])\n",
    "])\n",
    "train_set = torchvision.datasets.ImageFolder('../datasets/ImageNet/train', transform=transform_train)\n",
    "train_size = int(0.8 * len(train_set))\n",
    "val_size = len(train_set) - train_size\n",
    "train_set, val_set = random_split(train_set, [train_size, val_size])\n",
    "train_loader = data.DataLoader(train_set, batch_size=BATCH_SIZE, shuffle=True, num_workers=NUM_WORKERS)\n",
    "val_loader = torch.utils.data.DataLoader(val_set, batch_size=BATCH_SIZE, shuffle=True, num_workers=NUM_WORKERS)\n",
    "test_set = torchvision.datasets.ImageFolder('../datasets/ImageNet/val', transform=transform_test)\n",
    "test_loader = data.DataLoader(test_set, batch_size=BATCH_SIZE, shuffle=True, num_workers=NUM_WORKERS)"
   ]
  },
  {
   "cell_type": "code",
   "execution_count": 4,
   "id": "b0633e0a",
   "metadata": {},
   "outputs": [],
   "source": [
    "class TesterFacebook(object):\n",
    "    def __init__(self):\n",
    "        self.model = None\n",
    "        self.epochs = [0]\n",
    "        self.losses = [0]\n",
    "        self.accuracies = [0]\n",
    "\n",
    "    def process(self):\n",
    "        self.build_model()\n",
    "        self.eval_model()\n",
    "\n",
    "    def build_model(self):\n",
    "        self.model = facebook_vit.__dict__['vit_base_patch16'](\n",
    "            num_classes=1000,\n",
    "            drop_path_rate=0.1,\n",
    "        )\n",
    "        checkpoint = torch.load(model_path)\n",
    "        self.model.load_state_dict(checkpoint['model'])\n",
    "        self.model.to(device)\n",
    "        self.epochs = checkpoint['epochs']\n",
    "        self.losses = checkpoint['losses']\n",
    "        self.accuracies = checkpoint['accuracies']\n",
    "        print(f'Parameter: {sum(p.numel() for p in self.model.parameters() if p.requires_grad)}')\n",
    "        print(f'Epochs: {self.epochs[-1]}')\n",
    "\n",
    "    def eval_model(self):\n",
    "        self.model.eval()\n",
    "\n",
    "        correct = 0\n",
    "        total = 0\n",
    "        with torch.no_grad():\n",
    "            for i, data in tqdm_notebook(enumerate(test_loader, 0), total=len(test_loader)):\n",
    "                images, labels = data\n",
    "                images, labels = images.to(device), labels.to(device)\n",
    "                outputs = self.model(images)\n",
    "                _, predicted = torch.max(outputs.data, 1)\n",
    "                total += labels.size(0)\n",
    "                correct += (predicted == labels).sum().item()\n",
    "        acc_test = 100 * correct / total\n",
    "        print(f'Accuracy of {len(test_set)} test images: {acc_test:.2f} %')\n",
    "\n",
    "        correct = 0\n",
    "        total = 0\n",
    "        with torch.no_grad():\n",
    "            for i, data in tqdm_notebook(enumerate(val_loader, 0), total=len(val_loader)):\n",
    "                images, labels = data\n",
    "                images, labels = images.to(device), labels.to(device)\n",
    "                outputs = self.model(images)\n",
    "                _, predicted = torch.max(outputs.data, 1)\n",
    "                total += labels.size(0)\n",
    "                correct += (predicted == labels).sum().item()\n",
    "        acc_val = 100 * correct / total\n",
    "        print(f'Accuracy of {len(val_set)} val images: {acc_val:.2f} %')\n",
    "\n",
    "        print(f'Accuracy of test: {acc_test:.2f} %, Accuracy of val: {acc_val:.2f} %')\n",
    "        \n",
    "    def lr_checker(self):\n",
    "        self.build_model()\n",
    "        model = self.model\n",
    "        criterion = nn.CrossEntropyLoss()\n",
    "        optimizer = SGD(model.parameters(), lr=LEARNING_RATE, momentum=0.9)\n",
    "        scheduler = CosineAnnealingLR(optimizer, T_max=NUM_EPOCHS)\n",
    "        \n",
    "        for epoch in range(NUM_EPOCHS):\n",
    "            if epoch < WARMUP_EPOCHS:\n",
    "                lr_warmup = ((epoch + 1) / WARMUP_EPOCHS) * LEARNING_RATE\n",
    "                for param_group in optimizer.param_groups:\n",
    "                    param_group['lr'] = lr_warmup\n",
    "                if epoch + 1 == WARMUP_EPOCHS:\n",
    "                    scheduler = CosineAnnealingLR(optimizer, T_max=NUM_EPOCHS)\n",
    "            lr_now = optimizer.param_groups[0]['lr']\n",
    "            print(f'epoch {epoch+1} learning rate(={round(lr_now/LEARNING_RATE*100)}%) : {lr_now} ')\n",
    "            scheduler.step()"
   ]
  },
  {
   "cell_type": "code",
   "execution_count": 5,
   "id": "9e1fce31",
   "metadata": {},
   "outputs": [],
   "source": [
    "def visualTwinx(losses, accuracies):\n",
    "    fig, ax1 = plt.subplots()\n",
    "    lim_loss = (0.5, 7)\n",
    "    lim_acc = (0, 90)\n",
    "\n",
    "    ax1.plot(losses, 'b', label='Loss')\n",
    "    ax1.set_xlabel('Epochs')\n",
    "    ax1.set_ylabel('Loss', color='b')\n",
    "    ax1.tick_params('y', colors='b')\n",
    "    ax1.set_ylim(lim_loss)\n",
    "    ax1.set_title('Training Losses and Accuracies')\n",
    "\n",
    "    ax2 = ax1.twinx()\n",
    "    ax2.plot(accuracies, 'r', label='Accuracy')\n",
    "    ax2.set_ylabel('Accuracy', color='r')\n",
    "    ax2.tick_params('y', colors='r')\n",
    "    ax2.set_ylim(lim_acc)\n",
    "\n",
    "    plt.xticks(range(0, len(losses), 20), range(0, len(losses)//20))\n",
    "\n",
    "    plt.show()"
   ]
  },
  {
   "cell_type": "code",
   "execution_count": 6,
   "id": "8f3c8ffc",
   "metadata": {},
   "outputs": [
    {
     "name": "stdout",
     "output_type": "stream",
     "text": [
      "Parameter: 86567656\n",
      "Epochs: 15\n",
      "epoch 1 learning rate(=20%) : 1.25e-06 \n",
      "epoch 2 learning rate(=40%) : 2.5e-06 \n",
      "epoch 3 learning rate(=60%) : 3.75e-06 \n",
      "epoch 4 learning rate(=80%) : 5e-06 \n",
      "epoch 5 learning rate(=100%) : 6.25e-06 \n",
      "epoch 6 learning rate(=99%) : 6.181711252293143e-06 \n",
      "epoch 7 learning rate(=96%) : 5.979829555133128e-06 \n",
      "epoch 8 learning rate(=90%) : 5.653178107421711e-06 \n",
      "epoch 9 learning rate(=83%) : 5.216033144871432e-06 \n",
      "epoch 10 learning rate(=75%) : 4.6875000000000004e-06 \n",
      "epoch 11 learning rate(=65%) : 4.090678107421711e-06 \n",
      "epoch 12 learning rate(=55%) : 3.451651447711418e-06 \n",
      "epoch 13 learning rate(=45%) : 2.798348552288584e-06 \n",
      "epoch 14 learning rate(=35%) : 2.15932189257829e-06 \n",
      "epoch 15 learning rate(=25%) : 1.5625000000000011e-06 \n"
     ]
    },
    {
     "name": "stderr",
     "output_type": "stream",
     "text": [
      "/home/idea/.local/lib/python3.6/site-packages/torch/optim/lr_scheduler.py:136: UserWarning: Detected call of `lr_scheduler.step()` before `optimizer.step()`. In PyTorch 1.1.0 and later, you should call them in the opposite order: `optimizer.step()` before `lr_scheduler.step()`.  Failure to do this will result in PyTorch skipping the first value of the learning rate schedule. See more details at https://pytorch.org/docs/stable/optim.html#how-to-adjust-learning-rate\n",
      "  \"https://pytorch.org/docs/stable/optim.html#how-to-adjust-learning-rate\", UserWarning)\n"
     ]
    }
   ],
   "source": [
    "if __name__ == '__main__':\n",
    "    t = TesterFacebook()\n",
    "    t.lr_checker()"
   ]
  },
  {
   "cell_type": "code",
   "execution_count": 7,
   "id": "516cdb8a",
   "metadata": {
    "scrolled": true
   },
   "outputs": [
    {
     "name": "stdout",
     "output_type": "stream",
     "text": [
      "Parameter: 86567656\n",
      "Epochs: 15\n"
     ]
    },
    {
     "data": {
      "image/png": "[encoded data removed]",
      "text/plain": [
       "<Figure size 432x288 with 2 Axes>"
      ]
     },
     "metadata": {
      "needs_background": "light"
     },
     "output_type": "display_data"
    }
   ],
   "source": [
    "if __name__ == '__main__':\n",
    "    t = TesterFacebook()\n",
    "    t.build_model()\n",
    "    visualTwinx(t.losses, t.accuracies)"
   ]
  },
  {
   "cell_type": "code",
   "execution_count": 8,
   "id": "7dcfc8d6",
   "metadata": {},
   "outputs": [
    {
     "name": "stdout",
     "output_type": "stream",
     "text": [
      "Parameter: 86567656\n",
      "Epochs: 15\n"
     ]
    },
    {
     "name": "stderr",
     "output_type": "stream",
     "text": [
      "/usr/local/lib/python3.6/dist-packages/ipykernel_launcher.py:32: TqdmDeprecationWarning: This function will be removed in tqdm==5.0.0\n",
      "Please use `tqdm.notebook.tqdm` instead of `tqdm.tqdm_notebook`\n"
     ]
    },
    {
     "data": {
      "application/vnd.jupyter.widget-view+json": {
       "model_id": "01d000bc4d2e4e9c831a347ec57b0874",
       "version_major": 2,
       "version_minor": 0
      },
      "text/plain": [
       "  0%|          | 0/25 [00:00<?, ?it/s]"
      ]
     },
     "metadata": {},
     "output_type": "display_data"
    },
    {
     "name": "stdout",
     "output_type": "stream",
     "text": [
      "Accuracy of 50000 test images: 73.23 %\n"
     ]
    },
    {
     "name": "stderr",
     "output_type": "stream",
     "text": [
      "/usr/local/lib/python3.6/dist-packages/ipykernel_launcher.py:45: TqdmDeprecationWarning: This function will be removed in tqdm==5.0.0\n",
      "Please use `tqdm.notebook.tqdm` instead of `tqdm.tqdm_notebook`\n"
     ]
    },
    {
     "data": {
      "application/vnd.jupyter.widget-view+json": {
       "model_id": "ce875ab4a6fa4cb29086e28227eec2b7",
       "version_major": 2,
       "version_minor": 0
      },
      "text/plain": [
       "  0%|          | 0/126 [00:00<?, ?it/s]"
      ]
     },
     "metadata": {},
     "output_type": "display_data"
    },
    {
     "name": "stdout",
     "output_type": "stream",
     "text": [
      "Accuracy of 256234 val images: 80.05 %\n",
      "Accuracy of test: 73.23 %, Accuracy of val: 80.05 %\n"
     ]
    }
   ],
   "source": [
    "if __name__ == '__main__':\n",
    "    t = TesterFacebook()\n",
    "    [t.process() for i in range(1)]"
   ]
  }
 ],
 "metadata": {
  "kernelspec": {
   "display_name": "Python 3",
   "language": "python",
   "name": "python3"
  },
  "language_info": {
   "codemirror_mode": {
    "name": "ipython",
    "version": 3
   },
   "file_extension": ".py",
   "mimetype": "text/x-python",
   "name": "python",
   "nbconvert_exporter": "python",
   "pygments_lexer": "ipython3",
   "version": "3.6.9"
  }
 },
 "nbformat": 4,
 "nbformat_minor": 5
}
